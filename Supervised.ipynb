{
 "cells": [
  {
   "cell_type": "code",
   "execution_count": 8,
   "metadata": {},
   "outputs": [],
   "source": [
    "import pandas as pd\n",
    "import numpy as np\n",
    "import matplotlib.pyplot as plt\n",
    "\n",
    "from sklearn.model_selection import KFold\n",
    "from sklearn.model_selection import train_test_split, cross_val_score, GridSearchCV, RandomizedSearchCV\n",
    "from sklearn.metrics import classification_report, confusion_matrix, f1_score, accuracy_score\n",
    "from imblearn.over_sampling import SMOTE\n",
    "\n",
    "from sklearn import tree\n",
    "from sklearn.ensemble import RandomForestClassifier\n",
    "from sklearn.naive_bayes import GaussianNB, BernoulliNB, MultinomialNB\n",
    "from sklearn.neighbors import KNeighborsClassifier\n",
    "from sklearn.linear_model import LogisticRegression"
   ]
  },
  {
   "cell_type": "markdown",
   "metadata": {},
   "source": [
    "## Full - Binary Classification"
   ]
  },
  {
   "cell_type": "code",
   "execution_count": 2,
   "metadata": {},
   "outputs": [],
   "source": [
    "df = pd.read_csv('./Data/BINARY-DF.csv', index_col='PetID') # Classifications for generic DF with isPetAdopted as the target\n",
    "smote = SMOTE(sampling_strategy=0.8, random_state=42)\n",
    "\n",
    "kf = KFold(n_splits=5, shuffle=True, random_state=42)\n",
    "X, y = df.drop(columns='isPetAdopted'), df['isPetAdopted']\n",
    "\n",
    "\n",
    "foldScores = {}"
   ]
  },
  {
   "cell_type": "markdown",
   "metadata": {},
   "source": [
    "### Decision Tree"
   ]
  },
  {
   "cell_type": "code",
   "execution_count": 4,
   "metadata": {},
   "outputs": [
    {
     "name": "stdout",
     "output_type": "stream",
     "text": [
      "Starting Decision Tree # 1.\n",
      "Starting Decision Tree # 2.\n",
      "Starting Decision Tree # 3.\n",
      "Starting Decision Tree # 4.\n",
      "Starting Decision Tree # 5.\n",
      "              precision    recall  f1-score   support\n",
      "\n",
      "       False       0.46      0.58      0.51       739\n",
      "        True       0.83      0.75      0.79      2004\n",
      "\n",
      "    accuracy                           0.70      2743\n",
      "   macro avg       0.65      0.67      0.65      2743\n",
      "weighted avg       0.73      0.70      0.71      2743\n",
      "\n",
      "[[ 430  309]\n",
      " [ 501 1503]]\n"
     ]
    }
   ],
   "source": [
    "dtree = tree.DecisionTreeClassifier(random_state=42)\n",
    "\n",
    "dtree_param_grid = {\n",
    "    'max_depth': [3,5,10,15],\n",
    "    'min_samples_split': [2, 5, 10],\n",
    "    'min_samples_leaf': [1, 2, 4],\n",
    "    'criterion': ['gini', 'entropy'],\n",
    "    'max_features': [None, 'sqrt', 'log2']\n",
    "}\n",
    "\n",
    "f1_scores = []\n",
    "accuracy_scores = []\n",
    "\n",
    "for fold, (train_index, val_index) in enumerate(kf.split(X)):\n",
    "    X_train, X_val = X.iloc[train_index], X.iloc[val_index]\n",
    "    y_train, y_val = y.iloc[train_index], y.iloc[val_index]\n",
    "    X_train, y_train = smote.fit_resample(X_train, y_train)\n",
    "    \n",
    "    print(f\"Starting Decision Tree # {fold + 1}.\")\n",
    "    grid_search = GridSearchCV(estimator=dtree, param_grid=dtree_param_grid, cv=3, scoring='f1', n_jobs=-1)\n",
    "    grid_search.fit(X_train, y_train)\n",
    "\n",
    "    best_dtree = grid_search.best_estimator_\n",
    "    y_pred_val = best_dtree.predict(X_val)\n",
    "\n",
    "    f1 = f1_score(y_val, y_pred_val, average='weighted')  # Use 'weighted' or adjust based on your data\n",
    "    accuracy = accuracy_score(y_val, y_pred_val)\n",
    "\n",
    "    f1_scores.append(f1)\n",
    "    accuracy_scores.append(accuracy)\n",
    "\n",
    "foldScores['DTree'] = {\n",
    "    'F1-deviation': np.std(f1_scores),\n",
    "    'F1-average': np.mean(f1_scores),\n",
    "    'Accuracy-average': np.mean(accuracy_scores)\n",
    "}\n",
    "# Get Classification Report and Confusion Matrix only of last Fold\n",
    "print(classification_report(y_val, y_pred_val))\n",
    "print(confusion_matrix(y_val, y_pred_val))"
   ]
  },
  {
   "cell_type": "markdown",
   "metadata": {},
   "source": [
    "### Random Forest"
   ]
  },
  {
   "cell_type": "code",
   "execution_count": 6,
   "metadata": {},
   "outputs": [
    {
     "name": "stdout",
     "output_type": "stream",
     "text": [
      "Starting Decision Tree # 1.\n",
      "Starting Decision Tree # 2.\n",
      "Starting Decision Tree # 3.\n",
      "Starting Decision Tree # 4.\n",
      "Starting Decision Tree # 5.\n",
      "              precision    recall  f1-score   support\n",
      "\n",
      "       False       0.52      0.50      0.51       739\n",
      "        True       0.82      0.83      0.82      2004\n",
      "\n",
      "    accuracy                           0.74      2743\n",
      "   macro avg       0.67      0.66      0.67      2743\n",
      "weighted avg       0.74      0.74      0.74      2743\n",
      "\n",
      "[[ 369  370]\n",
      " [ 344 1660]]\n"
     ]
    }
   ],
   "source": [
    "rforest = RandomForestClassifier(random_state=42)\n",
    "\n",
    "param_grid = {\n",
    "    'max_depth': [3,5,10,15],\n",
    "    'min_samples_split': [2, 5, 10],\n",
    "    'min_samples_leaf': [1, 2, 4],\n",
    "    'criterion': ['gini', 'entropy'],\n",
    "    'max_features': [None, 'sqrt', 'log2']\n",
    "}\n",
    "\n",
    "f1_scores = []\n",
    "accuracy_scores = []\n",
    "\n",
    "for fold, (train_index, val_index) in enumerate(kf.split(X)):\n",
    "    X_train, X_val = X.iloc[train_index], X.iloc[val_index]\n",
    "    y_train, y_val = y.iloc[train_index], y.iloc[val_index]\n",
    "    X_train, y_train = smote.fit_resample(X_train, y_train)\n",
    "    \n",
    "    print(f\"Starting Decision Tree # {fold + 1}.\")\n",
    "    grid_search = GridSearchCV(estimator=rforest, param_grid=param_grid, cv=3, scoring='f1', n_jobs=-1)\n",
    "    grid_search.fit(X_train, y_train)\n",
    "\n",
    "    best_rforest = grid_search.best_estimator_\n",
    "    y_pred_val = best_rforest.predict(X_val)\n",
    "\n",
    "    f1 = f1_score(y_val, y_pred_val, average='weighted')  # Use 'weighted' or adjust based on your data\n",
    "    accuracy = accuracy_score(y_val, y_pred_val)\n",
    "\n",
    "    f1_scores.append(f1)\n",
    "    accuracy_scores.append(accuracy)\n",
    "\n",
    "foldScores['RForest'] = {\n",
    "    'F1-deviation': np.std(f1_scores),\n",
    "    'F1-average': np.mean(f1_scores),\n",
    "    'Accuracy-average': np.mean(accuracy_scores)\n",
    "}\n",
    "# Get Classification Report and Confusion Matrix only of last Fold\n",
    "print(classification_report(y_val, y_pred_val))\n",
    "print(confusion_matrix(y_val, y_pred_val))"
   ]
  },
  {
   "cell_type": "markdown",
   "metadata": {},
   "source": [
    "### Bayes"
   ]
  },
  {
   "cell_type": "code",
   "execution_count": 7,
   "metadata": {},
   "outputs": [
    {
     "name": "stdout",
     "output_type": "stream",
     "text": [
      "Starting Bayes # 1.\n",
      "Starting Bayes # 2.\n",
      "Starting Bayes # 3.\n",
      "Starting Bayes # 4.\n",
      "Starting Bayes # 5.\n",
      "              precision    recall  f1-score   support\n",
      "\n",
      "       False       0.34      0.60      0.44       739\n",
      "        True       0.80      0.57      0.66      2004\n",
      "\n",
      "    accuracy                           0.58      2743\n",
      "   macro avg       0.57      0.59      0.55      2743\n",
      "weighted avg       0.67      0.58      0.60      2743\n",
      "\n",
      "[[ 447  292]\n",
      " [ 862 1142]]\n"
     ]
    }
   ],
   "source": [
    "bayes = GaussianNB()\n",
    "param_grid = {}\n",
    "\n",
    "f1_scores = []\n",
    "accuracy_scores = []\n",
    "\n",
    "for fold, (train_index, val_index) in enumerate(kf.split(X)):\n",
    "    X_train, X_val = X.iloc[train_index], X.iloc[val_index]\n",
    "    y_train, y_val = y.iloc[train_index], y.iloc[val_index]\n",
    "    X_train, y_train = smote.fit_resample(X_train, y_train)\n",
    "    \n",
    "    print(f\"Starting Bayes # {fold + 1}.\")\n",
    "    grid_search = GridSearchCV(estimator=bayes, param_grid=param_grid, cv=3, scoring='f1', n_jobs=-1)\n",
    "    grid_search.fit(X_train, y_train)\n",
    "\n",
    "    best_bayes = grid_search.best_estimator_\n",
    "    y_pred_val = best_bayes.predict(X_val)\n",
    "\n",
    "    f1 = f1_score(y_val, y_pred_val, average='weighted')  # Use 'weighted' or adjust based on your data\n",
    "    accuracy = accuracy_score(y_val, y_pred_val)\n",
    "\n",
    "    f1_scores.append(f1)\n",
    "    accuracy_scores.append(accuracy)\n",
    "\n",
    "foldScores['Bayes'] = {\n",
    "    'F1-deviation': np.std(f1_scores),\n",
    "    'F1-average': np.mean(f1_scores),\n",
    "    'Accuracy-average': np.mean(accuracy_scores)\n",
    "}\n",
    "# Get Classification Report and Confusion Matrix only of last Fold\n",
    "print(classification_report(y_val, y_pred_val))\n",
    "print(confusion_matrix(y_val, y_pred_val))"
   ]
  },
  {
   "cell_type": "markdown",
   "metadata": {},
   "source": [
    "### KNN"
   ]
  },
  {
   "cell_type": "code",
   "execution_count": 9,
   "metadata": {},
   "outputs": [
    {
     "data": {
      "image/png": "[encoded data removed]",
      "text/plain": [
       "<Figure size 1000x600 with 1 Axes>"
      ]
     },
     "metadata": {},
     "output_type": "display_data"
    }
   ],
   "source": [
    "k_values = range(1, 21)  # Testing k from 1 to 20\n",
    "bic_scores = []\n",
    "\n",
    "for k in k_values:\n",
    "    knn = KNeighborsClassifier(n_neighbors=k)\n",
    "    \n",
    "    # Use cross-validation to calculate the average accuracy\n",
    "    scores = cross_val_score(knn, X, y, cv=5, scoring='accuracy')\n",
    "    \n",
    "    # Calculate RSS (Residual Sum of Squares) as 1 - accuracy\n",
    "    rss = (1 - scores.mean()) * len(X)\n",
    "    \n",
    "    # Calculate BIC\n",
    "    n = len(X)\n",
    "    bic = n * np.log(rss) + k * np.log(n)\n",
    "    bic_scores.append(bic)\n",
    "\n",
    "# Plot the BIC scores\n",
    "plt.figure(figsize=(10, 6))\n",
    "plt.plot(k_values, bic_scores, marker='o', linestyle='-', color='b')\n",
    "plt.title('Elbow Method using BIC for KNN')\n",
    "plt.xlabel('Number of Neighbors (k)')\n",
    "plt.ylabel('BIC Score')\n",
    "plt.xticks(k_values)\n",
    "plt.grid()\n",
    "plt.show()"
   ]
  },
  {
   "cell_type": "code",
   "execution_count": 10,
   "metadata": {},
   "outputs": [
    {
     "name": "stdout",
     "output_type": "stream",
     "text": [
      "Starting Bayes # 1.\n",
      "Starting Bayes # 2.\n",
      "Starting Bayes # 3.\n",
      "Starting Bayes # 4.\n",
      "Starting Bayes # 5.\n",
      "              precision    recall  f1-score   support\n",
      "\n",
      "       False       0.46      0.52      0.49       739\n",
      "        True       0.81      0.78      0.79      2004\n",
      "\n",
      "    accuracy                           0.71      2743\n",
      "   macro avg       0.64      0.65      0.64      2743\n",
      "weighted avg       0.72      0.71      0.71      2743\n",
      "\n",
      "[[ 384  355]\n",
      " [ 449 1555]]\n"
     ]
    }
   ],
   "source": [
    "knn = KNeighborsClassifier()\n",
    "\n",
    "# Define hyperparameters to tune\n",
    "param_grid = {\n",
    "    'n_neighbors': [11],  # Number of neighbors\n",
    "    'weights': ['uniform', 'distance'],  # Uniform or distance-based weighting\n",
    "    'metric': ['euclidean', 'manhattan'],  # Distance metric\n",
    "}\n",
    "\n",
    "f1_scores = []\n",
    "accuracy_scores = []\n",
    "\n",
    "for fold, (train_index, val_index) in enumerate(kf.split(X)):\n",
    "    X_train, X_val = X.iloc[train_index], X.iloc[val_index]\n",
    "    y_train, y_val = y.iloc[train_index], y.iloc[val_index]\n",
    "    X_train, y_train = smote.fit_resample(X_train, y_train)\n",
    "    \n",
    "    print(f\"Starting Bayes # {fold + 1}.\")\n",
    "    grid_search = GridSearchCV(estimator=knn, param_grid=param_grid, cv=3, scoring='f1', n_jobs=-1)\n",
    "    grid_search.fit(X_train, y_train)\n",
    "\n",
    "    best_knn = grid_search.best_estimator_\n",
    "    y_pred_val = best_knn.predict(X_val)\n",
    "\n",
    "    f1 = f1_score(y_val, y_pred_val, average='weighted')  # Use 'weighted' or adjust based on your data\n",
    "    accuracy = accuracy_score(y_val, y_pred_val)\n",
    "\n",
    "    f1_scores.append(f1)\n",
    "    accuracy_scores.append(accuracy)\n",
    "\n",
    "foldScores['Bayes'] = {\n",
    "    'F1-deviation': np.std(f1_scores),\n",
    "    'F1-average': np.mean(f1_scores),\n",
    "    'Accuracy-average': np.mean(accuracy_scores)\n",
    "}\n",
    "# Get Classification Report and Confusion Matrix only of last Fold\n",
    "print(classification_report(y_val, y_pred_val))\n",
    "print(confusion_matrix(y_val, y_pred_val))"
   ]
  },
  {
   "cell_type": "markdown",
   "metadata": {},
   "source": [
    "### Logistic Regression"
   ]
  },
  {
   "cell_type": "code",
   "execution_count": 12,
   "metadata": {},
   "outputs": [
    {
     "name": "stdout",
     "output_type": "stream",
     "text": [
      "Starting Log Regression # 1.\n"
     ]
    },
    {
     "name": "stderr",
     "output_type": "stream",
     "text": [
      "c:\\Users\\duart\\miniconda3\\envs\\churn\\Lib\\site-packages\\sklearn\\linear_model\\_sag.py:349: ConvergenceWarning: The max_iter was reached which means the coef_ did not converge\n",
      "  warnings.warn(\n"
     ]
    },
    {
     "name": "stdout",
     "output_type": "stream",
     "text": [
      "Starting Log Regression # 2.\n"
     ]
    },
    {
     "name": "stderr",
     "output_type": "stream",
     "text": [
      "c:\\Users\\duart\\miniconda3\\envs\\churn\\Lib\\site-packages\\sklearn\\linear_model\\_sag.py:349: ConvergenceWarning: The max_iter was reached which means the coef_ did not converge\n",
      "  warnings.warn(\n"
     ]
    },
    {
     "name": "stdout",
     "output_type": "stream",
     "text": [
      "Starting Log Regression # 3.\n"
     ]
    },
    {
     "name": "stderr",
     "output_type": "stream",
     "text": [
      "c:\\Users\\duart\\miniconda3\\envs\\churn\\Lib\\site-packages\\sklearn\\linear_model\\_sag.py:349: ConvergenceWarning: The max_iter was reached which means the coef_ did not converge\n",
      "  warnings.warn(\n"
     ]
    },
    {
     "name": "stdout",
     "output_type": "stream",
     "text": [
      "Starting Log Regression # 4.\n"
     ]
    },
    {
     "name": "stderr",
     "output_type": "stream",
     "text": [
      "c:\\Users\\duart\\miniconda3\\envs\\churn\\Lib\\site-packages\\sklearn\\linear_model\\_sag.py:349: ConvergenceWarning: The max_iter was reached which means the coef_ did not converge\n",
      "  warnings.warn(\n"
     ]
    },
    {
     "name": "stdout",
     "output_type": "stream",
     "text": [
      "Starting Log Regression # 5.\n",
      "              precision    recall  f1-score   support\n",
      "\n",
      "       False       0.50      0.07      0.13       739\n",
      "        True       0.74      0.97      0.84      2004\n",
      "\n",
      "    accuracy                           0.73      2743\n",
      "   macro avg       0.62      0.52      0.48      2743\n",
      "weighted avg       0.68      0.73      0.65      2743\n",
      "\n",
      "[[  53  686]\n",
      " [  53 1951]]\n"
     ]
    },
    {
     "name": "stderr",
     "output_type": "stream",
     "text": [
      "c:\\Users\\duart\\miniconda3\\envs\\churn\\Lib\\site-packages\\sklearn\\linear_model\\_sag.py:349: ConvergenceWarning: The max_iter was reached which means the coef_ did not converge\n",
      "  warnings.warn(\n"
     ]
    }
   ],
   "source": [
    "log_regression = LogisticRegression(random_state=42)\n",
    "param_grid = [\n",
    "    # 'lbfgs' solver supports only 'l2'\n",
    "    {'solver': ['lbfgs'], \n",
    "     'penalty': ['l2'], \n",
    "     'C': [0.1, 1, 10, 100], \n",
    "     'class_weight': [None, 'balanced']},\n",
    "\n",
    "    # 'liblinear' solver supports 'l1' and 'l2'\n",
    "    {'solver': ['liblinear'], \n",
    "     'penalty': ['l1', 'l2'], \n",
    "     'C': [0.1, 1, 10, 100], \n",
    "     'class_weight': [None, 'balanced']},\n",
    "\n",
    "    # 'saga' solver supports 'l1', 'l2', and 'elasticnet'\n",
    "    {'solver': ['saga'], \n",
    "     'penalty': ['l1', 'l2'], \n",
    "     'C': [0.1, 1, 10, 100], \n",
    "     'class_weight': [None, 'balanced']},\n",
    "    \n",
    "    # 'saga' solver with 'elasticnet'\n",
    "    {'solver': ['saga'], \n",
    "     'penalty': ['elasticnet'], \n",
    "     'C': [0.1, 1, 10, 100], \n",
    "     'class_weight': [None, 'balanced'], \n",
    "     'l1_ratio': [0.5, 0.7, 0.9]}  # Elastic net-specific parameter\n",
    "]\n",
    "\n",
    "f1_scores = []\n",
    "accuracy_scores = []\n",
    "\n",
    "for fold, (train_index, val_index) in enumerate(kf.split(X)):\n",
    "    X_train, X_val = X.iloc[train_index], X.iloc[val_index]\n",
    "    y_train, y_val = y.iloc[train_index], y.iloc[val_index]\n",
    "    X_train, y_train = smote.fit_resample(X_train, y_train)\n",
    "    \n",
    "    print(f\"Starting Log Regression # {fold + 1}.\")\n",
    "    grid_search = GridSearchCV(estimator=log_regression, param_grid=param_grid, cv=3, scoring='f1', n_jobs=-1)\n",
    "    grid_search.fit(X_train, y_train)\n",
    "\n",
    "    best_log_regression = grid_search.best_estimator_\n",
    "    y_pred_val = best_log_regression.predict(X_val)\n",
    "\n",
    "    f1 = f1_score(y_val, y_pred_val, average='weighted')  # Use 'weighted' or adjust based on your data\n",
    "    accuracy = accuracy_score(y_val, y_pred_val)\n",
    "\n",
    "    f1_scores.append(f1)\n",
    "    accuracy_scores.append(accuracy)\n",
    "\n",
    "foldScores['LogRegression'] = {\n",
    "    'F1-deviation': np.std(f1_scores),\n",
    "    'F1-average': np.mean(f1_scores),\n",
    "    'Accuracy-average': np.mean(accuracy_scores)\n",
    "}\n",
    "# Get Classification Report and Confusion Matrix only of last Fold\n",
    "print(classification_report(y_val, y_pred_val))\n",
    "print(confusion_matrix(y_val, y_pred_val))"
   ]
  },
  {
   "cell_type": "markdown",
   "metadata": {},
   "source": [
    "### SCORES"
   ]
  },
  {
   "cell_type": "code",
   "execution_count": 13,
   "metadata": {},
   "outputs": [
    {
     "data": {
      "text/plain": [
       "{'DTree': {'F1-deviation': 0.012873252777105163,\n",
       "  'F1-average': 0.6964331099904786,\n",
       "  'Accuracy-average': 0.6885406425473164},\n",
       " 'RForest': {'F1-deviation': 0.009464845309737862,\n",
       "  'F1-average': 0.7328138915184084,\n",
       "  'Accuracy-average': 0.7354920130647957},\n",
       " 'Bayes': {'F1-deviation': 0.008434601273334546,\n",
       "  'F1-average': 0.7047492282392086,\n",
       "  'Accuracy-average': 0.7004232347592441},\n",
       " 'LogRegression': {'F1-deviation': 0.011533292993269053,\n",
       "  'F1-average': 0.6336095839247203,\n",
       "  'Accuracy-average': 0.7279088886739531}}"
      ]
     },
     "execution_count": 13,
     "metadata": {},
     "output_type": "execute_result"
    }
   ],
   "source": [
    "foldScores"
   ]
  },
  {
   "cell_type": "markdown",
   "metadata": {},
   "source": [
    "## Full - MultiClass Classification"
   ]
  },
  {
   "cell_type": "markdown",
   "metadata": {},
   "source": [
    "Not Using SMOTE BECAUSE CLASSIFICATION ISN'T BINARY"
   ]
  },
  {
   "cell_type": "code",
   "execution_count": 17,
   "metadata": {},
   "outputs": [],
   "source": [
    "df = pd.read_csv('./Data/DF.csv', index_col='PetID') # Classifications for generic DF with AdoptionSpeed as the target\n",
    "#smote = SMOTE(sampling_strategy=0.8, random_state=42)\n",
    "\n",
    "kf = KFold(n_splits=5, shuffle=True, random_state=42)\n",
    "X, y = df.drop(columns='AdoptionSpeed'), df['AdoptionSpeed']\n",
    "\n",
    "\n",
    "foldScores = {}"
   ]
  },
  {
   "cell_type": "code",
   "execution_count": 18,
   "metadata": {},
   "outputs": [
    {
     "name": "stdout",
     "output_type": "stream",
     "text": [
      "Starting Decision Tree # 1.\n"
     ]
    },
    {
     "name": "stderr",
     "output_type": "stream",
     "text": [
      "c:\\Users\\duart\\miniconda3\\envs\\churn\\Lib\\site-packages\\sklearn\\model_selection\\_search.py:1102: UserWarning: One or more of the test scores are non-finite: [nan nan nan nan nan nan nan nan nan nan nan nan nan nan nan nan nan nan\n",
      " nan nan nan nan nan nan nan nan nan nan nan nan nan nan nan nan nan nan\n",
      " nan nan nan nan nan nan nan nan nan nan nan nan nan nan nan nan nan nan\n",
      " nan nan nan nan nan nan nan nan nan nan nan nan nan nan nan nan nan nan\n",
      " nan nan nan nan nan nan nan nan nan nan nan nan nan nan nan nan nan nan\n",
      " nan nan nan nan nan nan nan nan nan nan nan nan nan nan nan nan nan nan\n",
      " nan nan nan nan nan nan nan nan nan nan nan nan nan nan nan nan nan nan\n",
      " nan nan nan nan nan nan nan nan nan nan nan nan nan nan nan nan nan nan\n",
      " nan nan nan nan nan nan nan nan nan nan nan nan nan nan nan nan nan nan\n",
      " nan nan nan nan nan nan nan nan nan nan nan nan nan nan nan nan nan nan\n",
      " nan nan nan nan nan nan nan nan nan nan nan nan nan nan nan nan nan nan\n",
      " nan nan nan nan nan nan nan nan nan nan nan nan nan nan nan nan nan nan]\n",
      "  warnings.warn(\n"
     ]
    },
    {
     "name": "stdout",
     "output_type": "stream",
     "text": [
      "Starting Decision Tree # 2.\n"
     ]
    },
    {
     "name": "stderr",
     "output_type": "stream",
     "text": [
      "c:\\Users\\duart\\miniconda3\\envs\\churn\\Lib\\site-packages\\numpy\\ma\\core.py:2820: RuntimeWarning: invalid value encountered in cast\n",
      "  _data = np.array(data, dtype=dtype, copy=copy,\n",
      "c:\\Users\\duart\\miniconda3\\envs\\churn\\Lib\\site-packages\\sklearn\\model_selection\\_search.py:1102: UserWarning: One or more of the test scores are non-finite: [nan nan nan nan nan nan nan nan nan nan nan nan nan nan nan nan nan nan\n",
      " nan nan nan nan nan nan nan nan nan nan nan nan nan nan nan nan nan nan\n",
      " nan nan nan nan nan nan nan nan nan nan nan nan nan nan nan nan nan nan\n",
      " nan nan nan nan nan nan nan nan nan nan nan nan nan nan nan nan nan nan\n",
      " nan nan nan nan nan nan nan nan nan nan nan nan nan nan nan nan nan nan\n",
      " nan nan nan nan nan nan nan nan nan nan nan nan nan nan nan nan nan nan\n",
      " nan nan nan nan nan nan nan nan nan nan nan nan nan nan nan nan nan nan\n",
      " nan nan nan nan nan nan nan nan nan nan nan nan nan nan nan nan nan nan\n",
      " nan nan nan nan nan nan nan nan nan nan nan nan nan nan nan nan nan nan\n",
      " nan nan nan nan nan nan nan nan nan nan nan nan nan nan nan nan nan nan\n",
      " nan nan nan nan nan nan nan nan nan nan nan nan nan nan nan nan nan nan\n",
      " nan nan nan nan nan nan nan nan nan nan nan nan nan nan nan nan nan nan]\n",
      "  warnings.warn(\n"
     ]
    },
    {
     "name": "stdout",
     "output_type": "stream",
     "text": [
      "Starting Decision Tree # 3.\n"
     ]
    },
    {
     "name": "stderr",
     "output_type": "stream",
     "text": [
      "c:\\Users\\duart\\miniconda3\\envs\\churn\\Lib\\site-packages\\numpy\\ma\\core.py:2820: RuntimeWarning: invalid value encountered in cast\n",
      "  _data = np.array(data, dtype=dtype, copy=copy,\n",
      "c:\\Users\\duart\\miniconda3\\envs\\churn\\Lib\\site-packages\\sklearn\\model_selection\\_search.py:1102: UserWarning: One or more of the test scores are non-finite: [nan nan nan nan nan nan nan nan nan nan nan nan nan nan nan nan nan nan\n",
      " nan nan nan nan nan nan nan nan nan nan nan nan nan nan nan nan nan nan\n",
      " nan nan nan nan nan nan nan nan nan nan nan nan nan nan nan nan nan nan\n",
      " nan nan nan nan nan nan nan nan nan nan nan nan nan nan nan nan nan nan\n",
      " nan nan nan nan nan nan nan nan nan nan nan nan nan nan nan nan nan nan\n",
      " nan nan nan nan nan nan nan nan nan nan nan nan nan nan nan nan nan nan\n",
      " nan nan nan nan nan nan nan nan nan nan nan nan nan nan nan nan nan nan\n",
      " nan nan nan nan nan nan nan nan nan nan nan nan nan nan nan nan nan nan\n",
      " nan nan nan nan nan nan nan nan nan nan nan nan nan nan nan nan nan nan\n",
      " nan nan nan nan nan nan nan nan nan nan nan nan nan nan nan nan nan nan\n",
      " nan nan nan nan nan nan nan nan nan nan nan nan nan nan nan nan nan nan\n",
      " nan nan nan nan nan nan nan nan nan nan nan nan nan nan nan nan nan nan]\n",
      "  warnings.warn(\n"
     ]
    },
    {
     "name": "stdout",
     "output_type": "stream",
     "text": [
      "Starting Decision Tree # 4.\n"
     ]
    },
    {
     "name": "stderr",
     "output_type": "stream",
     "text": [
      "c:\\Users\\duart\\miniconda3\\envs\\churn\\Lib\\site-packages\\sklearn\\model_selection\\_search.py:1102: UserWarning: One or more of the test scores are non-finite: [nan nan nan nan nan nan nan nan nan nan nan nan nan nan nan nan nan nan\n",
      " nan nan nan nan nan nan nan nan nan nan nan nan nan nan nan nan nan nan\n",
      " nan nan nan nan nan nan nan nan nan nan nan nan nan nan nan nan nan nan\n",
      " nan nan nan nan nan nan nan nan nan nan nan nan nan nan nan nan nan nan\n",
      " nan nan nan nan nan nan nan nan nan nan nan nan nan nan nan nan nan nan\n",
      " nan nan nan nan nan nan nan nan nan nan nan nan nan nan nan nan nan nan\n",
      " nan nan nan nan nan nan nan nan nan nan nan nan nan nan nan nan nan nan\n",
      " nan nan nan nan nan nan nan nan nan nan nan nan nan nan nan nan nan nan\n",
      " nan nan nan nan nan nan nan nan nan nan nan nan nan nan nan nan nan nan\n",
      " nan nan nan nan nan nan nan nan nan nan nan nan nan nan nan nan nan nan\n",
      " nan nan nan nan nan nan nan nan nan nan nan nan nan nan nan nan nan nan\n",
      " nan nan nan nan nan nan nan nan nan nan nan nan nan nan nan nan nan nan]\n",
      "  warnings.warn(\n"
     ]
    },
    {
     "name": "stdout",
     "output_type": "stream",
     "text": [
      "Starting Decision Tree # 5.\n",
      "              precision    recall  f1-score   support\n",
      "\n",
      "           0       0.00      0.00      0.00        77\n",
      "           1       0.24      0.16      0.19       560\n",
      "           2       0.33      0.59      0.42       748\n",
      "           3       0.26      0.02      0.04       619\n",
      "           4       0.45      0.59      0.51       739\n",
      "\n",
      "    accuracy                           0.36      2743\n",
      "   macro avg       0.26      0.27      0.23      2743\n",
      "weighted avg       0.32      0.36      0.30      2743\n",
      "\n",
      "[[  0  11  42   4  20]\n",
      " [  0  89 346   7 118]\n",
      " [  0  91 443  13 201]\n",
      " [  0  84 327  13 195]\n",
      " [  0  96 192  13 438]]\n"
     ]
    },
    {
     "name": "stderr",
     "output_type": "stream",
     "text": [
      "c:\\Users\\duart\\miniconda3\\envs\\churn\\Lib\\site-packages\\sklearn\\model_selection\\_search.py:1102: UserWarning: One or more of the test scores are non-finite: [nan nan nan nan nan nan nan nan nan nan nan nan nan nan nan nan nan nan\n",
      " nan nan nan nan nan nan nan nan nan nan nan nan nan nan nan nan nan nan\n",
      " nan nan nan nan nan nan nan nan nan nan nan nan nan nan nan nan nan nan\n",
      " nan nan nan nan nan nan nan nan nan nan nan nan nan nan nan nan nan nan\n",
      " nan nan nan nan nan nan nan nan nan nan nan nan nan nan nan nan nan nan\n",
      " nan nan nan nan nan nan nan nan nan nan nan nan nan nan nan nan nan nan\n",
      " nan nan nan nan nan nan nan nan nan nan nan nan nan nan nan nan nan nan\n",
      " nan nan nan nan nan nan nan nan nan nan nan nan nan nan nan nan nan nan\n",
      " nan nan nan nan nan nan nan nan nan nan nan nan nan nan nan nan nan nan\n",
      " nan nan nan nan nan nan nan nan nan nan nan nan nan nan nan nan nan nan\n",
      " nan nan nan nan nan nan nan nan nan nan nan nan nan nan nan nan nan nan\n",
      " nan nan nan nan nan nan nan nan nan nan nan nan nan nan nan nan nan nan]\n",
      "  warnings.warn(\n",
      "c:\\Users\\duart\\miniconda3\\envs\\churn\\Lib\\site-packages\\sklearn\\metrics\\_classification.py:1531: UndefinedMetricWarning: Precision is ill-defined and being set to 0.0 in labels with no predicted samples. Use `zero_division` parameter to control this behavior.\n",
      "  _warn_prf(average, modifier, f\"{metric.capitalize()} is\", len(result))\n",
      "c:\\Users\\duart\\miniconda3\\envs\\churn\\Lib\\site-packages\\sklearn\\metrics\\_classification.py:1531: UndefinedMetricWarning: Precision is ill-defined and being set to 0.0 in labels with no predicted samples. Use `zero_division` parameter to control this behavior.\n",
      "  _warn_prf(average, modifier, f\"{metric.capitalize()} is\", len(result))\n",
      "c:\\Users\\duart\\miniconda3\\envs\\churn\\Lib\\site-packages\\sklearn\\metrics\\_classification.py:1531: UndefinedMetricWarning: Precision is ill-defined and being set to 0.0 in labels with no predicted samples. Use `zero_division` parameter to control this behavior.\n",
      "  _warn_prf(average, modifier, f\"{metric.capitalize()} is\", len(result))\n"
     ]
    }
   ],
   "source": [
    "dtree = tree.DecisionTreeClassifier(random_state=42)\n",
    "\n",
    "dtree_param_grid = {\n",
    "    'max_depth': [3,5,10,15],\n",
    "    'min_samples_split': [2, 5, 10],\n",
    "    'min_samples_leaf': [1, 2, 4],\n",
    "    'criterion': ['gini', 'entropy'],\n",
    "    'max_features': [None, 'sqrt', 'log2']\n",
    "}\n",
    "\n",
    "f1_scores = []\n",
    "accuracy_scores = []\n",
    "\n",
    "for fold, (train_index, val_index) in enumerate(kf.split(X)):\n",
    "    X_train, X_val = X.iloc[train_index], X.iloc[val_index]\n",
    "    y_train, y_val = y.iloc[train_index], y.iloc[val_index]\n",
    "    #X_train, y_train = smote.fit_resample(X_train, y_train)\n",
    "    \n",
    "    print(f\"Starting Decision Tree # {fold + 1}.\")\n",
    "    grid_search = GridSearchCV(estimator=dtree, param_grid=dtree_param_grid, cv=3, scoring='f1', n_jobs=-1)\n",
    "    grid_search.fit(X_train, y_train)\n",
    "\n",
    "    best_dtree = grid_search.best_estimator_\n",
    "    y_pred_val = best_dtree.predict(X_val)\n",
    "\n",
    "    f1 = f1_score(y_val, y_pred_val, average='weighted')  # Use 'weighted' or adjust based on your data\n",
    "    accuracy = accuracy_score(y_val, y_pred_val)\n",
    "\n",
    "    f1_scores.append(f1)\n",
    "    accuracy_scores.append(accuracy)\n",
    "\n",
    "foldScores['DTree'] = {\n",
    "    'F1-deviation': np.std(f1_scores),\n",
    "    'F1-average': np.mean(f1_scores),\n",
    "    'Accuracy-average': np.mean(accuracy_scores)\n",
    "}\n",
    "# Get Classification Report and Confusion Matrix only of last Fold\n",
    "print(classification_report(y_val, y_pred_val))\n",
    "print(confusion_matrix(y_val, y_pred_val))"
   ]
  },
  {
   "cell_type": "markdown",
   "metadata": {},
   "source": [
    "- Random Forest"
   ]
  },
  {
   "cell_type": "code",
   "execution_count": 19,
   "metadata": {},
   "outputs": [
    {
     "name": "stdout",
     "output_type": "stream",
     "text": [
      "Starting Decision Tree # 1.\n"
     ]
    },
    {
     "name": "stderr",
     "output_type": "stream",
     "text": [
      "c:\\Users\\duart\\miniconda3\\envs\\churn\\Lib\\site-packages\\numpy\\ma\\core.py:2820: RuntimeWarning: invalid value encountered in cast\n",
      "  _data = np.array(data, dtype=dtype, copy=copy,\n",
      "c:\\Users\\duart\\miniconda3\\envs\\churn\\Lib\\site-packages\\sklearn\\model_selection\\_search.py:1102: UserWarning: One or more of the test scores are non-finite: [nan nan nan nan nan nan nan nan nan nan nan nan nan nan nan nan nan nan\n",
      " nan nan nan nan nan nan nan nan nan nan nan nan nan nan nan nan nan nan\n",
      " nan nan nan nan nan nan nan nan nan nan nan nan nan nan nan nan nan nan\n",
      " nan nan nan nan nan nan nan nan nan nan nan nan nan nan nan nan nan nan\n",
      " nan nan nan nan nan nan nan nan nan nan nan nan nan nan nan nan nan nan\n",
      " nan nan nan nan nan nan nan nan nan nan nan nan nan nan nan nan nan nan\n",
      " nan nan nan nan nan nan nan nan nan nan nan nan nan nan nan nan nan nan\n",
      " nan nan nan nan nan nan nan nan nan nan nan nan nan nan nan nan nan nan\n",
      " nan nan nan nan nan nan nan nan nan nan nan nan nan nan nan nan nan nan\n",
      " nan nan nan nan nan nan nan nan nan nan nan nan nan nan nan nan nan nan\n",
      " nan nan nan nan nan nan nan nan nan nan nan nan nan nan nan nan nan nan\n",
      " nan nan nan nan nan nan nan nan nan nan nan nan nan nan nan nan nan nan]\n",
      "  warnings.warn(\n"
     ]
    },
    {
     "name": "stdout",
     "output_type": "stream",
     "text": [
      "Starting Decision Tree # 2.\n"
     ]
    },
    {
     "name": "stderr",
     "output_type": "stream",
     "text": [
      "c:\\Users\\duart\\miniconda3\\envs\\churn\\Lib\\site-packages\\sklearn\\model_selection\\_search.py:1102: UserWarning: One or more of the test scores are non-finite: [nan nan nan nan nan nan nan nan nan nan nan nan nan nan nan nan nan nan\n",
      " nan nan nan nan nan nan nan nan nan nan nan nan nan nan nan nan nan nan\n",
      " nan nan nan nan nan nan nan nan nan nan nan nan nan nan nan nan nan nan\n",
      " nan nan nan nan nan nan nan nan nan nan nan nan nan nan nan nan nan nan\n",
      " nan nan nan nan nan nan nan nan nan nan nan nan nan nan nan nan nan nan\n",
      " nan nan nan nan nan nan nan nan nan nan nan nan nan nan nan nan nan nan\n",
      " nan nan nan nan nan nan nan nan nan nan nan nan nan nan nan nan nan nan\n",
      " nan nan nan nan nan nan nan nan nan nan nan nan nan nan nan nan nan nan\n",
      " nan nan nan nan nan nan nan nan nan nan nan nan nan nan nan nan nan nan\n",
      " nan nan nan nan nan nan nan nan nan nan nan nan nan nan nan nan nan nan\n",
      " nan nan nan nan nan nan nan nan nan nan nan nan nan nan nan nan nan nan\n",
      " nan nan nan nan nan nan nan nan nan nan nan nan nan nan nan nan nan nan]\n",
      "  warnings.warn(\n"
     ]
    },
    {
     "name": "stdout",
     "output_type": "stream",
     "text": [
      "Starting Decision Tree # 3.\n"
     ]
    },
    {
     "name": "stderr",
     "output_type": "stream",
     "text": [
      "c:\\Users\\duart\\miniconda3\\envs\\churn\\Lib\\site-packages\\sklearn\\model_selection\\_search.py:1102: UserWarning: One or more of the test scores are non-finite: [nan nan nan nan nan nan nan nan nan nan nan nan nan nan nan nan nan nan\n",
      " nan nan nan nan nan nan nan nan nan nan nan nan nan nan nan nan nan nan\n",
      " nan nan nan nan nan nan nan nan nan nan nan nan nan nan nan nan nan nan\n",
      " nan nan nan nan nan nan nan nan nan nan nan nan nan nan nan nan nan nan\n",
      " nan nan nan nan nan nan nan nan nan nan nan nan nan nan nan nan nan nan\n",
      " nan nan nan nan nan nan nan nan nan nan nan nan nan nan nan nan nan nan\n",
      " nan nan nan nan nan nan nan nan nan nan nan nan nan nan nan nan nan nan\n",
      " nan nan nan nan nan nan nan nan nan nan nan nan nan nan nan nan nan nan\n",
      " nan nan nan nan nan nan nan nan nan nan nan nan nan nan nan nan nan nan\n",
      " nan nan nan nan nan nan nan nan nan nan nan nan nan nan nan nan nan nan\n",
      " nan nan nan nan nan nan nan nan nan nan nan nan nan nan nan nan nan nan\n",
      " nan nan nan nan nan nan nan nan nan nan nan nan nan nan nan nan nan nan]\n",
      "  warnings.warn(\n"
     ]
    },
    {
     "name": "stdout",
     "output_type": "stream",
     "text": [
      "Starting Decision Tree # 4.\n"
     ]
    },
    {
     "name": "stderr",
     "output_type": "stream",
     "text": [
      "c:\\Users\\duart\\miniconda3\\envs\\churn\\Lib\\site-packages\\sklearn\\model_selection\\_search.py:1102: UserWarning: One or more of the test scores are non-finite: [nan nan nan nan nan nan nan nan nan nan nan nan nan nan nan nan nan nan\n",
      " nan nan nan nan nan nan nan nan nan nan nan nan nan nan nan nan nan nan\n",
      " nan nan nan nan nan nan nan nan nan nan nan nan nan nan nan nan nan nan\n",
      " nan nan nan nan nan nan nan nan nan nan nan nan nan nan nan nan nan nan\n",
      " nan nan nan nan nan nan nan nan nan nan nan nan nan nan nan nan nan nan\n",
      " nan nan nan nan nan nan nan nan nan nan nan nan nan nan nan nan nan nan\n",
      " nan nan nan nan nan nan nan nan nan nan nan nan nan nan nan nan nan nan\n",
      " nan nan nan nan nan nan nan nan nan nan nan nan nan nan nan nan nan nan\n",
      " nan nan nan nan nan nan nan nan nan nan nan nan nan nan nan nan nan nan\n",
      " nan nan nan nan nan nan nan nan nan nan nan nan nan nan nan nan nan nan\n",
      " nan nan nan nan nan nan nan nan nan nan nan nan nan nan nan nan nan nan\n",
      " nan nan nan nan nan nan nan nan nan nan nan nan nan nan nan nan nan nan]\n",
      "  warnings.warn(\n"
     ]
    },
    {
     "name": "stdout",
     "output_type": "stream",
     "text": [
      "Starting Decision Tree # 5.\n"
     ]
    },
    {
     "name": "stderr",
     "output_type": "stream",
     "text": [
      "c:\\Users\\duart\\miniconda3\\envs\\churn\\Lib\\site-packages\\sklearn\\model_selection\\_search.py:1102: UserWarning: One or more of the test scores are non-finite: [nan nan nan nan nan nan nan nan nan nan nan nan nan nan nan nan nan nan\n",
      " nan nan nan nan nan nan nan nan nan nan nan nan nan nan nan nan nan nan\n",
      " nan nan nan nan nan nan nan nan nan nan nan nan nan nan nan nan nan nan\n",
      " nan nan nan nan nan nan nan nan nan nan nan nan nan nan nan nan nan nan\n",
      " nan nan nan nan nan nan nan nan nan nan nan nan nan nan nan nan nan nan\n",
      " nan nan nan nan nan nan nan nan nan nan nan nan nan nan nan nan nan nan\n",
      " nan nan nan nan nan nan nan nan nan nan nan nan nan nan nan nan nan nan\n",
      " nan nan nan nan nan nan nan nan nan nan nan nan nan nan nan nan nan nan\n",
      " nan nan nan nan nan nan nan nan nan nan nan nan nan nan nan nan nan nan\n",
      " nan nan nan nan nan nan nan nan nan nan nan nan nan nan nan nan nan nan\n",
      " nan nan nan nan nan nan nan nan nan nan nan nan nan nan nan nan nan nan\n",
      " nan nan nan nan nan nan nan nan nan nan nan nan nan nan nan nan nan nan]\n",
      "  warnings.warn(\n"
     ]
    },
    {
     "name": "stdout",
     "output_type": "stream",
     "text": [
      "              precision    recall  f1-score   support\n",
      "\n",
      "           0       0.00      0.00      0.00        77\n",
      "           1       0.32      0.12      0.18       560\n",
      "           2       0.32      0.59      0.42       748\n",
      "           3       0.32      0.04      0.07       619\n",
      "           4       0.44      0.64      0.52       739\n",
      "\n",
      "    accuracy                           0.37      2743\n",
      "   macro avg       0.28      0.28      0.24      2743\n",
      "weighted avg       0.34      0.37      0.31      2743\n",
      "\n",
      "[[  0  10  43   3  21]\n",
      " [  0  70 347   8 135]\n",
      " [  0  69 445  12 222]\n",
      " [  0  42 338  24 215]\n",
      " [  0  28 209  28 474]]\n"
     ]
    },
    {
     "name": "stderr",
     "output_type": "stream",
     "text": [
      "c:\\Users\\duart\\miniconda3\\envs\\churn\\Lib\\site-packages\\sklearn\\metrics\\_classification.py:1531: UndefinedMetricWarning: Precision is ill-defined and being set to 0.0 in labels with no predicted samples. Use `zero_division` parameter to control this behavior.\n",
      "  _warn_prf(average, modifier, f\"{metric.capitalize()} is\", len(result))\n",
      "c:\\Users\\duart\\miniconda3\\envs\\churn\\Lib\\site-packages\\sklearn\\metrics\\_classification.py:1531: UndefinedMetricWarning: Precision is ill-defined and being set to 0.0 in labels with no predicted samples. Use `zero_division` parameter to control this behavior.\n",
      "  _warn_prf(average, modifier, f\"{metric.capitalize()} is\", len(result))\n",
      "c:\\Users\\duart\\miniconda3\\envs\\churn\\Lib\\site-packages\\sklearn\\metrics\\_classification.py:1531: UndefinedMetricWarning: Precision is ill-defined and being set to 0.0 in labels with no predicted samples. Use `zero_division` parameter to control this behavior.\n",
      "  _warn_prf(average, modifier, f\"{metric.capitalize()} is\", len(result))\n"
     ]
    }
   ],
   "source": [
    "rforest = RandomForestClassifier(random_state=42)\n",
    "\n",
    "param_grid = {\n",
    "    'max_depth': [3,5,10,15],\n",
    "    'min_samples_split': [2, 5, 10],\n",
    "    'min_samples_leaf': [1, 2, 4],\n",
    "    'criterion': ['gini', 'entropy'],\n",
    "    'max_features': [None, 'sqrt', 'log2']\n",
    "}\n",
    "\n",
    "f1_scores = []\n",
    "accuracy_scores = []\n",
    "\n",
    "for fold, (train_index, val_index) in enumerate(kf.split(X)):\n",
    "    X_train, X_val = X.iloc[train_index], X.iloc[val_index]\n",
    "    y_train, y_val = y.iloc[train_index], y.iloc[val_index]\n",
    "    #X_train, y_train = smote.fit_resample(X_train, y_train)\n",
    "    \n",
    "    print(f\"Starting Decision Tree # {fold + 1}.\")\n",
    "    grid_search = GridSearchCV(estimator=rforest, param_grid=param_grid, cv=3, scoring='f1', n_jobs=-1)\n",
    "    grid_search.fit(X_train, y_train)\n",
    "\n",
    "    best_rforest = grid_search.best_estimator_\n",
    "    y_pred_val = best_rforest.predict(X_val)\n",
    "\n",
    "    f1 = f1_score(y_val, y_pred_val, average='weighted')  # Use 'weighted' or adjust based on your data\n",
    "    accuracy = accuracy_score(y_val, y_pred_val)\n",
    "\n",
    "    f1_scores.append(f1)\n",
    "    accuracy_scores.append(accuracy)\n",
    "\n",
    "foldScores['RForest'] = {\n",
    "    'F1-deviation': np.std(f1_scores),\n",
    "    'F1-average': np.mean(f1_scores),\n",
    "    'Accuracy-average': np.mean(accuracy_scores)\n",
    "}\n",
    "# Get Classification Report and Confusion Matrix only of last Fold\n",
    "print(classification_report(y_val, y_pred_val))\n",
    "print(confusion_matrix(y_val, y_pred_val))"
   ]
  },
  {
   "cell_type": "markdown",
   "metadata": {},
   "source": [
    "### Bayes"
   ]
  },
  {
   "cell_type": "code",
   "execution_count": 20,
   "metadata": {},
   "outputs": [
    {
     "name": "stderr",
     "output_type": "stream",
     "text": [
      "c:\\Users\\duart\\miniconda3\\envs\\churn\\Lib\\site-packages\\sklearn\\model_selection\\_search.py:1102: UserWarning: One or more of the test scores are non-finite: [nan]\n",
      "  warnings.warn(\n",
      "c:\\Users\\duart\\miniconda3\\envs\\churn\\Lib\\site-packages\\sklearn\\model_selection\\_search.py:1102: UserWarning: One or more of the test scores are non-finite: [nan]\n",
      "  warnings.warn(\n"
     ]
    },
    {
     "name": "stdout",
     "output_type": "stream",
     "text": [
      "Starting Bayes # 1.\n",
      "Starting Bayes # 2.\n",
      "Starting Bayes # 3.\n",
      "Starting Bayes # 4.\n"
     ]
    },
    {
     "name": "stderr",
     "output_type": "stream",
     "text": [
      "c:\\Users\\duart\\miniconda3\\envs\\churn\\Lib\\site-packages\\sklearn\\model_selection\\_search.py:1102: UserWarning: One or more of the test scores are non-finite: [nan]\n",
      "  warnings.warn(\n",
      "c:\\Users\\duart\\miniconda3\\envs\\churn\\Lib\\site-packages\\sklearn\\model_selection\\_search.py:1102: UserWarning: One or more of the test scores are non-finite: [nan]\n",
      "  warnings.warn(\n"
     ]
    },
    {
     "name": "stdout",
     "output_type": "stream",
     "text": [
      "Starting Bayes # 5.\n",
      "              precision    recall  f1-score   support\n",
      "\n",
      "           0       0.02      0.03      0.02        77\n",
      "           1       0.27      0.44      0.34       560\n",
      "           2       0.33      0.29      0.31       748\n",
      "           3       0.34      0.17      0.23       619\n",
      "           4       0.43      0.46      0.45       739\n",
      "\n",
      "    accuracy                           0.33      2743\n",
      "   macro avg       0.28      0.28      0.27      2743\n",
      "weighted avg       0.34      0.33      0.33      2743\n",
      "\n",
      "[[  2  39  12   8  16]\n",
      " [ 27 249 140  48  96]\n",
      " [ 23 246 220  78 181]\n",
      " [ 22 195 148 106 148]\n",
      " [ 15 181 137  68 338]]\n"
     ]
    },
    {
     "name": "stderr",
     "output_type": "stream",
     "text": [
      "c:\\Users\\duart\\miniconda3\\envs\\churn\\Lib\\site-packages\\sklearn\\model_selection\\_search.py:1102: UserWarning: One or more of the test scores are non-finite: [nan]\n",
      "  warnings.warn(\n"
     ]
    }
   ],
   "source": [
    "bayes = GaussianNB()\n",
    "param_grid = {}\n",
    "\n",
    "f1_scores = []\n",
    "accuracy_scores = []\n",
    "\n",
    "for fold, (train_index, val_index) in enumerate(kf.split(X)):\n",
    "    X_train, X_val = X.iloc[train_index], X.iloc[val_index]\n",
    "    y_train, y_val = y.iloc[train_index], y.iloc[val_index]\n",
    "    #X_train, y_train = smote.fit_resample(X_train, y_train)\n",
    "    \n",
    "    print(f\"Starting Bayes # {fold + 1}.\")\n",
    "    grid_search = GridSearchCV(estimator=bayes, param_grid=param_grid, cv=3, scoring='f1', n_jobs=-1)\n",
    "    grid_search.fit(X_train, y_train)\n",
    "\n",
    "    best_bayes = grid_search.best_estimator_\n",
    "    y_pred_val = best_bayes.predict(X_val)\n",
    "\n",
    "    f1 = f1_score(y_val, y_pred_val, average='weighted')  # Use 'weighted' or adjust based on your data\n",
    "    accuracy = accuracy_score(y_val, y_pred_val)\n",
    "\n",
    "    f1_scores.append(f1)\n",
    "    accuracy_scores.append(accuracy)\n",
    "\n",
    "foldScores['Bayes'] = {\n",
    "    'F1-deviation': np.std(f1_scores),\n",
    "    'F1-average': np.mean(f1_scores),\n",
    "    'Accuracy-average': np.mean(accuracy_scores)\n",
    "}\n",
    "# Get Classification Report and Confusion Matrix only of last Fold\n",
    "print(classification_report(y_val, y_pred_val))\n",
    "print(confusion_matrix(y_val, y_pred_val))"
   ]
  },
  {
   "cell_type": "markdown",
   "metadata": {},
   "source": [
    "### KNN"
   ]
  },
  {
   "cell_type": "code",
   "execution_count": 21,
   "metadata": {},
   "outputs": [
    {
     "data": {
      "image/png": "[encoded data removed]",
      "text/plain": [
       "<Figure size 1000x600 with 1 Axes>"
      ]
     },
     "metadata": {},
     "output_type": "display_data"
    }
   ],
   "source": [
    "k_values = range(1, 21)  # Testing k from 1 to 20\n",
    "bic_scores = []\n",
    "\n",
    "for k in k_values:\n",
    "    knn = KNeighborsClassifier(n_neighbors=k)\n",
    "    \n",
    "    # Use cross-validation to calculate the average accuracy\n",
    "    scores = cross_val_score(knn, X, y, cv=5, scoring='accuracy')\n",
    "    \n",
    "    # Calculate RSS (Residual Sum of Squares) as 1 - accuracy\n",
    "    rss = (1 - scores.mean()) * len(X)\n",
    "    \n",
    "    # Calculate BIC\n",
    "    n = len(X)\n",
    "    bic = n * np.log(rss) + k * np.log(n)\n",
    "    bic_scores.append(bic)\n",
    "\n",
    "# Plot the BIC scores\n",
    "plt.figure(figsize=(10, 6))\n",
    "plt.plot(k_values, bic_scores, marker='o', linestyle='-', color='b')\n",
    "plt.title('Elbow Method using BIC for KNN')\n",
    "plt.xlabel('Number of Neighbors (k)')\n",
    "plt.ylabel('BIC Score')\n",
    "plt.xticks(k_values)\n",
    "plt.grid()\n",
    "plt.show()"
   ]
  },
  {
   "cell_type": "code",
   "execution_count": 25,
   "metadata": {},
   "outputs": [
    {
     "name": "stdout",
     "output_type": "stream",
     "text": [
      "Starting Bayes # 1.\n"
     ]
    },
    {
     "name": "stderr",
     "output_type": "stream",
     "text": [
      "c:\\Users\\duart\\miniconda3\\envs\\churn\\Lib\\site-packages\\sklearn\\model_selection\\_search.py:1102: UserWarning: One or more of the test scores are non-finite: [nan nan nan nan]\n",
      "  warnings.warn(\n"
     ]
    },
    {
     "name": "stdout",
     "output_type": "stream",
     "text": [
      "Starting Bayes # 2.\n"
     ]
    },
    {
     "name": "stderr",
     "output_type": "stream",
     "text": [
      "c:\\Users\\duart\\miniconda3\\envs\\churn\\Lib\\site-packages\\sklearn\\model_selection\\_search.py:1102: UserWarning: One or more of the test scores are non-finite: [nan nan nan nan]\n",
      "  warnings.warn(\n"
     ]
    },
    {
     "name": "stdout",
     "output_type": "stream",
     "text": [
      "Starting Bayes # 3.\n"
     ]
    },
    {
     "name": "stderr",
     "output_type": "stream",
     "text": [
      "c:\\Users\\duart\\miniconda3\\envs\\churn\\Lib\\site-packages\\sklearn\\model_selection\\_search.py:1102: UserWarning: One or more of the test scores are non-finite: [nan nan nan nan]\n",
      "  warnings.warn(\n"
     ]
    },
    {
     "name": "stdout",
     "output_type": "stream",
     "text": [
      "Starting Bayes # 4.\n"
     ]
    },
    {
     "name": "stderr",
     "output_type": "stream",
     "text": [
      "c:\\Users\\duart\\miniconda3\\envs\\churn\\Lib\\site-packages\\sklearn\\model_selection\\_search.py:1102: UserWarning: One or more of the test scores are non-finite: [nan nan nan nan]\n",
      "  warnings.warn(\n"
     ]
    },
    {
     "name": "stdout",
     "output_type": "stream",
     "text": [
      "Starting Bayes # 5.\n"
     ]
    },
    {
     "name": "stderr",
     "output_type": "stream",
     "text": [
      "c:\\Users\\duart\\miniconda3\\envs\\churn\\Lib\\site-packages\\sklearn\\model_selection\\_search.py:1102: UserWarning: One or more of the test scores are non-finite: [nan nan nan nan]\n",
      "  warnings.warn(\n"
     ]
    },
    {
     "name": "stdout",
     "output_type": "stream",
     "text": [
      "              precision    recall  f1-score   support\n",
      "\n",
      "           0       0.21      0.06      0.10        77\n",
      "           1       0.29      0.39      0.33       560\n",
      "           2       0.32      0.36      0.34       748\n",
      "           3       0.32      0.24      0.27       619\n",
      "           4       0.47      0.41      0.44       739\n",
      "\n",
      "    accuracy                           0.34      2743\n",
      "   macro avg       0.32      0.29      0.30      2743\n",
      "weighted avg       0.35      0.34      0.34      2743\n",
      "\n",
      "[[  5  30  23   5  14]\n",
      " [  3 219 194  73  71]\n",
      " [  4 213 273 121 137]\n",
      " [  6 146 200 146 121]\n",
      " [  6 148 169 115 301]]\n"
     ]
    }
   ],
   "source": [
    "knn = KNeighborsClassifier()\n",
    "\n",
    "# Define hyperparameters to tune\n",
    "param_grid = {\n",
    "    'n_neighbors': [7],  # Number of neighbors\n",
    "    'weights': ['uniform', 'distance'],  # Uniform or distance-based weighting\n",
    "    'metric': ['euclidean', 'manhattan'],  # Distance metric\n",
    "}\n",
    "\n",
    "f1_scores = []\n",
    "accuracy_scores = []\n",
    "\n",
    "for fold, (train_index, val_index) in enumerate(kf.split(X)):\n",
    "    X_train, X_val = X.iloc[train_index], X.iloc[val_index]\n",
    "    y_train, y_val = y.iloc[train_index], y.iloc[val_index]\n",
    "    #X_train, y_train = smote.fit_resample(X_train, y_train)\n",
    "    \n",
    "    print(f\"Starting Bayes # {fold + 1}.\")\n",
    "    grid_search = GridSearchCV(estimator=knn, param_grid=param_grid, cv=3, scoring='f1', n_jobs=-1)\n",
    "    grid_search.fit(X_train, y_train)\n",
    "\n",
    "    best_knn = grid_search.best_estimator_\n",
    "    y_pred_val = best_knn.predict(X_val)\n",
    "\n",
    "    f1 = f1_score(y_val, y_pred_val, average='weighted')  # Use 'weighted' or adjust based on your data\n",
    "    accuracy = accuracy_score(y_val, y_pred_val)\n",
    "\n",
    "    f1_scores.append(f1)\n",
    "    accuracy_scores.append(accuracy)\n",
    "\n",
    "foldScores['Bayes'] = {\n",
    "    'F1-deviation': np.std(f1_scores),\n",
    "    'F1-average': np.mean(f1_scores),\n",
    "    'Accuracy-average': np.mean(accuracy_scores)\n",
    "}\n",
    "# Get Classification Report and Confusion Matrix only of last Fold\n",
    "print(classification_report(y_val, y_pred_val))\n",
    "print(confusion_matrix(y_val, y_pred_val))"
   ]
  },
  {
   "cell_type": "markdown",
   "metadata": {},
   "source": [
    "### Logistic Regression"
   ]
  },
  {
   "cell_type": "code",
   "execution_count": 24,
   "metadata": {},
   "outputs": [
    {
     "name": "stdout",
     "output_type": "stream",
     "text": [
      "Starting Log Regression # 1.\n"
     ]
    },
    {
     "name": "stderr",
     "output_type": "stream",
     "text": [
      "c:\\Users\\duart\\miniconda3\\envs\\churn\\Lib\\site-packages\\sklearn\\model_selection\\_search.py:1102: UserWarning: One or more of the test scores are non-finite: [nan nan nan nan nan nan nan nan nan nan nan nan nan nan nan nan nan nan\n",
      " nan nan nan nan nan nan nan nan nan nan nan nan nan nan nan nan nan nan\n",
      " nan nan nan nan nan nan nan nan nan nan nan nan nan nan nan nan nan nan\n",
      " nan nan nan nan nan nan nan nan nan nan]\n",
      "  warnings.warn(\n",
      "c:\\Users\\duart\\miniconda3\\envs\\churn\\Lib\\site-packages\\sklearn\\linear_model\\_logistic.py:469: ConvergenceWarning: lbfgs failed to converge (status=1):\n",
      "STOP: TOTAL NO. of ITERATIONS REACHED LIMIT.\n",
      "\n",
      "Increase the number of iterations (max_iter) or scale the data as shown in:\n",
      "    https://scikit-learn.org/stable/modules/preprocessing.html\n",
      "Please also refer to the documentation for alternative solver options:\n",
      "    https://scikit-learn.org/stable/modules/linear_model.html#logistic-regression\n",
      "  n_iter_i = _check_optimize_result(\n"
     ]
    },
    {
     "name": "stdout",
     "output_type": "stream",
     "text": [
      "Starting Log Regression # 2.\n"
     ]
    },
    {
     "name": "stderr",
     "output_type": "stream",
     "text": [
      "c:\\Users\\duart\\miniconda3\\envs\\churn\\Lib\\site-packages\\sklearn\\model_selection\\_search.py:1102: UserWarning: One or more of the test scores are non-finite: [nan nan nan nan nan nan nan nan nan nan nan nan nan nan nan nan nan nan\n",
      " nan nan nan nan nan nan nan nan nan nan nan nan nan nan nan nan nan nan\n",
      " nan nan nan nan nan nan nan nan nan nan nan nan nan nan nan nan nan nan\n",
      " nan nan nan nan nan nan nan nan nan nan]\n",
      "  warnings.warn(\n",
      "c:\\Users\\duart\\miniconda3\\envs\\churn\\Lib\\site-packages\\sklearn\\linear_model\\_logistic.py:469: ConvergenceWarning: lbfgs failed to converge (status=1):\n",
      "STOP: TOTAL NO. of ITERATIONS REACHED LIMIT.\n",
      "\n",
      "Increase the number of iterations (max_iter) or scale the data as shown in:\n",
      "    https://scikit-learn.org/stable/modules/preprocessing.html\n",
      "Please also refer to the documentation for alternative solver options:\n",
      "    https://scikit-learn.org/stable/modules/linear_model.html#logistic-regression\n",
      "  n_iter_i = _check_optimize_result(\n"
     ]
    },
    {
     "name": "stdout",
     "output_type": "stream",
     "text": [
      "Starting Log Regression # 3.\n"
     ]
    },
    {
     "name": "stderr",
     "output_type": "stream",
     "text": [
      "c:\\Users\\duart\\miniconda3\\envs\\churn\\Lib\\site-packages\\sklearn\\model_selection\\_search.py:1102: UserWarning: One or more of the test scores are non-finite: [nan nan nan nan nan nan nan nan nan nan nan nan nan nan nan nan nan nan\n",
      " nan nan nan nan nan nan nan nan nan nan nan nan nan nan nan nan nan nan\n",
      " nan nan nan nan nan nan nan nan nan nan nan nan nan nan nan nan nan nan\n",
      " nan nan nan nan nan nan nan nan nan nan]\n",
      "  warnings.warn(\n",
      "c:\\Users\\duart\\miniconda3\\envs\\churn\\Lib\\site-packages\\sklearn\\linear_model\\_logistic.py:469: ConvergenceWarning: lbfgs failed to converge (status=1):\n",
      "STOP: TOTAL NO. of ITERATIONS REACHED LIMIT.\n",
      "\n",
      "Increase the number of iterations (max_iter) or scale the data as shown in:\n",
      "    https://scikit-learn.org/stable/modules/preprocessing.html\n",
      "Please also refer to the documentation for alternative solver options:\n",
      "    https://scikit-learn.org/stable/modules/linear_model.html#logistic-regression\n",
      "  n_iter_i = _check_optimize_result(\n"
     ]
    },
    {
     "name": "stdout",
     "output_type": "stream",
     "text": [
      "Starting Log Regression # 4.\n"
     ]
    },
    {
     "name": "stderr",
     "output_type": "stream",
     "text": [
      "c:\\Users\\duart\\miniconda3\\envs\\churn\\Lib\\site-packages\\sklearn\\model_selection\\_search.py:1102: UserWarning: One or more of the test scores are non-finite: [nan nan nan nan nan nan nan nan nan nan nan nan nan nan nan nan nan nan\n",
      " nan nan nan nan nan nan nan nan nan nan nan nan nan nan nan nan nan nan\n",
      " nan nan nan nan nan nan nan nan nan nan nan nan nan nan nan nan nan nan\n",
      " nan nan nan nan nan nan nan nan nan nan]\n",
      "  warnings.warn(\n",
      "c:\\Users\\duart\\miniconda3\\envs\\churn\\Lib\\site-packages\\sklearn\\linear_model\\_logistic.py:469: ConvergenceWarning: lbfgs failed to converge (status=1):\n",
      "STOP: TOTAL NO. of ITERATIONS REACHED LIMIT.\n",
      "\n",
      "Increase the number of iterations (max_iter) or scale the data as shown in:\n",
      "    https://scikit-learn.org/stable/modules/preprocessing.html\n",
      "Please also refer to the documentation for alternative solver options:\n",
      "    https://scikit-learn.org/stable/modules/linear_model.html#logistic-regression\n",
      "  n_iter_i = _check_optimize_result(\n"
     ]
    },
    {
     "name": "stdout",
     "output_type": "stream",
     "text": [
      "Starting Log Regression # 5.\n"
     ]
    },
    {
     "name": "stderr",
     "output_type": "stream",
     "text": [
      "c:\\Users\\duart\\miniconda3\\envs\\churn\\Lib\\site-packages\\sklearn\\model_selection\\_search.py:1102: UserWarning: One or more of the test scores are non-finite: [nan nan nan nan nan nan nan nan nan nan nan nan nan nan nan nan nan nan\n",
      " nan nan nan nan nan nan nan nan nan nan nan nan nan nan nan nan nan nan\n",
      " nan nan nan nan nan nan nan nan nan nan nan nan nan nan nan nan nan nan\n",
      " nan nan nan nan nan nan nan nan nan nan]\n",
      "  warnings.warn(\n"
     ]
    },
    {
     "name": "stdout",
     "output_type": "stream",
     "text": [
      "              precision    recall  f1-score   support\n",
      "\n",
      "           0       0.00      0.00      0.00        77\n",
      "           1       0.32      0.09      0.14       560\n",
      "           2       0.29      0.40      0.33       748\n",
      "           3       0.24      0.02      0.04       619\n",
      "           4       0.33      0.67      0.45       739\n",
      "\n",
      "    accuracy                           0.31      2743\n",
      "   macro avg       0.24      0.24      0.19      2743\n",
      "weighted avg       0.29      0.31      0.25      2743\n",
      "\n",
      "[[  0   3  43   3  28]\n",
      " [  0  52 264   7 237]\n",
      " [  0  47 299   6 396]\n",
      " [  0  32 246  12 329]\n",
      " [  0  28 191  22 498]]\n"
     ]
    },
    {
     "name": "stderr",
     "output_type": "stream",
     "text": [
      "c:\\Users\\duart\\miniconda3\\envs\\churn\\Lib\\site-packages\\sklearn\\linear_model\\_logistic.py:469: ConvergenceWarning: lbfgs failed to converge (status=1):\n",
      "STOP: TOTAL NO. of ITERATIONS REACHED LIMIT.\n",
      "\n",
      "Increase the number of iterations (max_iter) or scale the data as shown in:\n",
      "    https://scikit-learn.org/stable/modules/preprocessing.html\n",
      "Please also refer to the documentation for alternative solver options:\n",
      "    https://scikit-learn.org/stable/modules/linear_model.html#logistic-regression\n",
      "  n_iter_i = _check_optimize_result(\n",
      "c:\\Users\\duart\\miniconda3\\envs\\churn\\Lib\\site-packages\\sklearn\\metrics\\_classification.py:1531: UndefinedMetricWarning: Precision is ill-defined and being set to 0.0 in labels with no predicted samples. Use `zero_division` parameter to control this behavior.\n",
      "  _warn_prf(average, modifier, f\"{metric.capitalize()} is\", len(result))\n",
      "c:\\Users\\duart\\miniconda3\\envs\\churn\\Lib\\site-packages\\sklearn\\metrics\\_classification.py:1531: UndefinedMetricWarning: Precision is ill-defined and being set to 0.0 in labels with no predicted samples. Use `zero_division` parameter to control this behavior.\n",
      "  _warn_prf(average, modifier, f\"{metric.capitalize()} is\", len(result))\n",
      "c:\\Users\\duart\\miniconda3\\envs\\churn\\Lib\\site-packages\\sklearn\\metrics\\_classification.py:1531: UndefinedMetricWarning: Precision is ill-defined and being set to 0.0 in labels with no predicted samples. Use `zero_division` parameter to control this behavior.\n",
      "  _warn_prf(average, modifier, f\"{metric.capitalize()} is\", len(result))\n"
     ]
    }
   ],
   "source": [
    "log_regression = LogisticRegression(random_state=42)\n",
    "param_grid = [\n",
    "    # 'lbfgs' solver supports only 'l2'\n",
    "    {'solver': ['lbfgs'], \n",
    "     'penalty': ['l2'], \n",
    "     'C': [0.1, 1, 10, 100], \n",
    "     'class_weight': [None, 'balanced']},\n",
    "\n",
    "    # 'liblinear' solver supports 'l1' and 'l2'\n",
    "    {'solver': ['liblinear'], \n",
    "     'penalty': ['l1', 'l2'], \n",
    "     'C': [0.1, 1, 10, 100], \n",
    "     'class_weight': [None, 'balanced']},\n",
    "\n",
    "    # 'saga' solver supports 'l1', 'l2', and 'elasticnet'\n",
    "    {'solver': ['saga'], \n",
    "     'penalty': ['l1', 'l2'], \n",
    "     'C': [0.1, 1, 10, 100], \n",
    "     'class_weight': [None, 'balanced']},\n",
    "    \n",
    "    # 'saga' solver with 'elasticnet'\n",
    "    {'solver': ['saga'], \n",
    "     'penalty': ['elasticnet'], \n",
    "     'C': [0.1, 1, 10, 100], \n",
    "     'class_weight': [None, 'balanced'], \n",
    "     'l1_ratio': [0.5, 0.7, 0.9]}  # Elastic net-specific parameter\n",
    "]\n",
    "\n",
    "f1_scores = []\n",
    "accuracy_scores = []\n",
    "\n",
    "for fold, (train_index, val_index) in enumerate(kf.split(X)):\n",
    "    X_train, X_val = X.iloc[train_index], X.iloc[val_index]\n",
    "    y_train, y_val = y.iloc[train_index], y.iloc[val_index]\n",
    "    #X_train, y_train = smote.fit_resample(X_train, y_train)\n",
    "    \n",
    "    print(f\"Starting Log Regression # {fold + 1}.\")\n",
    "    grid_search = GridSearchCV(estimator=log_regression, param_grid=param_grid, cv=3, scoring='f1', n_jobs=-1)\n",
    "    grid_search.fit(X_train, y_train)\n",
    "\n",
    "    best_log_regression = grid_search.best_estimator_\n",
    "    y_pred_val = best_log_regression.predict(X_val)\n",
    "\n",
    "    f1 = f1_score(y_val, y_pred_val, average='weighted')  # Use 'weighted' or adjust based on your data\n",
    "    accuracy = accuracy_score(y_val, y_pred_val)\n",
    "\n",
    "    f1_scores.append(f1)\n",
    "    accuracy_scores.append(accuracy)\n",
    "\n",
    "foldScores['LogRegression'] = {\n",
    "    'F1-deviation': np.std(f1_scores),\n",
    "    'F1-average': np.mean(f1_scores),\n",
    "    'Accuracy-average': np.mean(accuracy_scores)\n",
    "}\n",
    "# Get Classification Report and Confusion Matrix only of last Fold\n",
    "print(classification_report(y_val, y_pred_val))\n",
    "print(confusion_matrix(y_val, y_pred_val))"
   ]
  },
  {
   "cell_type": "code",
   "execution_count": 26,
   "metadata": {},
   "outputs": [
    {
     "data": {
      "text/plain": [
       "{'DTree': {'F1-deviation': 0.015600790235479004,\n",
       "  'F1-average': 0.29598740017244235,\n",
       "  'Accuracy-average': 0.36308002134242584},\n",
       " 'RForest': {'F1-deviation': 0.010331811535774595,\n",
       "  'F1-average': 0.2943165652971477,\n",
       "  'Accuracy-average': 0.3667985776676172},\n",
       " 'Bayes': {'F1-deviation': 0.006415885877924828,\n",
       "  'F1-average': 0.33751651076322464,\n",
       "  'Accuracy-average': 0.3395309449231492},\n",
       " 'LogRegression': {'F1-deviation': 0.012902845297494626,\n",
       "  'F1-average': 0.254329972858435,\n",
       "  'Accuracy-average': 0.3165655434612781}}"
      ]
     },
     "execution_count": 26,
     "metadata": {},
     "output_type": "execute_result"
    }
   ],
   "source": [
    "foldScores"
   ]
  },
  {
   "cell_type": "markdown",
   "metadata": {},
   "source": [
    "## Cats - Binary Classification"
   ]
  },
  {
   "cell_type": "code",
   "execution_count": 27,
   "metadata": {},
   "outputs": [],
   "source": [
    "df = pd.read_csv('./Data/BINARY-CATS.csv', index_col='PetID') # Classifications for generic DF with isPetAdopted as the target\n",
    "smote = SMOTE(sampling_strategy=0.8, random_state=42)\n",
    "\n",
    "kf = KFold(n_splits=5, shuffle=True, random_state=42)\n",
    "X, y = df.drop(columns='isPetAdopted'), df['isPetAdopted']\n",
    "\n",
    "\n",
    "foldScores = {}"
   ]
  },
  {
   "cell_type": "markdown",
   "metadata": {},
   "source": [
    "### Decision Tree"
   ]
  },
  {
   "cell_type": "code",
   "execution_count": 28,
   "metadata": {},
   "outputs": [
    {
     "name": "stdout",
     "output_type": "stream",
     "text": [
      "Starting Decision Tree # 1.\n",
      "Starting Decision Tree # 2.\n",
      "Starting Decision Tree # 3.\n",
      "Starting Decision Tree # 4.\n",
      "Starting Decision Tree # 5.\n",
      "              precision    recall  f1-score   support\n",
      "\n",
      "       False       0.38      0.44      0.41       301\n",
      "        True       0.81      0.78      0.79       947\n",
      "\n",
      "    accuracy                           0.69      1248\n",
      "   macro avg       0.60      0.61      0.60      1248\n",
      "weighted avg       0.71      0.69      0.70      1248\n",
      "\n",
      "[[131 170]\n",
      " [213 734]]\n"
     ]
    }
   ],
   "source": [
    "dtree = tree.DecisionTreeClassifier(random_state=42)\n",
    "\n",
    "dtree_param_grid = {\n",
    "    'max_depth': [3,5,10,15],\n",
    "    'min_samples_split': [2, 5, 10],\n",
    "    'min_samples_leaf': [1, 2, 4],\n",
    "    'criterion': ['gini', 'entropy'],\n",
    "    'max_features': [None, 'sqrt', 'log2']\n",
    "}\n",
    "\n",
    "f1_scores = []\n",
    "accuracy_scores = []\n",
    "\n",
    "for fold, (train_index, val_index) in enumerate(kf.split(X)):\n",
    "    X_train, X_val = X.iloc[train_index], X.iloc[val_index]\n",
    "    y_train, y_val = y.iloc[train_index], y.iloc[val_index]\n",
    "    X_train, y_train = smote.fit_resample(X_train, y_train)\n",
    "    \n",
    "    print(f\"Starting Decision Tree # {fold + 1}.\")\n",
    "    grid_search = GridSearchCV(estimator=dtree, param_grid=dtree_param_grid, cv=3, scoring='f1', n_jobs=-1)\n",
    "    grid_search.fit(X_train, y_train)\n",
    "\n",
    "    best_dtree = grid_search.best_estimator_\n",
    "    y_pred_val = best_dtree.predict(X_val)\n",
    "\n",
    "    f1 = f1_score(y_val, y_pred_val, average='weighted')  # Use 'weighted' or adjust based on your data\n",
    "    accuracy = accuracy_score(y_val, y_pred_val)\n",
    "\n",
    "    f1_scores.append(f1)\n",
    "    accuracy_scores.append(accuracy)\n",
    "\n",
    "foldScores['DTree'] = {\n",
    "    'F1-deviation': np.std(f1_scores),\n",
    "    'F1-average': np.mean(f1_scores),\n",
    "    'Accuracy-average': np.mean(accuracy_scores)\n",
    "}\n",
    "# Get Classification Report and Confusion Matrix only of last Fold\n",
    "print(classification_report(y_val, y_pred_val))\n",
    "print(confusion_matrix(y_val, y_pred_val))"
   ]
  },
  {
   "cell_type": "markdown",
   "metadata": {},
   "source": [
    "### Random Forest"
   ]
  },
  {
   "cell_type": "code",
   "execution_count": 29,
   "metadata": {},
   "outputs": [
    {
     "name": "stdout",
     "output_type": "stream",
     "text": [
      "Starting Decision Tree # 1.\n",
      "Starting Decision Tree # 2.\n",
      "Starting Decision Tree # 3.\n",
      "Starting Decision Tree # 4.\n",
      "Starting Decision Tree # 5.\n",
      "              precision    recall  f1-score   support\n",
      "\n",
      "       False       0.49      0.46      0.48       301\n",
      "        True       0.83      0.85      0.84       947\n",
      "\n",
      "    accuracy                           0.76      1248\n",
      "   macro avg       0.66      0.66      0.66      1248\n",
      "weighted avg       0.75      0.76      0.75      1248\n",
      "\n",
      "[[139 162]\n",
      " [143 804]]\n"
     ]
    }
   ],
   "source": [
    "rforest = RandomForestClassifier(random_state=42)\n",
    "\n",
    "param_grid = {\n",
    "    'max_depth': [3,5,10,15],\n",
    "    'min_samples_split': [2, 5, 10],\n",
    "    'min_samples_leaf': [1, 2, 4],\n",
    "    'criterion': ['gini', 'entropy'],\n",
    "    'max_features': [None, 'sqrt', 'log2']\n",
    "}\n",
    "\n",
    "f1_scores = []\n",
    "accuracy_scores = []\n",
    "\n",
    "for fold, (train_index, val_index) in enumerate(kf.split(X)):\n",
    "    X_train, X_val = X.iloc[train_index], X.iloc[val_index]\n",
    "    y_train, y_val = y.iloc[train_index], y.iloc[val_index]\n",
    "    X_train, y_train = smote.fit_resample(X_train, y_train)\n",
    "    \n",
    "    print(f\"Starting Decision Tree # {fold + 1}.\")\n",
    "    grid_search = GridSearchCV(estimator=rforest, param_grid=param_grid, cv=3, scoring='f1', n_jobs=-1)\n",
    "    grid_search.fit(X_train, y_train)\n",
    "\n",
    "    best_rforest = grid_search.best_estimator_\n",
    "    y_pred_val = best_rforest.predict(X_val)\n",
    "\n",
    "    f1 = f1_score(y_val, y_pred_val, average='weighted')  # Use 'weighted' or adjust based on your data\n",
    "    accuracy = accuracy_score(y_val, y_pred_val)\n",
    "\n",
    "    f1_scores.append(f1)\n",
    "    accuracy_scores.append(accuracy)\n",
    "\n",
    "foldScores['RForest'] = {\n",
    "    'F1-deviation': np.std(f1_scores),\n",
    "    'F1-average': np.mean(f1_scores),\n",
    "    'Accuracy-average': np.mean(accuracy_scores)\n",
    "}\n",
    "# Get Classification Report and Confusion Matrix only of last Fold\n",
    "print(classification_report(y_val, y_pred_val))\n",
    "print(confusion_matrix(y_val, y_pred_val))"
   ]
  },
  {
   "cell_type": "markdown",
   "metadata": {},
   "source": [
    "### Bayes"
   ]
  },
  {
   "cell_type": "code",
   "execution_count": 30,
   "metadata": {},
   "outputs": [
    {
     "name": "stdout",
     "output_type": "stream",
     "text": [
      "Starting Bayes # 1.\n",
      "Starting Bayes # 2.\n",
      "Starting Bayes # 3.\n",
      "Starting Bayes # 4.\n",
      "Starting Bayes # 5.\n",
      "              precision    recall  f1-score   support\n",
      "\n",
      "       False       0.30      0.64      0.41       301\n",
      "        True       0.82      0.53      0.65       947\n",
      "\n",
      "    accuracy                           0.56      1248\n",
      "   macro avg       0.56      0.59      0.53      1248\n",
      "weighted avg       0.70      0.56      0.59      1248\n",
      "\n",
      "[[193 108]\n",
      " [443 504]]\n"
     ]
    }
   ],
   "source": [
    "bayes = GaussianNB()\n",
    "param_grid = {}\n",
    "\n",
    "f1_scores = []\n",
    "accuracy_scores = []\n",
    "\n",
    "for fold, (train_index, val_index) in enumerate(kf.split(X)):\n",
    "    X_train, X_val = X.iloc[train_index], X.iloc[val_index]\n",
    "    y_train, y_val = y.iloc[train_index], y.iloc[val_index]\n",
    "    X_train, y_train = smote.fit_resample(X_train, y_train)\n",
    "    \n",
    "    print(f\"Starting Bayes # {fold + 1}.\")\n",
    "    grid_search = GridSearchCV(estimator=bayes, param_grid=param_grid, cv=3, scoring='f1', n_jobs=-1)\n",
    "    grid_search.fit(X_train, y_train)\n",
    "\n",
    "    best_bayes = grid_search.best_estimator_\n",
    "    y_pred_val = best_bayes.predict(X_val)\n",
    "\n",
    "    f1 = f1_score(y_val, y_pred_val, average='weighted')  # Use 'weighted' or adjust based on your data\n",
    "    accuracy = accuracy_score(y_val, y_pred_val)\n",
    "\n",
    "    f1_scores.append(f1)\n",
    "    accuracy_scores.append(accuracy)\n",
    "\n",
    "foldScores['Bayes'] = {\n",
    "    'F1-deviation': np.std(f1_scores),\n",
    "    'F1-average': np.mean(f1_scores),\n",
    "    'Accuracy-average': np.mean(accuracy_scores)\n",
    "}\n",
    "# Get Classification Report and Confusion Matrix only of last Fold\n",
    "print(classification_report(y_val, y_pred_val))\n",
    "print(confusion_matrix(y_val, y_pred_val))"
   ]
  },
  {
   "cell_type": "markdown",
   "metadata": {},
   "source": [
    "### KNN"
   ]
  },
  {
   "cell_type": "code",
   "execution_count": 31,
   "metadata": {},
   "outputs": [
    {
     "data": {
      "image/png": "[encoded data removed]",
      "text/plain": [
       "<Figure size 1000x600 with 1 Axes>"
      ]
     },
     "metadata": {},
     "output_type": "display_data"
    }
   ],
   "source": [
    "k_values = range(1, 21)  # Testing k from 1 to 20\n",
    "bic_scores = []\n",
    "\n",
    "for k in k_values:\n",
    "    knn = KNeighborsClassifier(n_neighbors=k)\n",
    "    \n",
    "    # Use cross-validation to calculate the average accuracy\n",
    "    scores = cross_val_score(knn, X, y, cv=5, scoring='accuracy')\n",
    "    \n",
    "    # Calculate RSS (Residual Sum of Squares) as 1 - accuracy\n",
    "    rss = (1 - scores.mean()) * len(X)\n",
    "    \n",
    "    # Calculate BIC\n",
    "    n = len(X)\n",
    "    bic = n * np.log(rss) + k * np.log(n)\n",
    "    bic_scores.append(bic)\n",
    "\n",
    "# Plot the BIC scores\n",
    "plt.figure(figsize=(10, 6))\n",
    "plt.plot(k_values, bic_scores, marker='o', linestyle='-', color='b')\n",
    "plt.title('Elbow Method using BIC for KNN')\n",
    "plt.xlabel('Number of Neighbors (k)')\n",
    "plt.ylabel('BIC Score')\n",
    "plt.xticks(k_values)\n",
    "plt.grid()\n",
    "plt.show()\n",
    "knn = KNeighborsClassifier()"
   ]
  },
  {
   "cell_type": "code",
   "execution_count": 32,
   "metadata": {},
   "outputs": [
    {
     "name": "stdout",
     "output_type": "stream",
     "text": [
      "Starting Bayes # 1.\n",
      "Starting Bayes # 2.\n",
      "Starting Bayes # 3.\n",
      "Starting Bayes # 4.\n",
      "Starting Bayes # 5.\n",
      "              precision    recall  f1-score   support\n",
      "\n",
      "       False       0.43      0.50      0.47       301\n",
      "        True       0.83      0.79      0.81       947\n",
      "\n",
      "    accuracy                           0.72      1248\n",
      "   macro avg       0.63      0.65      0.64      1248\n",
      "weighted avg       0.74      0.72      0.73      1248\n",
      "\n",
      "[[152 149]\n",
      " [199 748]]\n"
     ]
    }
   ],
   "source": [
    "# Define hyperparameters to tune\n",
    "param_grid = {\n",
    "    'n_neighbors': [11],  # Number of neighbors\n",
    "    'weights': ['uniform', 'distance'],  # Uniform or distance-based weighting\n",
    "    'metric': ['euclidean', 'manhattan'],  # Distance metric\n",
    "}\n",
    "\n",
    "f1_scores = []\n",
    "accuracy_scores = []\n",
    "\n",
    "for fold, (train_index, val_index) in enumerate(kf.split(X)):\n",
    "    X_train, X_val = X.iloc[train_index], X.iloc[val_index]\n",
    "    y_train, y_val = y.iloc[train_index], y.iloc[val_index]\n",
    "    X_train, y_train = smote.fit_resample(X_train, y_train)\n",
    "    \n",
    "    print(f\"Starting Bayes # {fold + 1}.\")\n",
    "    grid_search = GridSearchCV(estimator=knn, param_grid=param_grid, cv=3, scoring='f1', n_jobs=-1)\n",
    "    grid_search.fit(X_train, y_train)\n",
    "\n",
    "    best_knn = grid_search.best_estimator_\n",
    "    y_pred_val = best_knn.predict(X_val)\n",
    "\n",
    "    f1 = f1_score(y_val, y_pred_val, average='weighted')  # Use 'weighted' or adjust based on your data\n",
    "    accuracy = accuracy_score(y_val, y_pred_val)\n",
    "\n",
    "    f1_scores.append(f1)\n",
    "    accuracy_scores.append(accuracy)\n",
    "\n",
    "foldScores['Bayes'] = {\n",
    "    'F1-deviation': np.std(f1_scores),\n",
    "    'F1-average': np.mean(f1_scores),\n",
    "    'Accuracy-average': np.mean(accuracy_scores)\n",
    "}\n",
    "# Get Classification Report and Confusion Matrix only of last Fold\n",
    "print(classification_report(y_val, y_pred_val))\n",
    "print(confusion_matrix(y_val, y_pred_val))"
   ]
  },
  {
   "cell_type": "markdown",
   "metadata": {},
   "source": [
    "### Logistic Regression"
   ]
  },
  {
   "cell_type": "code",
   "execution_count": 33,
   "metadata": {},
   "outputs": [
    {
     "name": "stdout",
     "output_type": "stream",
     "text": [
      "Starting Log Regression # 1.\n",
      "Starting Log Regression # 2.\n",
      "Starting Log Regression # 3.\n",
      "Starting Log Regression # 4.\n",
      "Starting Log Regression # 5.\n",
      "              precision    recall  f1-score   support\n",
      "\n",
      "       False       0.38      0.40      0.39       301\n",
      "        True       0.81      0.79      0.80       947\n",
      "\n",
      "    accuracy                           0.70      1248\n",
      "   macro avg       0.59      0.60      0.60      1248\n",
      "weighted avg       0.70      0.70      0.70      1248\n",
      "\n",
      "[[121 180]\n",
      " [196 751]]\n"
     ]
    }
   ],
   "source": [
    "log_regression = LogisticRegression(random_state=42)\n",
    "param_grid = [\n",
    "    # 'lbfgs' solver supports only 'l2'\n",
    "    {'solver': ['lbfgs'], \n",
    "     'penalty': ['l2'], \n",
    "     'C': [0.1, 1, 10, 100], \n",
    "     'class_weight': [None, 'balanced']},\n",
    "\n",
    "    # 'liblinear' solver supports 'l1' and 'l2'\n",
    "    {'solver': ['liblinear'], \n",
    "     'penalty': ['l1', 'l2'], \n",
    "     'C': [0.1, 1, 10, 100], \n",
    "     'class_weight': [None, 'balanced']},\n",
    "\n",
    "    # 'saga' solver supports 'l1', 'l2', and 'elasticnet'\n",
    "    {'solver': ['saga'], \n",
    "     'penalty': ['l1', 'l2'], \n",
    "     'C': [0.1, 1, 10, 100], \n",
    "     'class_weight': [None, 'balanced']},\n",
    "    \n",
    "    # 'saga' solver with 'elasticnet'\n",
    "    {'solver': ['saga'], \n",
    "     'penalty': ['elasticnet'], \n",
    "     'C': [0.1, 1, 10, 100], \n",
    "     'class_weight': [None, 'balanced'], \n",
    "     'l1_ratio': [0.5, 0.7, 0.9]}  # Elastic net-specific parameter\n",
    "]\n",
    "\n",
    "f1_scores = []\n",
    "accuracy_scores = []\n",
    "\n",
    "for fold, (train_index, val_index) in enumerate(kf.split(X)):\n",
    "    X_train, X_val = X.iloc[train_index], X.iloc[val_index]\n",
    "    y_train, y_val = y.iloc[train_index], y.iloc[val_index]\n",
    "    X_train, y_train = smote.fit_resample(X_train, y_train)\n",
    "    \n",
    "    print(f\"Starting Log Regression # {fold + 1}.\")\n",
    "    grid_search = GridSearchCV(estimator=log_regression, param_grid=param_grid, cv=3, scoring='f1', n_jobs=-1)\n",
    "    grid_search.fit(X_train, y_train)\n",
    "\n",
    "    best_log_regression = grid_search.best_estimator_\n",
    "    y_pred_val = best_log_regression.predict(X_val)\n",
    "\n",
    "    f1 = f1_score(y_val, y_pred_val, average='weighted')  # Use 'weighted' or adjust based on your data\n",
    "    accuracy = accuracy_score(y_val, y_pred_val)\n",
    "\n",
    "    f1_scores.append(f1)\n",
    "    accuracy_scores.append(accuracy)\n",
    "\n",
    "foldScores['LogRegression'] = {\n",
    "    'F1-deviation': np.std(f1_scores),\n",
    "    'F1-average': np.mean(f1_scores),\n",
    "    'Accuracy-average': np.mean(accuracy_scores)\n",
    "}\n",
    "# Get Classification Report and Confusion Matrix only of last Fold\n",
    "print(classification_report(y_val, y_pred_val))\n",
    "print(confusion_matrix(y_val, y_pred_val))"
   ]
  },
  {
   "cell_type": "markdown",
   "metadata": {},
   "source": [
    "## Dogs - Binary Classification"
   ]
  },
  {
   "cell_type": "code",
   "execution_count": 34,
   "metadata": {},
   "outputs": [],
   "source": [
    "df = pd.read_csv('./Data/BINARY-DOGS.csv', index_col='PetID') # Classifications for generic DF with isPetAdopted as the target\n",
    "smote = SMOTE(sampling_strategy=0.8, random_state=42)\n",
    "\n",
    "kf = KFold(n_splits=5, shuffle=True, random_state=42)\n",
    "X, y = df.drop(columns='isPetAdopted'), df['isPetAdopted']\n",
    "\n",
    "\n",
    "foldScores = {}"
   ]
  },
  {
   "cell_type": "markdown",
   "metadata": {},
   "source": [
    "### Decision Tree"
   ]
  },
  {
   "cell_type": "code",
   "execution_count": 35,
   "metadata": {},
   "outputs": [
    {
     "name": "stdout",
     "output_type": "stream",
     "text": [
      "Starting Decision Tree # 1.\n",
      "Starting Decision Tree # 2.\n",
      "Starting Decision Tree # 3.\n",
      "Starting Decision Tree # 4.\n",
      "Starting Decision Tree # 5.\n",
      "              precision    recall  f1-score   support\n",
      "\n",
      "       False       0.56      0.50      0.53       438\n",
      "        True       0.80      0.84      0.82      1057\n",
      "\n",
      "    accuracy                           0.74      1495\n",
      "   macro avg       0.68      0.67      0.67      1495\n",
      "weighted avg       0.73      0.74      0.73      1495\n",
      "\n",
      "[[217 221]\n",
      " [168 889]]\n"
     ]
    }
   ],
   "source": [
    "dtree = tree.DecisionTreeClassifier(random_state=42)\n",
    "\n",
    "dtree_param_grid = {\n",
    "    'max_depth': [3,5,10,15],\n",
    "    'min_samples_split': [2, 5, 10],\n",
    "    'min_samples_leaf': [1, 2, 4],\n",
    "    'criterion': ['gini', 'entropy'],\n",
    "    'max_features': [None, 'sqrt', 'log2']\n",
    "}\n",
    "\n",
    "f1_scores = []\n",
    "accuracy_scores = []\n",
    "\n",
    "for fold, (train_index, val_index) in enumerate(kf.split(X)):\n",
    "    X_train, X_val = X.iloc[train_index], X.iloc[val_index]\n",
    "    y_train, y_val = y.iloc[train_index], y.iloc[val_index]\n",
    "    X_train, y_train = smote.fit_resample(X_train, y_train)\n",
    "    \n",
    "    print(f\"Starting Decision Tree # {fold + 1}.\")\n",
    "    grid_search = GridSearchCV(estimator=dtree, param_grid=dtree_param_grid, cv=3, scoring='f1', n_jobs=-1)\n",
    "    grid_search.fit(X_train, y_train)\n",
    "\n",
    "    best_dtree = grid_search.best_estimator_\n",
    "    y_pred_val = best_dtree.predict(X_val)\n",
    "\n",
    "    f1 = f1_score(y_val, y_pred_val, average='weighted')  # Use 'weighted' or adjust based on your data\n",
    "    accuracy = accuracy_score(y_val, y_pred_val)\n",
    "\n",
    "    f1_scores.append(f1)\n",
    "    accuracy_scores.append(accuracy)\n",
    "\n",
    "foldScores['DTree'] = {\n",
    "    'F1-deviation': np.std(f1_scores),\n",
    "    'F1-average': np.mean(f1_scores),\n",
    "    'Accuracy-average': np.mean(accuracy_scores)\n",
    "}\n",
    "# Get Classification Report and Confusion Matrix only of last Fold\n",
    "print(classification_report(y_val, y_pred_val))\n",
    "print(confusion_matrix(y_val, y_pred_val))"
   ]
  },
  {
   "cell_type": "markdown",
   "metadata": {},
   "source": [
    "### Random Forest"
   ]
  },
  {
   "cell_type": "code",
   "execution_count": 36,
   "metadata": {},
   "outputs": [
    {
     "name": "stdout",
     "output_type": "stream",
     "text": [
      "Starting Decision Tree # 1.\n",
      "Starting Decision Tree # 2.\n",
      "Starting Decision Tree # 3.\n",
      "Starting Decision Tree # 4.\n",
      "Starting Decision Tree # 5.\n",
      "              precision    recall  f1-score   support\n",
      "\n",
      "       False       0.59      0.55      0.57       438\n",
      "        True       0.82      0.84      0.83      1057\n",
      "\n",
      "    accuracy                           0.75      1495\n",
      "   macro avg       0.70      0.69      0.70      1495\n",
      "weighted avg       0.75      0.75      0.75      1495\n",
      "\n",
      "[[240 198]\n",
      " [170 887]]\n"
     ]
    }
   ],
   "source": [
    "rforest = RandomForestClassifier(random_state=42)\n",
    "\n",
    "param_grid = {\n",
    "    'max_depth': [3,5,10,15],\n",
    "    'min_samples_split': [2, 5, 10],\n",
    "    'min_samples_leaf': [1, 2, 4],\n",
    "    'criterion': ['gini', 'entropy'],\n",
    "    'max_features': [None, 'sqrt', 'log2']\n",
    "}\n",
    "\n",
    "f1_scores = []\n",
    "accuracy_scores = []\n",
    "\n",
    "for fold, (train_index, val_index) in enumerate(kf.split(X)):\n",
    "    X_train, X_val = X.iloc[train_index], X.iloc[val_index]\n",
    "    y_train, y_val = y.iloc[train_index], y.iloc[val_index]\n",
    "    X_train, y_train = smote.fit_resample(X_train, y_train)\n",
    "    \n",
    "    print(f\"Starting Decision Tree # {fold + 1}.\")\n",
    "    grid_search = GridSearchCV(estimator=rforest, param_grid=param_grid, cv=3, scoring='f1', n_jobs=-1)\n",
    "    grid_search.fit(X_train, y_train)\n",
    "\n",
    "    best_rforest = grid_search.best_estimator_\n",
    "    y_pred_val = best_rforest.predict(X_val)\n",
    "\n",
    "    f1 = f1_score(y_val, y_pred_val, average='weighted')  # Use 'weighted' or adjust based on your data\n",
    "    accuracy = accuracy_score(y_val, y_pred_val)\n",
    "\n",
    "    f1_scores.append(f1)\n",
    "    accuracy_scores.append(accuracy)\n",
    "\n",
    "foldScores['RForest'] = {\n",
    "    'F1-deviation': np.std(f1_scores),\n",
    "    'F1-average': np.mean(f1_scores),\n",
    "    'Accuracy-average': np.mean(accuracy_scores)\n",
    "}\n",
    "# Get Classification Report and Confusion Matrix only of last Fold\n",
    "print(classification_report(y_val, y_pred_val))\n",
    "print(confusion_matrix(y_val, y_pred_val))"
   ]
  },
  {
   "cell_type": "markdown",
   "metadata": {},
   "source": [
    "### Bayes"
   ]
  },
  {
   "cell_type": "code",
   "execution_count": 37,
   "metadata": {},
   "outputs": [
    {
     "name": "stdout",
     "output_type": "stream",
     "text": [
      "Starting Bayes # 1.\n",
      "Starting Bayes # 2.\n",
      "Starting Bayes # 3.\n",
      "Starting Bayes # 4.\n",
      "Starting Bayes # 5.\n",
      "              precision    recall  f1-score   support\n",
      "\n",
      "       False       0.37      0.69      0.48       438\n",
      "        True       0.80      0.52      0.63      1057\n",
      "\n",
      "    accuracy                           0.57      1495\n",
      "   macro avg       0.59      0.60      0.56      1495\n",
      "weighted avg       0.68      0.57      0.59      1495\n",
      "\n",
      "[[303 135]\n",
      " [512 545]]\n"
     ]
    }
   ],
   "source": [
    "bayes = GaussianNB()\n",
    "param_grid = {}\n",
    "\n",
    "f1_scores = []\n",
    "accuracy_scores = []\n",
    "\n",
    "for fold, (train_index, val_index) in enumerate(kf.split(X)):\n",
    "    X_train, X_val = X.iloc[train_index], X.iloc[val_index]\n",
    "    y_train, y_val = y.iloc[train_index], y.iloc[val_index]\n",
    "    X_train, y_train = smote.fit_resample(X_train, y_train)\n",
    "    \n",
    "    print(f\"Starting Bayes # {fold + 1}.\")\n",
    "    grid_search = GridSearchCV(estimator=bayes, param_grid=param_grid, cv=3, scoring='f1', n_jobs=-1)\n",
    "    grid_search.fit(X_train, y_train)\n",
    "\n",
    "    best_bayes = grid_search.best_estimator_\n",
    "    y_pred_val = best_bayes.predict(X_val)\n",
    "\n",
    "    f1 = f1_score(y_val, y_pred_val, average='weighted')  # Use 'weighted' or adjust based on your data\n",
    "    accuracy = accuracy_score(y_val, y_pred_val)\n",
    "\n",
    "    f1_scores.append(f1)\n",
    "    accuracy_scores.append(accuracy)\n",
    "\n",
    "foldScores['Bayes'] = {\n",
    "    'F1-deviation': np.std(f1_scores),\n",
    "    'F1-average': np.mean(f1_scores),\n",
    "    'Accuracy-average': np.mean(accuracy_scores)\n",
    "}\n",
    "# Get Classification Report and Confusion Matrix only of last Fold\n",
    "print(classification_report(y_val, y_pred_val))\n",
    "print(confusion_matrix(y_val, y_pred_val))"
   ]
  },
  {
   "cell_type": "markdown",
   "metadata": {},
   "source": [
    "### KNN"
   ]
  },
  {
   "cell_type": "code",
   "execution_count": 38,
   "metadata": {},
   "outputs": [
    {
     "data": {
      "image/png": "[encoded data removed]",
      "text/plain": [
       "<Figure size 1000x600 with 1 Axes>"
      ]
     },
     "metadata": {},
     "output_type": "display_data"
    }
   ],
   "source": [
    "k_values = range(1, 21)  # Testing k from 1 to 20\n",
    "bic_scores = []\n",
    "\n",
    "for k in k_values:\n",
    "    knn = KNeighborsClassifier(n_neighbors=k)\n",
    "    \n",
    "    # Use cross-validation to calculate the average accuracy\n",
    "    scores = cross_val_score(knn, X, y, cv=5, scoring='accuracy')\n",
    "    \n",
    "    # Calculate RSS (Residual Sum of Squares) as 1 - accuracy\n",
    "    rss = (1 - scores.mean()) * len(X)\n",
    "    \n",
    "    # Calculate BIC\n",
    "    n = len(X)\n",
    "    bic = n * np.log(rss) + k * np.log(n)\n",
    "    bic_scores.append(bic)\n",
    "\n",
    "# Plot the BIC scores\n",
    "plt.figure(figsize=(10, 6))\n",
    "plt.plot(k_values, bic_scores, marker='o', linestyle='-', color='b')\n",
    "plt.title('Elbow Method using BIC for KNN')\n",
    "plt.xlabel('Number of Neighbors (k)')\n",
    "plt.ylabel('BIC Score')\n",
    "plt.xticks(k_values)\n",
    "plt.grid()\n",
    "plt.show()"
   ]
  },
  {
   "cell_type": "code",
   "execution_count": 39,
   "metadata": {},
   "outputs": [
    {
     "name": "stdout",
     "output_type": "stream",
     "text": [
      "Starting Bayes # 1.\n",
      "Starting Bayes # 2.\n",
      "Starting Bayes # 3.\n",
      "Starting Bayes # 4.\n",
      "Starting Bayes # 5.\n",
      "              precision    recall  f1-score   support\n",
      "\n",
      "       False       0.51      0.52      0.52       438\n",
      "        True       0.80      0.79      0.80      1057\n",
      "\n",
      "    accuracy                           0.71      1495\n",
      "   macro avg       0.66      0.66      0.66      1495\n",
      "weighted avg       0.72      0.71      0.72      1495\n",
      "\n",
      "[[229 209]\n",
      " [218 839]]\n"
     ]
    }
   ],
   "source": [
    "knn = KNeighborsClassifier()\n",
    "# Define hyperparameters to tune\n",
    "param_grid = {\n",
    "    'n_neighbors': [11],  # Number of neighbors\n",
    "    'weights': ['uniform', 'distance'],  # Uniform or distance-based weighting\n",
    "    'metric': ['euclidean', 'manhattan'],  # Distance metric\n",
    "}\n",
    "\n",
    "f1_scores = []\n",
    "accuracy_scores = []\n",
    "\n",
    "for fold, (train_index, val_index) in enumerate(kf.split(X)):\n",
    "    X_train, X_val = X.iloc[train_index], X.iloc[val_index]\n",
    "    y_train, y_val = y.iloc[train_index], y.iloc[val_index]\n",
    "    X_train, y_train = smote.fit_resample(X_train, y_train)\n",
    "    \n",
    "    print(f\"Starting Bayes # {fold + 1}.\")\n",
    "    grid_search = GridSearchCV(estimator=knn, param_grid=param_grid, cv=3, scoring='f1', n_jobs=-1)\n",
    "    grid_search.fit(X_train, y_train)\n",
    "\n",
    "    best_knn = grid_search.best_estimator_\n",
    "    y_pred_val = best_knn.predict(X_val)\n",
    "\n",
    "    f1 = f1_score(y_val, y_pred_val, average='weighted')  # Use 'weighted' or adjust based on your data\n",
    "    accuracy = accuracy_score(y_val, y_pred_val)\n",
    "\n",
    "    f1_scores.append(f1)\n",
    "    accuracy_scores.append(accuracy)\n",
    "\n",
    "foldScores['Bayes'] = {\n",
    "    'F1-deviation': np.std(f1_scores),\n",
    "    'F1-average': np.mean(f1_scores),\n",
    "    'Accuracy-average': np.mean(accuracy_scores)\n",
    "}\n",
    "# Get Classification Report and Confusion Matrix only of last Fold\n",
    "print(classification_report(y_val, y_pred_val))\n",
    "print(confusion_matrix(y_val, y_pred_val))"
   ]
  },
  {
   "cell_type": "markdown",
   "metadata": {},
   "source": [
    "### Logistic Regression"
   ]
  },
  {
   "cell_type": "code",
   "execution_count": 40,
   "metadata": {},
   "outputs": [
    {
     "name": "stdout",
     "output_type": "stream",
     "text": [
      "Starting Log Regression # 1.\n"
     ]
    },
    {
     "name": "stderr",
     "output_type": "stream",
     "text": [
      "c:\\Users\\duart\\miniconda3\\envs\\churn\\Lib\\site-packages\\sklearn\\linear_model\\_logistic.py:469: ConvergenceWarning: lbfgs failed to converge (status=1):\n",
      "STOP: TOTAL NO. of ITERATIONS REACHED LIMIT.\n",
      "\n",
      "Increase the number of iterations (max_iter) or scale the data as shown in:\n",
      "    https://scikit-learn.org/stable/modules/preprocessing.html\n",
      "Please also refer to the documentation for alternative solver options:\n",
      "    https://scikit-learn.org/stable/modules/linear_model.html#logistic-regression\n",
      "  n_iter_i = _check_optimize_result(\n"
     ]
    },
    {
     "name": "stdout",
     "output_type": "stream",
     "text": [
      "Starting Log Regression # 2.\n",
      "Starting Log Regression # 3.\n",
      "Starting Log Regression # 4.\n",
      "Starting Log Regression # 5.\n",
      "              precision    recall  f1-score   support\n",
      "\n",
      "       False       0.46      0.47      0.47       438\n",
      "        True       0.78      0.78      0.78      1057\n",
      "\n",
      "    accuracy                           0.69      1495\n",
      "   macro avg       0.62      0.62      0.62      1495\n",
      "weighted avg       0.69      0.69      0.69      1495\n",
      "\n",
      "[[205 233]\n",
      " [237 820]]\n"
     ]
    }
   ],
   "source": [
    "log_regression = LogisticRegression(random_state=42)\n",
    "param_grid = [\n",
    "    # 'lbfgs' solver supports only 'l2'\n",
    "    {'solver': ['lbfgs'], \n",
    "     'penalty': ['l2'], \n",
    "     'C': [0.1, 1, 10, 100], \n",
    "     'class_weight': [None, 'balanced']},\n",
    "\n",
    "    # 'liblinear' solver supports 'l1' and 'l2'\n",
    "    {'solver': ['liblinear'], \n",
    "     'penalty': ['l1', 'l2'], \n",
    "     'C': [0.1, 1, 10, 100], \n",
    "     'class_weight': [None, 'balanced']},\n",
    "\n",
    "    # 'saga' solver supports 'l1', 'l2', and 'elasticnet'\n",
    "    {'solver': ['saga'], \n",
    "     'penalty': ['l1', 'l2'], \n",
    "     'C': [0.1, 1, 10, 100], \n",
    "     'class_weight': [None, 'balanced']},\n",
    "    \n",
    "    # 'saga' solver with 'elasticnet'\n",
    "    {'solver': ['saga'], \n",
    "     'penalty': ['elasticnet'], \n",
    "     'C': [0.1, 1, 10, 100], \n",
    "     'class_weight': [None, 'balanced'], \n",
    "     'l1_ratio': [0.5, 0.7, 0.9]}  # Elastic net-specific parameter\n",
    "]\n",
    "\n",
    "f1_scores = []\n",
    "accuracy_scores = []\n",
    "\n",
    "for fold, (train_index, val_index) in enumerate(kf.split(X)):\n",
    "    X_train, X_val = X.iloc[train_index], X.iloc[val_index]\n",
    "    y_train, y_val = y.iloc[train_index], y.iloc[val_index]\n",
    "    X_train, y_train = smote.fit_resample(X_train, y_train)\n",
    "    \n",
    "    print(f\"Starting Log Regression # {fold + 1}.\")\n",
    "    grid_search = GridSearchCV(estimator=log_regression, param_grid=param_grid, cv=3, scoring='f1', n_jobs=-1)\n",
    "    grid_search.fit(X_train, y_train)\n",
    "\n",
    "    best_log_regression = grid_search.best_estimator_\n",
    "    y_pred_val = best_log_regression.predict(X_val)\n",
    "\n",
    "    f1 = f1_score(y_val, y_pred_val, average='weighted')  # Use 'weighted' or adjust based on your data\n",
    "    accuracy = accuracy_score(y_val, y_pred_val)\n",
    "\n",
    "    f1_scores.append(f1)\n",
    "    accuracy_scores.append(accuracy)\n",
    "\n",
    "foldScores['LogRegression'] = {\n",
    "    'F1-deviation': np.std(f1_scores),\n",
    "    'F1-average': np.mean(f1_scores),\n",
    "    'Accuracy-average': np.mean(accuracy_scores)\n",
    "}\n",
    "# Get Classification Report and Confusion Matrix only of last Fold\n",
    "print(classification_report(y_val, y_pred_val))\n",
    "print(confusion_matrix(y_val, y_pred_val))"
   ]
  },
  {
   "cell_type": "code",
   "execution_count": 41,
   "metadata": {},
   "outputs": [
    {
     "data": {
      "text/plain": [
       "{'DTree': {'F1-deviation': 0.011203405566660085,\n",
       "  'F1-average': 0.7223658927342644,\n",
       "  'Accuracy-average': 0.7212421976999981},\n",
       " 'RForest': {'F1-deviation': 0.006643697286477211,\n",
       "  'F1-average': 0.7408105883791329,\n",
       "  'Accuracy-average': 0.7418400908554361},\n",
       " 'Bayes': {'F1-deviation': 0.003989061148207764,\n",
       "  'F1-average': 0.7191693382353204,\n",
       "  'Accuracy-average': 0.7176302469908609},\n",
       " 'LogRegression': {'F1-deviation': 0.007194568184802757,\n",
       "  'F1-average': 0.6805826577354176,\n",
       "  'Accuracy-average': 0.6789710800708242}}"
      ]
     },
     "execution_count": 41,
     "metadata": {},
     "output_type": "execute_result"
    }
   ],
   "source": [
    "foldScores"
   ]
  }
 ],
 "metadata": {
  "kernelspec": {
   "display_name": "churn",
   "language": "python",
   "name": "python3"
  },
  "language_info": {
   "codemirror_mode": {
    "name": "ipython",
    "version": 3
   },
   "file_extension": ".py",
   "mimetype": "text/x-python",
   "name": "python",
   "nbconvert_exporter": "python",
   "pygments_lexer": "ipython3",
   "version": "3.12.4"
  }
 },
 "nbformat": 4,
 "nbformat_minor": 2
}
