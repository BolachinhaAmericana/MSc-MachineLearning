{
 "cells": [
  {
   "cell_type": "code",
   "execution_count": 1,
   "metadata": {},
   "outputs": [],
   "source": [
    "import pandas as pd\n",
    "import numpy as np\n",
    "import matplotlib.pyplot as plt\n",
    "\n",
    "from sklearn.model_selection import KFold\n",
    "from sklearn.model_selection import train_test_split, cross_val_score, GridSearchCV, RandomizedSearchCV\n",
    "from sklearn.metrics import classification_report, confusion_matrix, f1_score, accuracy_score\n",
    "from imblearn.over_sampling import SMOTE\n",
    "\n",
    "from sklearn import tree\n",
    "from sklearn.ensemble import RandomForestClassifier\n",
    "from sklearn.naive_bayes import GaussianNB, BernoulliNB, MultinomialNB\n",
    "from sklearn.neighbors import KNeighborsClassifier, KNeighborsRegressor\n",
    "from sklearn.linear_model import LogisticRegression"
   ]
  },
  {
   "cell_type": "markdown",
   "metadata": {},
   "source": [
    "## Full - Binary Classification"
   ]
  },
  {
   "cell_type": "code",
   "execution_count": 2,
   "metadata": {},
   "outputs": [],
   "source": [
    "df = pd.read_csv('./Data/BINARY-DF.csv', index_col='PetID') # Classifications for generic DF with isPetAdopted as the target\n",
    "smote = SMOTE(sampling_strategy=0.8, random_state=42)\n",
    "\n",
    "kf = KFold(n_splits=5, shuffle=True, random_state=42)\n",
    "X, y = df.drop(columns='isPetAdopted'), df['isPetAdopted']\n",
    "\n",
    "\n",
    "foldScores = {}"
   ]
  },
  {
   "cell_type": "markdown",
   "metadata": {},
   "source": [
    "### Decision Tree"
   ]
  },
  {
   "cell_type": "code",
   "execution_count": 12,
   "metadata": {},
   "outputs": [
    {
     "name": "stdout",
     "output_type": "stream",
     "text": [
      "Starting Decision Tree # 1.\n",
      "Starting Decision Tree # 2.\n",
      "Starting Decision Tree # 3.\n",
      "Starting Decision Tree # 4.\n",
      "Starting Decision Tree # 5.\n",
      "              precision    recall  f1-score   support\n",
      "\n",
      "       False       0.46      0.58      0.51       739\n",
      "        True       0.83      0.75      0.79      2004\n",
      "\n",
      "    accuracy                           0.70      2743\n",
      "   macro avg       0.65      0.67      0.65      2743\n",
      "weighted avg       0.73      0.70      0.71      2743\n",
      "\n",
      "[[ 430  309]\n",
      " [ 501 1503]]\n",
      "{'F1-deviation': 0.012873252777105163, 'F1-average': 0.6964331099904786, 'Accuracy-average': 0.6885406425473164}\n"
     ]
    }
   ],
   "source": [
    "dtree = tree.DecisionTreeClassifier(random_state=42)\n",
    "\n",
    "dtree_param_grid = {\n",
    "    'max_depth': [3,5,10,15],\n",
    "    'min_samples_split': [2, 5, 10],\n",
    "    'min_samples_leaf': [1, 2, 4],\n",
    "    'criterion': ['gini', 'entropy'],\n",
    "    'max_features': [None, 'sqrt', 'log2']\n",
    "}\n",
    "\n",
    "f1_scores = []\n",
    "accuracy_scores = []\n",
    "\n",
    "for fold, (train_index, val_index) in enumerate(kf.split(X)):\n",
    "    X_train, X_val = X.iloc[train_index], X.iloc[val_index]\n",
    "    y_train, y_val = y.iloc[train_index], y.iloc[val_index]\n",
    "    X_train, y_train = smote.fit_resample(X_train, y_train)\n",
    "    \n",
    "    print(f\"Starting Decision Tree # {fold + 1}.\")\n",
    "    grid_search = GridSearchCV(estimator=dtree, param_grid=dtree_param_grid, cv=3, scoring='f1', n_jobs=-1)\n",
    "    grid_search.fit(X_train, y_train)\n",
    "\n",
    "    best_dtree = grid_search.best_estimator_\n",
    "    y_pred_val = best_dtree.predict(X_val)\n",
    "\n",
    "    f1 = f1_score(y_val, y_pred_val, average='weighted')  # Use 'weighted' or adjust based on your data\n",
    "    accuracy = accuracy_score(y_val, y_pred_val)\n",
    "\n",
    "    f1_scores.append(f1)\n",
    "    accuracy_scores.append(accuracy)\n",
    "\n",
    "foldScores['DTree'] = {\n",
    "    'F1-deviation': np.std(f1_scores),\n",
    "    'F1-average': np.mean(f1_scores),\n",
    "    'Accuracy-average': np.mean(accuracy_scores)\n",
    "}\n",
    "# Get Classification Report and Confusion Matrix only of last Fold\n",
    "print(classification_report(y_val, y_pred_val))\n",
    "print(confusion_matrix(y_val, y_pred_val))\n",
    "print(foldScores['DTree'])"
   ]
  },
  {
   "cell_type": "markdown",
   "metadata": {},
   "source": [
    "- Decision Tree Results\n",
    "\n",
    "We were able to train a relatively usefull model. The truth is the task we are aiming to predict includes a set of factors that could even be accounted as \"luck\" given how hard they are to describe as data. It is extremely hard to accurately predict weather a pet is to be adopted in the first 100 days after being listed. \n",
    "\n",
    "Even with this adversity, and using Decision Trees, we were able to get 70% of the predictions correct. This however doesn't mean the model had a good performance as the data wasn't exactly balanced. With this to account for, we got a f1-score of 79% in our majority class, but we observed a drop to 51% when it came to the not-adopted pets.\n",
    "\n",
    "Looking at the confusion matrix, we can check that the ammount of false-negatives (501) is even higher than the ammount of false-positivies (309).\n",
    "This can come as a surprise seeing that there are more mistakes made for the class with the higher score. This is happening because of sample size as the test contains 739 Falses and 2004 Trues.\n",
    "\n",
    "With a f1 standard deviation of 0.01 we can assume the model fits about the same way across the entire data."
   ]
  },
  {
   "cell_type": "markdown",
   "metadata": {},
   "source": [
    "### Random Forest"
   ]
  },
  {
   "cell_type": "code",
   "execution_count": 11,
   "metadata": {},
   "outputs": [
    {
     "name": "stdout",
     "output_type": "stream",
     "text": [
      "Starting Decision Tree # 1.\n",
      "Starting Decision Tree # 2.\n"
     ]
    },
    {
     "name": "stderr",
     "output_type": "stream",
     "text": [
      "c:\\Users\\duart\\miniconda3\\envs\\churn\\Lib\\site-packages\\numpy\\ma\\core.py:2820: RuntimeWarning: invalid value encountered in cast\n",
      "  _data = np.array(data, dtype=dtype, copy=copy,\n"
     ]
    },
    {
     "name": "stdout",
     "output_type": "stream",
     "text": [
      "Starting Decision Tree # 3.\n"
     ]
    },
    {
     "name": "stderr",
     "output_type": "stream",
     "text": [
      "c:\\Users\\duart\\miniconda3\\envs\\churn\\Lib\\site-packages\\numpy\\ma\\core.py:2820: RuntimeWarning: invalid value encountered in cast\n",
      "  _data = np.array(data, dtype=dtype, copy=copy,\n"
     ]
    },
    {
     "name": "stdout",
     "output_type": "stream",
     "text": [
      "Starting Decision Tree # 4.\n",
      "Starting Decision Tree # 5.\n",
      "              precision    recall  f1-score   support\n",
      "\n",
      "       False       0.52      0.50      0.51       739\n",
      "        True       0.82      0.83      0.82      2004\n",
      "\n",
      "    accuracy                           0.74      2743\n",
      "   macro avg       0.67      0.66      0.67      2743\n",
      "weighted avg       0.74      0.74      0.74      2743\n",
      "\n",
      "[[ 369  370]\n",
      " [ 344 1660]]\n",
      "{'F1-deviation': 0.009464845309737862, 'F1-average': 0.7328138915184084, 'Accuracy-average': 0.7354920130647957}\n"
     ]
    }
   ],
   "source": [
    "rforest = RandomForestClassifier(random_state=42)\n",
    "\n",
    "param_grid = {\n",
    "    'max_depth': [3,5,10,15],\n",
    "    'min_samples_split': [2, 5, 10],\n",
    "    'min_samples_leaf': [1, 2, 4],\n",
    "    'criterion': ['gini', 'entropy'],\n",
    "    'max_features': [None, 'sqrt', 'log2']\n",
    "}\n",
    "\n",
    "f1_scores = []\n",
    "accuracy_scores = []\n",
    "\n",
    "for fold, (train_index, val_index) in enumerate(kf.split(X)):\n",
    "    X_train, X_val = X.iloc[train_index], X.iloc[val_index]\n",
    "    y_train, y_val = y.iloc[train_index], y.iloc[val_index]\n",
    "    X_train, y_train = smote.fit_resample(X_train, y_train)\n",
    "    \n",
    "    print(f\"Starting Decision Tree # {fold + 1}.\")\n",
    "    grid_search = GridSearchCV(estimator=rforest, param_grid=param_grid, cv=3, scoring='f1', n_jobs=-1)\n",
    "    grid_search.fit(X_train, y_train)\n",
    "\n",
    "    best_rforest = grid_search.best_estimator_\n",
    "    y_pred_val = best_rforest.predict(X_val)\n",
    "\n",
    "    f1 = f1_score(y_val, y_pred_val, average='weighted')  # Use 'weighted' or adjust based on your data\n",
    "    accuracy = accuracy_score(y_val, y_pred_val)\n",
    "\n",
    "    f1_scores.append(f1)\n",
    "    accuracy_scores.append(accuracy)\n",
    "\n",
    "foldScores['RForest'] = {\n",
    "    'F1-deviation': np.std(f1_scores),\n",
    "    'F1-average': np.mean(f1_scores),\n",
    "    'Accuracy-average': np.mean(accuracy_scores)\n",
    "}\n",
    "# Get Classification Report and Confusion Matrix only of last Fold\n",
    "print(classification_report(y_val, y_pred_val))\n",
    "print(confusion_matrix(y_val, y_pred_val))\n",
    "print(foldScores['RForest'])"
   ]
  },
  {
   "cell_type": "markdown",
   "metadata": {},
   "source": [
    "- Random Forest Results\n",
    "\n",
    "Being essentialy an ensemble of multiple decision trees, it was expected for Random Forest to have sligthly better yet comparable results with the Decision Tree model.\n",
    "\n",
    "This supposition came true as it was indeed able to get slightly better accuracy (74% vs 71%) as well as a better overall score for the majority class, especially on the recall score for the True class. This however doesn't really translate to that big of an improvement on the model quality as we are still with the exact same score in the minority class and the nature of the problem doesn't require a strict treshold for recall as we are not trying to minimize splicitly false-positives or false-negatives but miss-classifications as a whole.\n",
    "\n",
    "One case it would be relevant to verify and maximise the recall for a particular class would be for a medical diagnosis or an alarm trigger, where a false-positive is preferabel to a false-negative. \n",
    "\n",
    "Overall given the improvement and the increased computational complexity we would say it would be preferable to stay with the Decision Tree over the Random Forest, however is computation isn't an issue, Random Forest is still something to consider.\n",
    "\n",
    "With a f1 standard deviation of 0.009 we can assume the model fits about the same way across the entire data."
   ]
  },
  {
   "cell_type": "markdown",
   "metadata": {},
   "source": [
    "### Bayes"
   ]
  },
  {
   "cell_type": "code",
   "execution_count": 10,
   "metadata": {},
   "outputs": [
    {
     "name": "stdout",
     "output_type": "stream",
     "text": [
      "Starting Bayes # 1.\n",
      "Starting Bayes # 2.\n",
      "Starting Bayes # 3.\n",
      "Starting Bayes # 4.\n",
      "Starting Bayes # 5.\n",
      "              precision    recall  f1-score   support\n",
      "\n",
      "       False       0.34      0.60      0.44       739\n",
      "        True       0.80      0.57      0.66      2004\n",
      "\n",
      "    accuracy                           0.58      2743\n",
      "   macro avg       0.57      0.59      0.55      2743\n",
      "weighted avg       0.67      0.58      0.60      2743\n",
      "\n",
      "[[ 447  292]\n",
      " [ 862 1142]]\n",
      "{'F1-deviation': 0.02164475846044547, 'F1-average': 0.5723353990171749, 'Accuracy-average': 0.5489202305577197}\n"
     ]
    }
   ],
   "source": [
    "bayes = GaussianNB()\n",
    "param_grid = {}\n",
    "\n",
    "f1_scores = []\n",
    "accuracy_scores = []\n",
    "\n",
    "for fold, (train_index, val_index) in enumerate(kf.split(X)):\n",
    "    X_train, X_val = X.iloc[train_index], X.iloc[val_index]\n",
    "    y_train, y_val = y.iloc[train_index], y.iloc[val_index]\n",
    "    X_train, y_train = smote.fit_resample(X_train, y_train)\n",
    "    \n",
    "    print(f\"Starting Bayes # {fold + 1}.\")\n",
    "    grid_search = GridSearchCV(estimator=bayes, param_grid=param_grid, cv=3, scoring='f1', n_jobs=-1)\n",
    "    grid_search.fit(X_train, y_train)\n",
    "\n",
    "    best_bayes = grid_search.best_estimator_\n",
    "    y_pred_val = best_bayes.predict(X_val)\n",
    "\n",
    "    f1 = f1_score(y_val, y_pred_val, average='weighted')  # Use 'weighted' or adjust based on your data\n",
    "    accuracy = accuracy_score(y_val, y_pred_val)\n",
    "\n",
    "    f1_scores.append(f1)\n",
    "    accuracy_scores.append(accuracy)\n",
    "\n",
    "foldScores['Bayes'] = {\n",
    "    'F1-deviation': np.std(f1_scores),\n",
    "    'F1-average': np.mean(f1_scores),\n",
    "    'Accuracy-average': np.mean(accuracy_scores)\n",
    "}\n",
    "# Get Classification Report and Confusion Matrix only of last Fold\n",
    "print(classification_report(y_val, y_pred_val))\n",
    "print(confusion_matrix(y_val, y_pred_val))\n",
    "print(foldScores['Bayes'])"
   ]
  },
  {
   "cell_type": "markdown",
   "metadata": {},
   "source": [
    "- Naive Bayes Results\n",
    "\n",
    "Having a completely different classification method, it was expected for the results to be different from all other models.\n",
    "This does happen and we can observe a much more balanced model overall. Both classes present similar recall but a big disparity in precision.\n",
    "\n",
    "The lower accuracy of 58% could possibly be explained due to the nature of Naive Bayes algorithm, where it acts as all features are independed on each other. Due to domain knowledge we know this to not be true. This can also be enforded by the heatmap correlation matrix we get when visualizing the data, where a lot of features have correlation of um to 0.16 with featues that not the target.\n",
    "\n",
    "With an accuracy of 58% and a f1-score of 44 & 66, this as the model with the worst performance so far.\n",
    "With the F1 standard deviation of 0.02 we can safely assume the model is adapting similarly across all data."
   ]
  },
  {
   "cell_type": "markdown",
   "metadata": {},
   "source": [
    "### KNN"
   ]
  },
  {
   "cell_type": "markdown",
   "metadata": {},
   "source": [
    "In KNN we start by performing the elbow-method in order to find out the most adequate value for K.\n",
    "In the plot we could say the best value for K is 14, however given that 14 is even and this could imply the votes happen to tie, we went with k = 13"
   ]
  },
  {
   "cell_type": "code",
   "execution_count": 6,
   "metadata": {},
   "outputs": [
    {
     "data": {
      "image/png": "[encoded data removed]",
      "text/plain": [
       "<Figure size 800x600 with 1 Axes>"
      ]
     },
     "metadata": {},
     "output_type": "display_data"
    }
   ],
   "source": [
    "# Range of k values to test\n",
    "k_values = range(1, 21)\n",
    "\n",
    "# List to store cross-validated MSE scores\n",
    "mse_scores = []\n",
    "\n",
    "# Loop through each k value\n",
    "for k in k_values:\n",
    "    knn = KNeighborsRegressor(n_neighbors=k)\n",
    "    # Perform 5-fold cross-validation with negative MSE (to minimize)\n",
    "    neg_mse_scores = cross_val_score(knn, X, y, cv=5, scoring='neg_mean_squared_error')\n",
    "    # Store the mean MSE for the current k\n",
    "    mse_scores.append(-neg_mse_scores.mean())  # Convert to positive MSE\n",
    "\n",
    "# Plot the results\n",
    "plt.figure(figsize=(8, 6))\n",
    "plt.plot(k_values, mse_scores, marker='o', linestyle='--', color='r')\n",
    "plt.xlabel('Number of Neighbors (k)')\n",
    "plt.ylabel('Mean Squared Error (MSE)')\n",
    "plt.title('Elbow Method for Optimal k in KNN Regression')\n",
    "plt.xticks(k_values)\n",
    "plt.grid(True)\n",
    "plt.show()"
   ]
  },
  {
   "cell_type": "code",
   "execution_count": 9,
   "metadata": {},
   "outputs": [
    {
     "name": "stdout",
     "output_type": "stream",
     "text": [
      "Starting KNN # 1.\n",
      "Starting KNN # 2.\n",
      "Starting KNN # 3.\n",
      "Starting KNN # 4.\n",
      "Starting KNN # 5.\n",
      "              precision    recall  f1-score   support\n",
      "\n",
      "       False       0.46      0.52      0.49       739\n",
      "        True       0.81      0.78      0.80      2004\n",
      "\n",
      "    accuracy                           0.71      2743\n",
      "   macro avg       0.64      0.65      0.64      2743\n",
      "weighted avg       0.72      0.71      0.71      2743\n",
      "\n",
      "[[ 383  356]\n",
      " [ 445 1559]]\n",
      "{'F1-deviation': 0.008774024168552986, 'F1-average': 0.7048361157387978, 'Accuracy-average': 0.7009339702757829}\n"
     ]
    }
   ],
   "source": [
    "knn = KNeighborsClassifier()\n",
    "\n",
    "# Define hyperparameters to tune\n",
    "param_grid = {\n",
    "    'n_neighbors': [13],  # Number of neighbors\n",
    "    'weights': ['uniform', 'distance'],  # Uniform or distance-based weighting\n",
    "    'metric': ['euclidean', 'manhattan'],  # Distance metric\n",
    "}\n",
    "\n",
    "f1_scores = []\n",
    "accuracy_scores = []\n",
    "\n",
    "for fold, (train_index, val_index) in enumerate(kf.split(X)):\n",
    "    X_train, X_val = X.iloc[train_index], X.iloc[val_index]\n",
    "    y_train, y_val = y.iloc[train_index], y.iloc[val_index]\n",
    "    X_train, y_train = smote.fit_resample(X_train, y_train)\n",
    "    \n",
    "    print(f\"Starting KNN # {fold + 1}.\")\n",
    "    grid_search = GridSearchCV(estimator=knn, param_grid=param_grid, cv=3, scoring='f1', n_jobs=-1)\n",
    "    grid_search.fit(X_train, y_train)\n",
    "\n",
    "    best_knn = grid_search.best_estimator_\n",
    "    y_pred_val = best_knn.predict(X_val)\n",
    "\n",
    "    f1 = f1_score(y_val, y_pred_val, average='weighted')  # Use 'weighted' or adjust based on your data\n",
    "    accuracy = accuracy_score(y_val, y_pred_val)\n",
    "\n",
    "    f1_scores.append(f1)\n",
    "    accuracy_scores.append(accuracy)\n",
    "\n",
    "foldScores['KNN'] = {\n",
    "    'F1-deviation': np.std(f1_scores),\n",
    "    'F1-average': np.mean(f1_scores),\n",
    "    'Accuracy-average': np.mean(accuracy_scores)\n",
    "}\n",
    "# Get Classification Report and Confusion Matrix only of last Fold\n",
    "print(classification_report(y_val, y_pred_val))\n",
    "print(confusion_matrix(y_val, y_pred_val))\n",
    "print(foldScores['KNN'])"
   ]
  },
  {
   "cell_type": "markdown",
   "metadata": {},
   "source": [
    "- KNN results\n",
    "\n",
    "At a glance, KNN presents results comparable to the Decision Tree model, being just slightly worst at predicting the minority class.\n",
    "Other than this, there isn't much more to add that wasn't already covered by other models.\n",
    "\n",
    "Using KNN could act as a substitute for DecisionTree however the best use for both KNN, Decision Tree and Naive Bayes would probably be to perform some model ensemble and create a new model with a technique such as Stacking.\n",
    "\n",
    "With the F1 standard deviation of 0.008 we can safely assume the model is adapting similarly across all data."
   ]
  },
  {
   "cell_type": "markdown",
   "metadata": {},
   "source": [
    "### Logistic Regression"
   ]
  },
  {
   "cell_type": "code",
   "execution_count": 15,
   "metadata": {},
   "outputs": [
    {
     "name": "stdout",
     "output_type": "stream",
     "text": [
      "Starting Log Regression # 1.\n"
     ]
    },
    {
     "name": "stderr",
     "output_type": "stream",
     "text": [
      "c:\\Users\\duart\\miniconda3\\envs\\churn\\Lib\\site-packages\\sklearn\\linear_model\\_sag.py:349: ConvergenceWarning: The max_iter was reached which means the coef_ did not converge\n",
      "  warnings.warn(\n"
     ]
    },
    {
     "name": "stdout",
     "output_type": "stream",
     "text": [
      "Starting Log Regression # 2.\n"
     ]
    },
    {
     "name": "stderr",
     "output_type": "stream",
     "text": [
      "c:\\Users\\duart\\miniconda3\\envs\\churn\\Lib\\site-packages\\sklearn\\linear_model\\_sag.py:349: ConvergenceWarning: The max_iter was reached which means the coef_ did not converge\n",
      "  warnings.warn(\n"
     ]
    },
    {
     "name": "stdout",
     "output_type": "stream",
     "text": [
      "Starting Log Regression # 3.\n"
     ]
    },
    {
     "name": "stderr",
     "output_type": "stream",
     "text": [
      "c:\\Users\\duart\\miniconda3\\envs\\churn\\Lib\\site-packages\\sklearn\\linear_model\\_sag.py:349: ConvergenceWarning: The max_iter was reached which means the coef_ did not converge\n",
      "  warnings.warn(\n"
     ]
    },
    {
     "name": "stdout",
     "output_type": "stream",
     "text": [
      "Starting Log Regression # 4.\n"
     ]
    },
    {
     "name": "stderr",
     "output_type": "stream",
     "text": [
      "c:\\Users\\duart\\miniconda3\\envs\\churn\\Lib\\site-packages\\sklearn\\linear_model\\_sag.py:349: ConvergenceWarning: The max_iter was reached which means the coef_ did not converge\n",
      "  warnings.warn(\n"
     ]
    },
    {
     "name": "stdout",
     "output_type": "stream",
     "text": [
      "Starting Log Regression # 5.\n",
      "              precision    recall  f1-score   support\n",
      "\n",
      "       False       0.50      0.07      0.13       739\n",
      "        True       0.74      0.97      0.84      2004\n",
      "\n",
      "    accuracy                           0.73      2743\n",
      "   macro avg       0.62      0.52      0.48      2743\n",
      "weighted avg       0.68      0.73      0.65      2743\n",
      "\n",
      "[[  53  686]\n",
      " [  53 1951]]\n",
      "{'F1-deviation': 0.011533292993269053, 'F1-average': 0.6336095839247203, 'Accuracy-average': 0.7279088886739531}\n"
     ]
    },
    {
     "name": "stderr",
     "output_type": "stream",
     "text": [
      "c:\\Users\\duart\\miniconda3\\envs\\churn\\Lib\\site-packages\\sklearn\\linear_model\\_sag.py:349: ConvergenceWarning: The max_iter was reached which means the coef_ did not converge\n",
      "  warnings.warn(\n"
     ]
    }
   ],
   "source": [
    "log_regression = LogisticRegression(random_state=42)\n",
    "param_grid = [\n",
    "    # 'lbfgs' solver supports only 'l2'\n",
    "    {'solver': ['lbfgs'], \n",
    "     'penalty': ['l2'], \n",
    "     'C': [0.1, 1, 10, 100], \n",
    "     'class_weight': [None, 'balanced']},\n",
    "\n",
    "    # 'liblinear' solver supports 'l1' and 'l2'\n",
    "    {'solver': ['liblinear'], \n",
    "     'penalty': ['l1', 'l2'], \n",
    "     'C': [0.1, 1, 10, 100], \n",
    "     'class_weight': [None, 'balanced']},\n",
    "\n",
    "    # 'saga' solver supports 'l1', 'l2', and 'elasticnet'\n",
    "    {'solver': ['saga'], \n",
    "     'penalty': ['l1', 'l2'], \n",
    "     'C': [0.1, 1, 10, 100], \n",
    "     'class_weight': [None, 'balanced']},\n",
    "    \n",
    "    # 'saga' solver with 'elasticnet'\n",
    "    {'solver': ['saga'], \n",
    "     'penalty': ['elasticnet'], \n",
    "     'C': [0.1, 1, 10, 100], \n",
    "     'class_weight': [None, 'balanced'], \n",
    "     'l1_ratio': [0.5, 0.7, 0.9]}  # Elastic net-specific parameter\n",
    "]\n",
    "\n",
    "f1_scores = []\n",
    "accuracy_scores = []\n",
    "\n",
    "for fold, (train_index, val_index) in enumerate(kf.split(X)):\n",
    "    X_train, X_val = X.iloc[train_index], X.iloc[val_index]\n",
    "    y_train, y_val = y.iloc[train_index], y.iloc[val_index]\n",
    "    X_train, y_train = smote.fit_resample(X_train, y_train)\n",
    "    \n",
    "    print(f\"Starting Log Regression # {fold + 1}.\")\n",
    "    grid_search = GridSearchCV(estimator=log_regression, param_grid=param_grid, cv=3, scoring='f1', n_jobs=-1)\n",
    "    grid_search.fit(X_train, y_train)\n",
    "\n",
    "    best_log_regression = grid_search.best_estimator_\n",
    "    y_pred_val = best_log_regression.predict(X_val)\n",
    "\n",
    "    f1 = f1_score(y_val, y_pred_val, average='weighted')  # Use 'weighted' or adjust based on your data\n",
    "    accuracy = accuracy_score(y_val, y_pred_val)\n",
    "\n",
    "    f1_scores.append(f1)\n",
    "    accuracy_scores.append(accuracy)\n",
    "\n",
    "foldScores['LogRegression'] = {\n",
    "    'F1-deviation': np.std(f1_scores),\n",
    "    'F1-average': np.mean(f1_scores),\n",
    "    'Accuracy-average': np.mean(accuracy_scores)\n",
    "}\n",
    "# Get Classification Report and Confusion Matrix only of last Fold\n",
    "print(classification_report(y_val, y_pred_val))\n",
    "print(confusion_matrix(y_val, y_pred_val))\n",
    "print(foldScores['LogRegression'])"
   ]
  },
  {
   "cell_type": "markdown",
   "metadata": {},
   "source": [
    "- Logistic Regression Results\n",
    "\n",
    "Logistic Regression is the simplier model that we are trying. It is also the one with the worst performance by far.\n",
    "\n",
    "Although an accuracy of 73% is good, the scores for the minority class are very bad.\\\n",
    "The model is essentially nearly always returning the majority class. This gets a fairly good result for that class however its usefullness is only sligthly better then simply assuming there are no pets that don't get adopted.\n",
    "\n",
    "The only purpose we saw fit for this model was to be a possible indicator for the False class, as when it does predict the class is False, we can toss a coin and claim if it is or isn't in fact, False.\n",
    "\n",
    "With the F1 standard deviation of 0.01 we can safely assume the model is adapting similarly across all data."
   ]
  },
  {
   "cell_type": "code",
   "execution_count": 14,
   "metadata": {},
   "outputs": [
    {
     "data": {
      "text/plain": [
       "{'Bayes': {'F1-deviation': 0.02164475846044547,\n",
       "  'F1-average': 0.5723353990171749,\n",
       "  'Accuracy-average': 0.5489202305577197},\n",
       " 'DTree': {'F1-deviation': 0.012873252777105163,\n",
       "  'F1-average': 0.6964331099904786,\n",
       "  'Accuracy-average': 0.6885406425473164},\n",
       " 'KNN': {'F1-deviation': 0.008774024168552986,\n",
       "  'F1-average': 0.7048361157387978,\n",
       "  'Accuracy-average': 0.7009339702757829},\n",
       " 'RForest': {'F1-deviation': 0.009464845309737862,\n",
       "  'F1-average': 0.7328138915184084,\n",
       "  'Accuracy-average': 0.7354920130647957},\n",
       " 'LogRegression': {'F1-deviation': 0.011533292993269053,\n",
       "  'F1-average': 0.6336095839247203,\n",
       "  'Accuracy-average': 0.7279088886739531}}"
      ]
     },
     "execution_count": 14,
     "metadata": {},
     "output_type": "execute_result"
    }
   ],
   "source": [
    "foldScores"
   ]
  },
  {
   "cell_type": "markdown",
   "metadata": {},
   "source": [
    "## Full - MultiClass Classification"
   ]
  },
  {
   "cell_type": "markdown",
   "metadata": {},
   "source": [
    "Not Using SMOTE BECAUSE CLASSIFICATION ISN'T BINARY"
   ]
  },
  {
   "cell_type": "code",
   "execution_count": 16,
   "metadata": {},
   "outputs": [],
   "source": [
    "df = pd.read_csv('./Data/DF.csv', index_col='PetID') # Classifications for generic DF with AdoptionSpeed as the target\n",
    "#smote = SMOTE(sampling_strategy=0.8, random_state=42)\n",
    "\n",
    "kf = KFold(n_splits=5, shuffle=True, random_state=42)\n",
    "X, y = df.drop(columns='AdoptionSpeed'), df['AdoptionSpeed']\n",
    "\n",
    "\n",
    "foldScores = {}"
   ]
  },
  {
   "cell_type": "markdown",
   "metadata": {},
   "source": [
    "### Decision Tree"
   ]
  },
  {
   "cell_type": "code",
   "execution_count": 17,
   "metadata": {},
   "outputs": [
    {
     "name": "stdout",
     "output_type": "stream",
     "text": [
      "Starting Decision Tree # 1.\n"
     ]
    },
    {
     "name": "stderr",
     "output_type": "stream",
     "text": [
      "c:\\Users\\duart\\miniconda3\\envs\\churn\\Lib\\site-packages\\numpy\\ma\\core.py:2820: RuntimeWarning: invalid value encountered in cast\n",
      "  _data = np.array(data, dtype=dtype, copy=copy,\n",
      "c:\\Users\\duart\\miniconda3\\envs\\churn\\Lib\\site-packages\\sklearn\\model_selection\\_search.py:1102: UserWarning: One or more of the test scores are non-finite: [nan nan nan nan nan nan nan nan nan nan nan nan nan nan nan nan nan nan\n",
      " nan nan nan nan nan nan nan nan nan nan nan nan nan nan nan nan nan nan\n",
      " nan nan nan nan nan nan nan nan nan nan nan nan nan nan nan nan nan nan\n",
      " nan nan nan nan nan nan nan nan nan nan nan nan nan nan nan nan nan nan\n",
      " nan nan nan nan nan nan nan nan nan nan nan nan nan nan nan nan nan nan\n",
      " nan nan nan nan nan nan nan nan nan nan nan nan nan nan nan nan nan nan\n",
      " nan nan nan nan nan nan nan nan nan nan nan nan nan nan nan nan nan nan\n",
      " nan nan nan nan nan nan nan nan nan nan nan nan nan nan nan nan nan nan\n",
      " nan nan nan nan nan nan nan nan nan nan nan nan nan nan nan nan nan nan\n",
      " nan nan nan nan nan nan nan nan nan nan nan nan nan nan nan nan nan nan\n",
      " nan nan nan nan nan nan nan nan nan nan nan nan nan nan nan nan nan nan\n",
      " nan nan nan nan nan nan nan nan nan nan nan nan nan nan nan nan nan nan]\n",
      "  warnings.warn(\n"
     ]
    },
    {
     "name": "stdout",
     "output_type": "stream",
     "text": [
      "Starting Decision Tree # 2.\n"
     ]
    },
    {
     "name": "stderr",
     "output_type": "stream",
     "text": [
      "c:\\Users\\duart\\miniconda3\\envs\\churn\\Lib\\site-packages\\sklearn\\model_selection\\_search.py:1102: UserWarning: One or more of the test scores are non-finite: [nan nan nan nan nan nan nan nan nan nan nan nan nan nan nan nan nan nan\n",
      " nan nan nan nan nan nan nan nan nan nan nan nan nan nan nan nan nan nan\n",
      " nan nan nan nan nan nan nan nan nan nan nan nan nan nan nan nan nan nan\n",
      " nan nan nan nan nan nan nan nan nan nan nan nan nan nan nan nan nan nan\n",
      " nan nan nan nan nan nan nan nan nan nan nan nan nan nan nan nan nan nan\n",
      " nan nan nan nan nan nan nan nan nan nan nan nan nan nan nan nan nan nan\n",
      " nan nan nan nan nan nan nan nan nan nan nan nan nan nan nan nan nan nan\n",
      " nan nan nan nan nan nan nan nan nan nan nan nan nan nan nan nan nan nan\n",
      " nan nan nan nan nan nan nan nan nan nan nan nan nan nan nan nan nan nan\n",
      " nan nan nan nan nan nan nan nan nan nan nan nan nan nan nan nan nan nan\n",
      " nan nan nan nan nan nan nan nan nan nan nan nan nan nan nan nan nan nan\n",
      " nan nan nan nan nan nan nan nan nan nan nan nan nan nan nan nan nan nan]\n",
      "  warnings.warn(\n"
     ]
    },
    {
     "name": "stdout",
     "output_type": "stream",
     "text": [
      "Starting Decision Tree # 3.\n"
     ]
    },
    {
     "name": "stderr",
     "output_type": "stream",
     "text": [
      "c:\\Users\\duart\\miniconda3\\envs\\churn\\Lib\\site-packages\\sklearn\\model_selection\\_search.py:1102: UserWarning: One or more of the test scores are non-finite: [nan nan nan nan nan nan nan nan nan nan nan nan nan nan nan nan nan nan\n",
      " nan nan nan nan nan nan nan nan nan nan nan nan nan nan nan nan nan nan\n",
      " nan nan nan nan nan nan nan nan nan nan nan nan nan nan nan nan nan nan\n",
      " nan nan nan nan nan nan nan nan nan nan nan nan nan nan nan nan nan nan\n",
      " nan nan nan nan nan nan nan nan nan nan nan nan nan nan nan nan nan nan\n",
      " nan nan nan nan nan nan nan nan nan nan nan nan nan nan nan nan nan nan\n",
      " nan nan nan nan nan nan nan nan nan nan nan nan nan nan nan nan nan nan\n",
      " nan nan nan nan nan nan nan nan nan nan nan nan nan nan nan nan nan nan\n",
      " nan nan nan nan nan nan nan nan nan nan nan nan nan nan nan nan nan nan\n",
      " nan nan nan nan nan nan nan nan nan nan nan nan nan nan nan nan nan nan\n",
      " nan nan nan nan nan nan nan nan nan nan nan nan nan nan nan nan nan nan\n",
      " nan nan nan nan nan nan nan nan nan nan nan nan nan nan nan nan nan nan]\n",
      "  warnings.warn(\n"
     ]
    },
    {
     "name": "stdout",
     "output_type": "stream",
     "text": [
      "Starting Decision Tree # 4.\n"
     ]
    },
    {
     "name": "stderr",
     "output_type": "stream",
     "text": [
      "c:\\Users\\duart\\miniconda3\\envs\\churn\\Lib\\site-packages\\numpy\\ma\\core.py:2820: RuntimeWarning: invalid value encountered in cast\n",
      "  _data = np.array(data, dtype=dtype, copy=copy,\n",
      "c:\\Users\\duart\\miniconda3\\envs\\churn\\Lib\\site-packages\\sklearn\\model_selection\\_search.py:1102: UserWarning: One or more of the test scores are non-finite: [nan nan nan nan nan nan nan nan nan nan nan nan nan nan nan nan nan nan\n",
      " nan nan nan nan nan nan nan nan nan nan nan nan nan nan nan nan nan nan\n",
      " nan nan nan nan nan nan nan nan nan nan nan nan nan nan nan nan nan nan\n",
      " nan nan nan nan nan nan nan nan nan nan nan nan nan nan nan nan nan nan\n",
      " nan nan nan nan nan nan nan nan nan nan nan nan nan nan nan nan nan nan\n",
      " nan nan nan nan nan nan nan nan nan nan nan nan nan nan nan nan nan nan\n",
      " nan nan nan nan nan nan nan nan nan nan nan nan nan nan nan nan nan nan\n",
      " nan nan nan nan nan nan nan nan nan nan nan nan nan nan nan nan nan nan\n",
      " nan nan nan nan nan nan nan nan nan nan nan nan nan nan nan nan nan nan\n",
      " nan nan nan nan nan nan nan nan nan nan nan nan nan nan nan nan nan nan\n",
      " nan nan nan nan nan nan nan nan nan nan nan nan nan nan nan nan nan nan\n",
      " nan nan nan nan nan nan nan nan nan nan nan nan nan nan nan nan nan nan]\n",
      "  warnings.warn(\n"
     ]
    },
    {
     "name": "stdout",
     "output_type": "stream",
     "text": [
      "Starting Decision Tree # 5.\n",
      "              precision    recall  f1-score   support\n",
      "\n",
      "           0       0.00      0.00      0.00        77\n",
      "           1       0.24      0.16      0.19       560\n",
      "           2       0.33      0.59      0.42       748\n",
      "           3       0.26      0.02      0.04       619\n",
      "           4       0.45      0.59      0.51       739\n",
      "\n",
      "    accuracy                           0.36      2743\n",
      "   macro avg       0.26      0.27      0.23      2743\n",
      "weighted avg       0.32      0.36      0.30      2743\n",
      "\n",
      "[[  0  11  42   4  20]\n",
      " [  0  89 346   7 118]\n",
      " [  0  91 443  13 201]\n",
      " [  0  84 327  13 195]\n",
      " [  0  96 192  13 438]]\n",
      "{'F1-deviation': 0.015600790235479004, 'F1-average': 0.29598740017244235, 'Accuracy-average': 0.36308002134242584}\n"
     ]
    },
    {
     "name": "stderr",
     "output_type": "stream",
     "text": [
      "c:\\Users\\duart\\miniconda3\\envs\\churn\\Lib\\site-packages\\numpy\\ma\\core.py:2820: RuntimeWarning: invalid value encountered in cast\n",
      "  _data = np.array(data, dtype=dtype, copy=copy,\n",
      "c:\\Users\\duart\\miniconda3\\envs\\churn\\Lib\\site-packages\\sklearn\\model_selection\\_search.py:1102: UserWarning: One or more of the test scores are non-finite: [nan nan nan nan nan nan nan nan nan nan nan nan nan nan nan nan nan nan\n",
      " nan nan nan nan nan nan nan nan nan nan nan nan nan nan nan nan nan nan\n",
      " nan nan nan nan nan nan nan nan nan nan nan nan nan nan nan nan nan nan\n",
      " nan nan nan nan nan nan nan nan nan nan nan nan nan nan nan nan nan nan\n",
      " nan nan nan nan nan nan nan nan nan nan nan nan nan nan nan nan nan nan\n",
      " nan nan nan nan nan nan nan nan nan nan nan nan nan nan nan nan nan nan\n",
      " nan nan nan nan nan nan nan nan nan nan nan nan nan nan nan nan nan nan\n",
      " nan nan nan nan nan nan nan nan nan nan nan nan nan nan nan nan nan nan\n",
      " nan nan nan nan nan nan nan nan nan nan nan nan nan nan nan nan nan nan\n",
      " nan nan nan nan nan nan nan nan nan nan nan nan nan nan nan nan nan nan\n",
      " nan nan nan nan nan nan nan nan nan nan nan nan nan nan nan nan nan nan\n",
      " nan nan nan nan nan nan nan nan nan nan nan nan nan nan nan nan nan nan]\n",
      "  warnings.warn(\n",
      "c:\\Users\\duart\\miniconda3\\envs\\churn\\Lib\\site-packages\\sklearn\\metrics\\_classification.py:1531: UndefinedMetricWarning: Precision is ill-defined and being set to 0.0 in labels with no predicted samples. Use `zero_division` parameter to control this behavior.\n",
      "  _warn_prf(average, modifier, f\"{metric.capitalize()} is\", len(result))\n",
      "c:\\Users\\duart\\miniconda3\\envs\\churn\\Lib\\site-packages\\sklearn\\metrics\\_classification.py:1531: UndefinedMetricWarning: Precision is ill-defined and being set to 0.0 in labels with no predicted samples. Use `zero_division` parameter to control this behavior.\n",
      "  _warn_prf(average, modifier, f\"{metric.capitalize()} is\", len(result))\n",
      "c:\\Users\\duart\\miniconda3\\envs\\churn\\Lib\\site-packages\\sklearn\\metrics\\_classification.py:1531: UndefinedMetricWarning: Precision is ill-defined and being set to 0.0 in labels with no predicted samples. Use `zero_division` parameter to control this behavior.\n",
      "  _warn_prf(average, modifier, f\"{metric.capitalize()} is\", len(result))\n"
     ]
    }
   ],
   "source": [
    "dtree = tree.DecisionTreeClassifier(random_state=42)\n",
    "\n",
    "dtree_param_grid = {\n",
    "    'max_depth': [3,5,10,15],\n",
    "    'min_samples_split': [2, 5, 10],\n",
    "    'min_samples_leaf': [1, 2, 4],\n",
    "    'criterion': ['gini', 'entropy'],\n",
    "    'max_features': [None, 'sqrt', 'log2']\n",
    "}\n",
    "\n",
    "f1_scores = []\n",
    "accuracy_scores = []\n",
    "\n",
    "for fold, (train_index, val_index) in enumerate(kf.split(X)):\n",
    "    X_train, X_val = X.iloc[train_index], X.iloc[val_index]\n",
    "    y_train, y_val = y.iloc[train_index], y.iloc[val_index]\n",
    "    #X_train, y_train = smote.fit_resample(X_train, y_train)\n",
    "    \n",
    "    print(f\"Starting Decision Tree # {fold + 1}.\")\n",
    "    grid_search = GridSearchCV(estimator=dtree, param_grid=dtree_param_grid, cv=3, scoring='f1', n_jobs=-1)\n",
    "    grid_search.fit(X_train, y_train)\n",
    "\n",
    "    best_dtree = grid_search.best_estimator_\n",
    "    y_pred_val = best_dtree.predict(X_val)\n",
    "\n",
    "    f1 = f1_score(y_val, y_pred_val, average='weighted')  # Use 'weighted' or adjust based on your data\n",
    "    accuracy = accuracy_score(y_val, y_pred_val)\n",
    "\n",
    "    f1_scores.append(f1)\n",
    "    accuracy_scores.append(accuracy)\n",
    "\n",
    "foldScores['DTree'] = {\n",
    "    'F1-deviation': np.std(f1_scores),\n",
    "    'F1-average': np.mean(f1_scores),\n",
    "    'Accuracy-average': np.mean(accuracy_scores)\n",
    "}\n",
    "# Get Classification Report and Confusion Matrix only of last Fold\n",
    "print(classification_report(y_val, y_pred_val))\n",
    "print(confusion_matrix(y_val, y_pred_val))\n",
    "print(foldScores['DTree'])"
   ]
  },
  {
   "cell_type": "markdown",
   "metadata": {},
   "source": [
    "Applying our data for the non-simplified, binary aproach to AdoptionSpeed, we get a much more complex problem and less interesting results to match.\n",
    "\n",
    "With the only classes that achieved a f1-score higher then 40% being 2 and 4 and all others getting 04% and even 00%, meaning that the class wasn't predicted as a whole, suggests that it would bennefit from some simplification, as we did by creating the isPetAdopted Class. \n",
    "\n",
    "We can't however simply claim that the fact that we created our class was the only reason why this predictions aren't as good as the others, as the predictions using isPetAdopted class as target are also using SMOTE as a oversampling technique, essentially minimizing the impact this issue in our data has on the model performance."
   ]
  },
  {
   "cell_type": "markdown",
   "metadata": {},
   "source": [
    "### Random Forest"
   ]
  },
  {
   "cell_type": "code",
   "execution_count": 18,
   "metadata": {},
   "outputs": [
    {
     "name": "stdout",
     "output_type": "stream",
     "text": [
      "Starting Decision Tree # 1.\n"
     ]
    },
    {
     "name": "stderr",
     "output_type": "stream",
     "text": [
      "c:\\Users\\duart\\miniconda3\\envs\\churn\\Lib\\site-packages\\sklearn\\model_selection\\_search.py:1102: UserWarning: One or more of the test scores are non-finite: [nan nan nan nan nan nan nan nan nan nan nan nan nan nan nan nan nan nan\n",
      " nan nan nan nan nan nan nan nan nan nan nan nan nan nan nan nan nan nan\n",
      " nan nan nan nan nan nan nan nan nan nan nan nan nan nan nan nan nan nan\n",
      " nan nan nan nan nan nan nan nan nan nan nan nan nan nan nan nan nan nan\n",
      " nan nan nan nan nan nan nan nan nan nan nan nan nan nan nan nan nan nan\n",
      " nan nan nan nan nan nan nan nan nan nan nan nan nan nan nan nan nan nan\n",
      " nan nan nan nan nan nan nan nan nan nan nan nan nan nan nan nan nan nan\n",
      " nan nan nan nan nan nan nan nan nan nan nan nan nan nan nan nan nan nan\n",
      " nan nan nan nan nan nan nan nan nan nan nan nan nan nan nan nan nan nan\n",
      " nan nan nan nan nan nan nan nan nan nan nan nan nan nan nan nan nan nan\n",
      " nan nan nan nan nan nan nan nan nan nan nan nan nan nan nan nan nan nan\n",
      " nan nan nan nan nan nan nan nan nan nan nan nan nan nan nan nan nan nan]\n",
      "  warnings.warn(\n"
     ]
    },
    {
     "name": "stdout",
     "output_type": "stream",
     "text": [
      "Starting Decision Tree # 2.\n"
     ]
    },
    {
     "name": "stderr",
     "output_type": "stream",
     "text": [
      "c:\\Users\\duart\\miniconda3\\envs\\churn\\Lib\\site-packages\\sklearn\\model_selection\\_search.py:1102: UserWarning: One or more of the test scores are non-finite: [nan nan nan nan nan nan nan nan nan nan nan nan nan nan nan nan nan nan\n",
      " nan nan nan nan nan nan nan nan nan nan nan nan nan nan nan nan nan nan\n",
      " nan nan nan nan nan nan nan nan nan nan nan nan nan nan nan nan nan nan\n",
      " nan nan nan nan nan nan nan nan nan nan nan nan nan nan nan nan nan nan\n",
      " nan nan nan nan nan nan nan nan nan nan nan nan nan nan nan nan nan nan\n",
      " nan nan nan nan nan nan nan nan nan nan nan nan nan nan nan nan nan nan\n",
      " nan nan nan nan nan nan nan nan nan nan nan nan nan nan nan nan nan nan\n",
      " nan nan nan nan nan nan nan nan nan nan nan nan nan nan nan nan nan nan\n",
      " nan nan nan nan nan nan nan nan nan nan nan nan nan nan nan nan nan nan\n",
      " nan nan nan nan nan nan nan nan nan nan nan nan nan nan nan nan nan nan\n",
      " nan nan nan nan nan nan nan nan nan nan nan nan nan nan nan nan nan nan\n",
      " nan nan nan nan nan nan nan nan nan nan nan nan nan nan nan nan nan nan]\n",
      "  warnings.warn(\n"
     ]
    },
    {
     "name": "stdout",
     "output_type": "stream",
     "text": [
      "Starting Decision Tree # 3.\n"
     ]
    },
    {
     "name": "stderr",
     "output_type": "stream",
     "text": [
      "c:\\Users\\duart\\miniconda3\\envs\\churn\\Lib\\site-packages\\sklearn\\model_selection\\_search.py:1102: UserWarning: One or more of the test scores are non-finite: [nan nan nan nan nan nan nan nan nan nan nan nan nan nan nan nan nan nan\n",
      " nan nan nan nan nan nan nan nan nan nan nan nan nan nan nan nan nan nan\n",
      " nan nan nan nan nan nan nan nan nan nan nan nan nan nan nan nan nan nan\n",
      " nan nan nan nan nan nan nan nan nan nan nan nan nan nan nan nan nan nan\n",
      " nan nan nan nan nan nan nan nan nan nan nan nan nan nan nan nan nan nan\n",
      " nan nan nan nan nan nan nan nan nan nan nan nan nan nan nan nan nan nan\n",
      " nan nan nan nan nan nan nan nan nan nan nan nan nan nan nan nan nan nan\n",
      " nan nan nan nan nan nan nan nan nan nan nan nan nan nan nan nan nan nan\n",
      " nan nan nan nan nan nan nan nan nan nan nan nan nan nan nan nan nan nan\n",
      " nan nan nan nan nan nan nan nan nan nan nan nan nan nan nan nan nan nan\n",
      " nan nan nan nan nan nan nan nan nan nan nan nan nan nan nan nan nan nan\n",
      " nan nan nan nan nan nan nan nan nan nan nan nan nan nan nan nan nan nan]\n",
      "  warnings.warn(\n"
     ]
    },
    {
     "name": "stdout",
     "output_type": "stream",
     "text": [
      "Starting Decision Tree # 4.\n"
     ]
    },
    {
     "name": "stderr",
     "output_type": "stream",
     "text": [
      "c:\\Users\\duart\\miniconda3\\envs\\churn\\Lib\\site-packages\\numpy\\ma\\core.py:2820: RuntimeWarning: invalid value encountered in cast\n",
      "  _data = np.array(data, dtype=dtype, copy=copy,\n",
      "c:\\Users\\duart\\miniconda3\\envs\\churn\\Lib\\site-packages\\sklearn\\model_selection\\_search.py:1102: UserWarning: One or more of the test scores are non-finite: [nan nan nan nan nan nan nan nan nan nan nan nan nan nan nan nan nan nan\n",
      " nan nan nan nan nan nan nan nan nan nan nan nan nan nan nan nan nan nan\n",
      " nan nan nan nan nan nan nan nan nan nan nan nan nan nan nan nan nan nan\n",
      " nan nan nan nan nan nan nan nan nan nan nan nan nan nan nan nan nan nan\n",
      " nan nan nan nan nan nan nan nan nan nan nan nan nan nan nan nan nan nan\n",
      " nan nan nan nan nan nan nan nan nan nan nan nan nan nan nan nan nan nan\n",
      " nan nan nan nan nan nan nan nan nan nan nan nan nan nan nan nan nan nan\n",
      " nan nan nan nan nan nan nan nan nan nan nan nan nan nan nan nan nan nan\n",
      " nan nan nan nan nan nan nan nan nan nan nan nan nan nan nan nan nan nan\n",
      " nan nan nan nan nan nan nan nan nan nan nan nan nan nan nan nan nan nan\n",
      " nan nan nan nan nan nan nan nan nan nan nan nan nan nan nan nan nan nan\n",
      " nan nan nan nan nan nan nan nan nan nan nan nan nan nan nan nan nan nan]\n",
      "  warnings.warn(\n"
     ]
    },
    {
     "name": "stdout",
     "output_type": "stream",
     "text": [
      "Starting Decision Tree # 5.\n"
     ]
    },
    {
     "name": "stderr",
     "output_type": "stream",
     "text": [
      "c:\\Users\\duart\\miniconda3\\envs\\churn\\Lib\\site-packages\\numpy\\ma\\core.py:2820: RuntimeWarning: invalid value encountered in cast\n",
      "  _data = np.array(data, dtype=dtype, copy=copy,\n",
      "c:\\Users\\duart\\miniconda3\\envs\\churn\\Lib\\site-packages\\sklearn\\model_selection\\_search.py:1102: UserWarning: One or more of the test scores are non-finite: [nan nan nan nan nan nan nan nan nan nan nan nan nan nan nan nan nan nan\n",
      " nan nan nan nan nan nan nan nan nan nan nan nan nan nan nan nan nan nan\n",
      " nan nan nan nan nan nan nan nan nan nan nan nan nan nan nan nan nan nan\n",
      " nan nan nan nan nan nan nan nan nan nan nan nan nan nan nan nan nan nan\n",
      " nan nan nan nan nan nan nan nan nan nan nan nan nan nan nan nan nan nan\n",
      " nan nan nan nan nan nan nan nan nan nan nan nan nan nan nan nan nan nan\n",
      " nan nan nan nan nan nan nan nan nan nan nan nan nan nan nan nan nan nan\n",
      " nan nan nan nan nan nan nan nan nan nan nan nan nan nan nan nan nan nan\n",
      " nan nan nan nan nan nan nan nan nan nan nan nan nan nan nan nan nan nan\n",
      " nan nan nan nan nan nan nan nan nan nan nan nan nan nan nan nan nan nan\n",
      " nan nan nan nan nan nan nan nan nan nan nan nan nan nan nan nan nan nan\n",
      " nan nan nan nan nan nan nan nan nan nan nan nan nan nan nan nan nan nan]\n",
      "  warnings.warn(\n"
     ]
    },
    {
     "name": "stdout",
     "output_type": "stream",
     "text": [
      "              precision    recall  f1-score   support\n",
      "\n",
      "           0       0.00      0.00      0.00        77\n",
      "           1       0.32      0.12      0.18       560\n",
      "           2       0.32      0.59      0.42       748\n",
      "           3       0.32      0.04      0.07       619\n",
      "           4       0.44      0.64      0.52       739\n",
      "\n",
      "    accuracy                           0.37      2743\n",
      "   macro avg       0.28      0.28      0.24      2743\n",
      "weighted avg       0.34      0.37      0.31      2743\n",
      "\n",
      "[[  0  10  43   3  21]\n",
      " [  0  70 347   8 135]\n",
      " [  0  69 445  12 222]\n",
      " [  0  42 338  24 215]\n",
      " [  0  28 209  28 474]]\n",
      "{'F1-deviation': 0.010331811535774595, 'F1-average': 0.2943165652971477, 'Accuracy-average': 0.3667985776676172}\n"
     ]
    },
    {
     "name": "stderr",
     "output_type": "stream",
     "text": [
      "c:\\Users\\duart\\miniconda3\\envs\\churn\\Lib\\site-packages\\sklearn\\metrics\\_classification.py:1531: UndefinedMetricWarning: Precision is ill-defined and being set to 0.0 in labels with no predicted samples. Use `zero_division` parameter to control this behavior.\n",
      "  _warn_prf(average, modifier, f\"{metric.capitalize()} is\", len(result))\n",
      "c:\\Users\\duart\\miniconda3\\envs\\churn\\Lib\\site-packages\\sklearn\\metrics\\_classification.py:1531: UndefinedMetricWarning: Precision is ill-defined and being set to 0.0 in labels with no predicted samples. Use `zero_division` parameter to control this behavior.\n",
      "  _warn_prf(average, modifier, f\"{metric.capitalize()} is\", len(result))\n",
      "c:\\Users\\duart\\miniconda3\\envs\\churn\\Lib\\site-packages\\sklearn\\metrics\\_classification.py:1531: UndefinedMetricWarning: Precision is ill-defined and being set to 0.0 in labels with no predicted samples. Use `zero_division` parameter to control this behavior.\n",
      "  _warn_prf(average, modifier, f\"{metric.capitalize()} is\", len(result))\n"
     ]
    }
   ],
   "source": [
    "rforest = RandomForestClassifier(random_state=42)\n",
    "\n",
    "param_grid = {\n",
    "    'max_depth': [3,5,10,15],\n",
    "    'min_samples_split': [2, 5, 10],\n",
    "    'min_samples_leaf': [1, 2, 4],\n",
    "    'criterion': ['gini', 'entropy'],\n",
    "    'max_features': [None, 'sqrt', 'log2']\n",
    "}\n",
    "\n",
    "f1_scores = []\n",
    "accuracy_scores = []\n",
    "\n",
    "for fold, (train_index, val_index) in enumerate(kf.split(X)):\n",
    "    X_train, X_val = X.iloc[train_index], X.iloc[val_index]\n",
    "    y_train, y_val = y.iloc[train_index], y.iloc[val_index]\n",
    "    #X_train, y_train = smote.fit_resample(X_train, y_train)\n",
    "    \n",
    "    print(f\"Starting Decision Tree # {fold + 1}.\")\n",
    "    grid_search = GridSearchCV(estimator=rforest, param_grid=param_grid, cv=3, scoring='f1', n_jobs=-1)\n",
    "    grid_search.fit(X_train, y_train)\n",
    "\n",
    "    best_rforest = grid_search.best_estimator_\n",
    "    y_pred_val = best_rforest.predict(X_val)\n",
    "\n",
    "    f1 = f1_score(y_val, y_pred_val, average='weighted')  # Use 'weighted' or adjust based on your data\n",
    "    accuracy = accuracy_score(y_val, y_pred_val)\n",
    "\n",
    "    f1_scores.append(f1)\n",
    "    accuracy_scores.append(accuracy)\n",
    "\n",
    "foldScores['RForest'] = {\n",
    "    'F1-deviation': np.std(f1_scores),\n",
    "    'F1-average': np.mean(f1_scores),\n",
    "    'Accuracy-average': np.mean(accuracy_scores)\n",
    "}\n",
    "# Get Classification Report and Confusion Matrix only of last Fold\n",
    "print(classification_report(y_val, y_pred_val))\n",
    "print(confusion_matrix(y_val, y_pred_val))\n",
    "print(foldScores['RForest'])"
   ]
  },
  {
   "cell_type": "markdown",
   "metadata": {},
   "source": [
    "Similar results to the decision tree, different numbers, same conclusion."
   ]
  },
  {
   "cell_type": "markdown",
   "metadata": {},
   "source": [
    "### Bayes"
   ]
  },
  {
   "cell_type": "code",
   "execution_count": 19,
   "metadata": {},
   "outputs": [
    {
     "name": "stdout",
     "output_type": "stream",
     "text": [
      "Starting Bayes # 1.\n"
     ]
    },
    {
     "name": "stderr",
     "output_type": "stream",
     "text": [
      "c:\\Users\\duart\\miniconda3\\envs\\churn\\Lib\\site-packages\\sklearn\\model_selection\\_search.py:1102: UserWarning: One or more of the test scores are non-finite: [nan]\n",
      "  warnings.warn(\n"
     ]
    },
    {
     "name": "stdout",
     "output_type": "stream",
     "text": [
      "Starting Bayes # 2.\n"
     ]
    },
    {
     "name": "stderr",
     "output_type": "stream",
     "text": [
      "c:\\Users\\duart\\miniconda3\\envs\\churn\\Lib\\site-packages\\sklearn\\model_selection\\_search.py:1102: UserWarning: One or more of the test scores are non-finite: [nan]\n",
      "  warnings.warn(\n"
     ]
    },
    {
     "name": "stdout",
     "output_type": "stream",
     "text": [
      "Starting Bayes # 3.\n"
     ]
    },
    {
     "name": "stderr",
     "output_type": "stream",
     "text": [
      "c:\\Users\\duart\\miniconda3\\envs\\churn\\Lib\\site-packages\\sklearn\\model_selection\\_search.py:1102: UserWarning: One or more of the test scores are non-finite: [nan]\n",
      "  warnings.warn(\n"
     ]
    },
    {
     "name": "stdout",
     "output_type": "stream",
     "text": [
      "Starting Bayes # 4.\n"
     ]
    },
    {
     "name": "stderr",
     "output_type": "stream",
     "text": [
      "c:\\Users\\duart\\miniconda3\\envs\\churn\\Lib\\site-packages\\sklearn\\model_selection\\_search.py:1102: UserWarning: One or more of the test scores are non-finite: [nan]\n",
      "  warnings.warn(\n"
     ]
    },
    {
     "name": "stdout",
     "output_type": "stream",
     "text": [
      "Starting Bayes # 5.\n",
      "              precision    recall  f1-score   support\n",
      "\n",
      "           0       0.02      0.03      0.02        77\n",
      "           1       0.27      0.44      0.34       560\n",
      "           2       0.33      0.29      0.31       748\n",
      "           3       0.34      0.17      0.23       619\n",
      "           4       0.43      0.46      0.45       739\n",
      "\n",
      "    accuracy                           0.33      2743\n",
      "   macro avg       0.28      0.28      0.27      2743\n",
      "weighted avg       0.34      0.33      0.33      2743\n",
      "\n",
      "[[  2  39  12   8  16]\n",
      " [ 27 249 140  48  96]\n",
      " [ 23 246 220  78 181]\n",
      " [ 22 195 148 106 148]\n",
      " [ 15 181 137  68 338]]\n",
      "{'F1-deviation': 0.004447406218335813, 'F1-average': 0.3308586363378326, 'Accuracy-average': 0.34077017140901467}\n"
     ]
    },
    {
     "name": "stderr",
     "output_type": "stream",
     "text": [
      "c:\\Users\\duart\\miniconda3\\envs\\churn\\Lib\\site-packages\\sklearn\\model_selection\\_search.py:1102: UserWarning: One or more of the test scores are non-finite: [nan]\n",
      "  warnings.warn(\n"
     ]
    }
   ],
   "source": [
    "bayes = GaussianNB()\n",
    "param_grid = {}\n",
    "\n",
    "f1_scores = []\n",
    "accuracy_scores = []\n",
    "\n",
    "for fold, (train_index, val_index) in enumerate(kf.split(X)):\n",
    "    X_train, X_val = X.iloc[train_index], X.iloc[val_index]\n",
    "    y_train, y_val = y.iloc[train_index], y.iloc[val_index]\n",
    "    #X_train, y_train = smote.fit_resample(X_train, y_train)\n",
    "    \n",
    "    print(f\"Starting Bayes # {fold + 1}.\")\n",
    "    grid_search = GridSearchCV(estimator=bayes, param_grid=param_grid, cv=3, scoring='f1', n_jobs=-1)\n",
    "    grid_search.fit(X_train, y_train)\n",
    "\n",
    "    best_bayes = grid_search.best_estimator_\n",
    "    y_pred_val = best_bayes.predict(X_val)\n",
    "\n",
    "    f1 = f1_score(y_val, y_pred_val, average='weighted')  # Use 'weighted' or adjust based on your data\n",
    "    accuracy = accuracy_score(y_val, y_pred_val)\n",
    "\n",
    "    f1_scores.append(f1)\n",
    "    accuracy_scores.append(accuracy)\n",
    "\n",
    "foldScores['Bayes'] = {\n",
    "    'F1-deviation': np.std(f1_scores),\n",
    "    'F1-average': np.mean(f1_scores),\n",
    "    'Accuracy-average': np.mean(accuracy_scores)\n",
    "}\n",
    "# Get Classification Report and Confusion Matrix only of last Fold\n",
    "print(classification_report(y_val, y_pred_val))\n",
    "print(confusion_matrix(y_val, y_pred_val))\n",
    "print(foldScores['Bayes'])"
   ]
  },
  {
   "cell_type": "markdown",
   "metadata": {},
   "source": [
    "Using the Naive Bayes algorithm we got to predict 2 entreis of class 0, getting us the view of what recall and f1-score we can expect from this class. "
   ]
  },
  {
   "cell_type": "markdown",
   "metadata": {},
   "source": [
    "### KNN"
   ]
  },
  {
   "cell_type": "markdown",
   "metadata": {},
   "source": [
    "Picking K=13 for the same reason."
   ]
  },
  {
   "cell_type": "code",
   "execution_count": 20,
   "metadata": {},
   "outputs": [
    {
     "data": {
      "image/png": "[encoded data removed]",
      "text/plain": [
       "<Figure size 800x600 with 1 Axes>"
      ]
     },
     "metadata": {},
     "output_type": "display_data"
    }
   ],
   "source": [
    "# Range of k values to test\n",
    "k_values = range(1, 21)\n",
    "\n",
    "# List to store cross-validated MSE scores\n",
    "mse_scores = []\n",
    "\n",
    "# Loop through each k value\n",
    "for k in k_values:\n",
    "    knn = KNeighborsRegressor(n_neighbors=k)\n",
    "    # Perform 5-fold cross-validation with negative MSE (to minimize)\n",
    "    neg_mse_scores = cross_val_score(knn, X, y, cv=5, scoring='neg_mean_squared_error')\n",
    "    # Store the mean MSE for the current k\n",
    "    mse_scores.append(-neg_mse_scores.mean())  # Convert to positive MSE\n",
    "\n",
    "# Plot the results\n",
    "plt.figure(figsize=(8, 6))\n",
    "plt.plot(k_values, mse_scores, marker='o', linestyle='--', color='r')\n",
    "plt.xlabel('Number of Neighbors (k)')\n",
    "plt.ylabel('Mean Squared Error (MSE)')\n",
    "plt.title('Elbow Method for Optimal k in KNN Regression')\n",
    "plt.xticks(k_values)\n",
    "plt.grid(True)\n",
    "plt.show()"
   ]
  },
  {
   "cell_type": "code",
   "execution_count": 22,
   "metadata": {},
   "outputs": [
    {
     "name": "stdout",
     "output_type": "stream",
     "text": [
      "Starting KNN # 1.\n"
     ]
    },
    {
     "name": "stderr",
     "output_type": "stream",
     "text": [
      "c:\\Users\\duart\\miniconda3\\envs\\churn\\Lib\\site-packages\\sklearn\\model_selection\\_search.py:1102: UserWarning: One or more of the test scores are non-finite: [nan nan nan nan]\n",
      "  warnings.warn(\n"
     ]
    },
    {
     "name": "stdout",
     "output_type": "stream",
     "text": [
      "Starting KNN # 2.\n"
     ]
    },
    {
     "name": "stderr",
     "output_type": "stream",
     "text": [
      "c:\\Users\\duart\\miniconda3\\envs\\churn\\Lib\\site-packages\\sklearn\\model_selection\\_search.py:1102: UserWarning: One or more of the test scores are non-finite: [nan nan nan nan]\n",
      "  warnings.warn(\n"
     ]
    },
    {
     "name": "stdout",
     "output_type": "stream",
     "text": [
      "Starting KNN # 3.\n"
     ]
    },
    {
     "name": "stderr",
     "output_type": "stream",
     "text": [
      "c:\\Users\\duart\\miniconda3\\envs\\churn\\Lib\\site-packages\\sklearn\\model_selection\\_search.py:1102: UserWarning: One or more of the test scores are non-finite: [nan nan nan nan]\n",
      "  warnings.warn(\n"
     ]
    },
    {
     "name": "stdout",
     "output_type": "stream",
     "text": [
      "Starting KNN # 4.\n"
     ]
    },
    {
     "name": "stderr",
     "output_type": "stream",
     "text": [
      "c:\\Users\\duart\\miniconda3\\envs\\churn\\Lib\\site-packages\\sklearn\\model_selection\\_search.py:1102: UserWarning: One or more of the test scores are non-finite: [nan nan nan nan]\n",
      "  warnings.warn(\n"
     ]
    },
    {
     "name": "stdout",
     "output_type": "stream",
     "text": [
      "Starting KNN # 5.\n",
      "              precision    recall  f1-score   support\n",
      "\n",
      "           0       0.14      0.03      0.04        77\n",
      "           1       0.27      0.34      0.30       560\n",
      "           2       0.32      0.39      0.35       748\n",
      "           3       0.30      0.20      0.24       619\n",
      "           4       0.49      0.46      0.47       739\n",
      "\n",
      "    accuracy                           0.34      2743\n",
      "   macro avg       0.30      0.28      0.28      2743\n",
      "weighted avg       0.34      0.34      0.34      2743\n",
      "\n",
      "[[  2  36  21   3  15]\n",
      " [  5 190 210  77  78]\n",
      " [  2 210 288 117 131]\n",
      " [  3 144 213 125 134]\n",
      " [  2 127 173  96 341]]\n",
      "{'F1-deviation': 0.006349545175961395, 'F1-average': 0.3443524680515251, 'Accuracy-average': 0.34951902483820463}\n"
     ]
    },
    {
     "name": "stderr",
     "output_type": "stream",
     "text": [
      "c:\\Users\\duart\\miniconda3\\envs\\churn\\Lib\\site-packages\\sklearn\\model_selection\\_search.py:1102: UserWarning: One or more of the test scores are non-finite: [nan nan nan nan]\n",
      "  warnings.warn(\n"
     ]
    }
   ],
   "source": [
    "knn = KNeighborsClassifier()\n",
    "\n",
    "# Define hyperparameters to tune\n",
    "param_grid = {\n",
    "    'n_neighbors': [13],  # Number of neighbors\n",
    "    'weights': ['uniform', 'distance'],  # Uniform or distance-based weighting\n",
    "    'metric': ['euclidean', 'manhattan'],  # Distance metric\n",
    "}\n",
    "\n",
    "f1_scores = []\n",
    "accuracy_scores = []\n",
    "\n",
    "for fold, (train_index, val_index) in enumerate(kf.split(X)):\n",
    "    X_train, X_val = X.iloc[train_index], X.iloc[val_index]\n",
    "    y_train, y_val = y.iloc[train_index], y.iloc[val_index]\n",
    "    #X_train, y_train = smote.fit_resample(X_train, y_train)\n",
    "    \n",
    "    print(f\"Starting KNN # {fold + 1}.\")\n",
    "    grid_search = GridSearchCV(estimator=knn, param_grid=param_grid, cv=3, scoring='f1', n_jobs=-1)\n",
    "    grid_search.fit(X_train, y_train)\n",
    "\n",
    "    best_knn = grid_search.best_estimator_\n",
    "    y_pred_val = best_knn.predict(X_val)\n",
    "\n",
    "    f1 = f1_score(y_val, y_pred_val, average='weighted')  # Use 'weighted' or adjust based on your data\n",
    "    accuracy = accuracy_score(y_val, y_pred_val)\n",
    "\n",
    "    f1_scores.append(f1)\n",
    "    accuracy_scores.append(accuracy)\n",
    "\n",
    "foldScores['KNN'] = {\n",
    "    'F1-deviation': np.std(f1_scores),\n",
    "    'F1-average': np.mean(f1_scores),\n",
    "    'Accuracy-average': np.mean(accuracy_scores)\n",
    "}\n",
    "# Get Classification Report and Confusion Matrix only of last Fold\n",
    "print(classification_report(y_val, y_pred_val))\n",
    "print(confusion_matrix(y_val, y_pred_val))\n",
    "print(foldScores['KNN'])"
   ]
  },
  {
   "cell_type": "markdown",
   "metadata": {},
   "source": [
    "There are very few things to comment on all these models as their performance is about the same."
   ]
  },
  {
   "cell_type": "markdown",
   "metadata": {},
   "source": [
    "### Logistic Regression"
   ]
  },
  {
   "cell_type": "code",
   "execution_count": 23,
   "metadata": {},
   "outputs": [
    {
     "name": "stdout",
     "output_type": "stream",
     "text": [
      "Starting Log Regression # 1.\n"
     ]
    },
    {
     "name": "stderr",
     "output_type": "stream",
     "text": [
      "c:\\Users\\duart\\miniconda3\\envs\\churn\\Lib\\site-packages\\sklearn\\model_selection\\_search.py:1102: UserWarning: One or more of the test scores are non-finite: [nan nan nan nan nan nan nan nan nan nan nan nan nan nan nan nan nan nan\n",
      " nan nan nan nan nan nan nan nan nan nan nan nan nan nan nan nan nan nan\n",
      " nan nan nan nan nan nan nan nan nan nan nan nan nan nan nan nan nan nan\n",
      " nan nan nan nan nan nan nan nan nan nan]\n",
      "  warnings.warn(\n",
      "c:\\Users\\duart\\miniconda3\\envs\\churn\\Lib\\site-packages\\sklearn\\linear_model\\_logistic.py:469: ConvergenceWarning: lbfgs failed to converge (status=1):\n",
      "STOP: TOTAL NO. of ITERATIONS REACHED LIMIT.\n",
      "\n",
      "Increase the number of iterations (max_iter) or scale the data as shown in:\n",
      "    https://scikit-learn.org/stable/modules/preprocessing.html\n",
      "Please also refer to the documentation for alternative solver options:\n",
      "    https://scikit-learn.org/stable/modules/linear_model.html#logistic-regression\n",
      "  n_iter_i = _check_optimize_result(\n"
     ]
    },
    {
     "name": "stdout",
     "output_type": "stream",
     "text": [
      "Starting Log Regression # 2.\n"
     ]
    },
    {
     "name": "stderr",
     "output_type": "stream",
     "text": [
      "c:\\Users\\duart\\miniconda3\\envs\\churn\\Lib\\site-packages\\sklearn\\model_selection\\_search.py:1102: UserWarning: One or more of the test scores are non-finite: [nan nan nan nan nan nan nan nan nan nan nan nan nan nan nan nan nan nan\n",
      " nan nan nan nan nan nan nan nan nan nan nan nan nan nan nan nan nan nan\n",
      " nan nan nan nan nan nan nan nan nan nan nan nan nan nan nan nan nan nan\n",
      " nan nan nan nan nan nan nan nan nan nan]\n",
      "  warnings.warn(\n",
      "c:\\Users\\duart\\miniconda3\\envs\\churn\\Lib\\site-packages\\sklearn\\linear_model\\_logistic.py:469: ConvergenceWarning: lbfgs failed to converge (status=1):\n",
      "STOP: TOTAL NO. of ITERATIONS REACHED LIMIT.\n",
      "\n",
      "Increase the number of iterations (max_iter) or scale the data as shown in:\n",
      "    https://scikit-learn.org/stable/modules/preprocessing.html\n",
      "Please also refer to the documentation for alternative solver options:\n",
      "    https://scikit-learn.org/stable/modules/linear_model.html#logistic-regression\n",
      "  n_iter_i = _check_optimize_result(\n"
     ]
    },
    {
     "name": "stdout",
     "output_type": "stream",
     "text": [
      "Starting Log Regression # 3.\n"
     ]
    },
    {
     "name": "stderr",
     "output_type": "stream",
     "text": [
      "c:\\Users\\duart\\miniconda3\\envs\\churn\\Lib\\site-packages\\sklearn\\model_selection\\_search.py:1102: UserWarning: One or more of the test scores are non-finite: [nan nan nan nan nan nan nan nan nan nan nan nan nan nan nan nan nan nan\n",
      " nan nan nan nan nan nan nan nan nan nan nan nan nan nan nan nan nan nan\n",
      " nan nan nan nan nan nan nan nan nan nan nan nan nan nan nan nan nan nan\n",
      " nan nan nan nan nan nan nan nan nan nan]\n",
      "  warnings.warn(\n",
      "c:\\Users\\duart\\miniconda3\\envs\\churn\\Lib\\site-packages\\sklearn\\linear_model\\_logistic.py:469: ConvergenceWarning: lbfgs failed to converge (status=1):\n",
      "STOP: TOTAL NO. of ITERATIONS REACHED LIMIT.\n",
      "\n",
      "Increase the number of iterations (max_iter) or scale the data as shown in:\n",
      "    https://scikit-learn.org/stable/modules/preprocessing.html\n",
      "Please also refer to the documentation for alternative solver options:\n",
      "    https://scikit-learn.org/stable/modules/linear_model.html#logistic-regression\n",
      "  n_iter_i = _check_optimize_result(\n"
     ]
    },
    {
     "name": "stdout",
     "output_type": "stream",
     "text": [
      "Starting Log Regression # 4.\n"
     ]
    },
    {
     "name": "stderr",
     "output_type": "stream",
     "text": [
      "c:\\Users\\duart\\miniconda3\\envs\\churn\\Lib\\site-packages\\sklearn\\model_selection\\_search.py:1102: UserWarning: One or more of the test scores are non-finite: [nan nan nan nan nan nan nan nan nan nan nan nan nan nan nan nan nan nan\n",
      " nan nan nan nan nan nan nan nan nan nan nan nan nan nan nan nan nan nan\n",
      " nan nan nan nan nan nan nan nan nan nan nan nan nan nan nan nan nan nan\n",
      " nan nan nan nan nan nan nan nan nan nan]\n",
      "  warnings.warn(\n",
      "c:\\Users\\duart\\miniconda3\\envs\\churn\\Lib\\site-packages\\sklearn\\linear_model\\_logistic.py:469: ConvergenceWarning: lbfgs failed to converge (status=1):\n",
      "STOP: TOTAL NO. of ITERATIONS REACHED LIMIT.\n",
      "\n",
      "Increase the number of iterations (max_iter) or scale the data as shown in:\n",
      "    https://scikit-learn.org/stable/modules/preprocessing.html\n",
      "Please also refer to the documentation for alternative solver options:\n",
      "    https://scikit-learn.org/stable/modules/linear_model.html#logistic-regression\n",
      "  n_iter_i = _check_optimize_result(\n"
     ]
    },
    {
     "name": "stdout",
     "output_type": "stream",
     "text": [
      "Starting Log Regression # 5.\n"
     ]
    },
    {
     "name": "stderr",
     "output_type": "stream",
     "text": [
      "c:\\Users\\duart\\miniconda3\\envs\\churn\\Lib\\site-packages\\sklearn\\model_selection\\_search.py:1102: UserWarning: One or more of the test scores are non-finite: [nan nan nan nan nan nan nan nan nan nan nan nan nan nan nan nan nan nan\n",
      " nan nan nan nan nan nan nan nan nan nan nan nan nan nan nan nan nan nan\n",
      " nan nan nan nan nan nan nan nan nan nan nan nan nan nan nan nan nan nan\n",
      " nan nan nan nan nan nan nan nan nan nan]\n",
      "  warnings.warn(\n"
     ]
    },
    {
     "name": "stdout",
     "output_type": "stream",
     "text": [
      "              precision    recall  f1-score   support\n",
      "\n",
      "           0       0.00      0.00      0.00        77\n",
      "           1       0.32      0.09      0.14       560\n",
      "           2       0.29      0.40      0.33       748\n",
      "           3       0.24      0.02      0.04       619\n",
      "           4       0.33      0.67      0.45       739\n",
      "\n",
      "    accuracy                           0.31      2743\n",
      "   macro avg       0.24      0.24      0.19      2743\n",
      "weighted avg       0.29      0.31      0.25      2743\n",
      "\n",
      "[[  0   3  43   3  28]\n",
      " [  0  52 264   7 237]\n",
      " [  0  47 299   6 396]\n",
      " [  0  32 246  12 329]\n",
      " [  0  28 191  22 498]]\n",
      "{'F1-deviation': 0.012902845297494626, 'F1-average': 0.254329972858435, 'Accuracy-average': 0.3165655434612781}\n"
     ]
    },
    {
     "name": "stderr",
     "output_type": "stream",
     "text": [
      "c:\\Users\\duart\\miniconda3\\envs\\churn\\Lib\\site-packages\\sklearn\\linear_model\\_logistic.py:469: ConvergenceWarning: lbfgs failed to converge (status=1):\n",
      "STOP: TOTAL NO. of ITERATIONS REACHED LIMIT.\n",
      "\n",
      "Increase the number of iterations (max_iter) or scale the data as shown in:\n",
      "    https://scikit-learn.org/stable/modules/preprocessing.html\n",
      "Please also refer to the documentation for alternative solver options:\n",
      "    https://scikit-learn.org/stable/modules/linear_model.html#logistic-regression\n",
      "  n_iter_i = _check_optimize_result(\n",
      "c:\\Users\\duart\\miniconda3\\envs\\churn\\Lib\\site-packages\\sklearn\\metrics\\_classification.py:1531: UndefinedMetricWarning: Precision is ill-defined and being set to 0.0 in labels with no predicted samples. Use `zero_division` parameter to control this behavior.\n",
      "  _warn_prf(average, modifier, f\"{metric.capitalize()} is\", len(result))\n",
      "c:\\Users\\duart\\miniconda3\\envs\\churn\\Lib\\site-packages\\sklearn\\metrics\\_classification.py:1531: UndefinedMetricWarning: Precision is ill-defined and being set to 0.0 in labels with no predicted samples. Use `zero_division` parameter to control this behavior.\n",
      "  _warn_prf(average, modifier, f\"{metric.capitalize()} is\", len(result))\n",
      "c:\\Users\\duart\\miniconda3\\envs\\churn\\Lib\\site-packages\\sklearn\\metrics\\_classification.py:1531: UndefinedMetricWarning: Precision is ill-defined and being set to 0.0 in labels with no predicted samples. Use `zero_division` parameter to control this behavior.\n",
      "  _warn_prf(average, modifier, f\"{metric.capitalize()} is\", len(result))\n"
     ]
    }
   ],
   "source": [
    "log_regression = LogisticRegression(random_state=42)\n",
    "param_grid = [\n",
    "    # 'lbfgs' solver supports only 'l2'\n",
    "    {'solver': ['lbfgs'], \n",
    "     'penalty': ['l2'], \n",
    "     'C': [0.1, 1, 10, 100], \n",
    "     'class_weight': [None, 'balanced']},\n",
    "\n",
    "    # 'liblinear' solver supports 'l1' and 'l2'\n",
    "    {'solver': ['liblinear'], \n",
    "     'penalty': ['l1', 'l2'], \n",
    "     'C': [0.1, 1, 10, 100], \n",
    "     'class_weight': [None, 'balanced']},\n",
    "\n",
    "    # 'saga' solver supports 'l1', 'l2', and 'elasticnet'\n",
    "    {'solver': ['saga'], \n",
    "     'penalty': ['l1', 'l2'], \n",
    "     'C': [0.1, 1, 10, 100], \n",
    "     'class_weight': [None, 'balanced']},\n",
    "    \n",
    "    # 'saga' solver with 'elasticnet'\n",
    "    {'solver': ['saga'], \n",
    "     'penalty': ['elasticnet'], \n",
    "     'C': [0.1, 1, 10, 100], \n",
    "     'class_weight': [None, 'balanced'], \n",
    "     'l1_ratio': [0.5, 0.7, 0.9]}  # Elastic net-specific parameter\n",
    "]\n",
    "\n",
    "f1_scores = []\n",
    "accuracy_scores = []\n",
    "\n",
    "for fold, (train_index, val_index) in enumerate(kf.split(X)):\n",
    "    X_train, X_val = X.iloc[train_index], X.iloc[val_index]\n",
    "    y_train, y_val = y.iloc[train_index], y.iloc[val_index]\n",
    "    #X_train, y_train = smote.fit_resample(X_train, y_train)\n",
    "    \n",
    "    print(f\"Starting Log Regression # {fold + 1}.\")\n",
    "    grid_search = GridSearchCV(estimator=log_regression, param_grid=param_grid, cv=3, scoring='f1', n_jobs=-1)\n",
    "    grid_search.fit(X_train, y_train)\n",
    "\n",
    "    best_log_regression = grid_search.best_estimator_\n",
    "    y_pred_val = best_log_regression.predict(X_val)\n",
    "\n",
    "    f1 = f1_score(y_val, y_pred_val, average='weighted')  # Use 'weighted' or adjust based on your data\n",
    "    accuracy = accuracy_score(y_val, y_pred_val)\n",
    "\n",
    "    f1_scores.append(f1)\n",
    "    accuracy_scores.append(accuracy)\n",
    "\n",
    "foldScores['LogRegression'] = {\n",
    "    'F1-deviation': np.std(f1_scores),\n",
    "    'F1-average': np.mean(f1_scores),\n",
    "    'Accuracy-average': np.mean(accuracy_scores)\n",
    "}\n",
    "# Get Classification Report and Confusion Matrix only of last Fold\n",
    "print(classification_report(y_val, y_pred_val))\n",
    "print(confusion_matrix(y_val, y_pred_val))\n",
    "print(foldScores['LogRegression'])"
   ]
  },
  {
   "cell_type": "markdown",
   "metadata": {},
   "source": [
    "Similar results to tree models."
   ]
  },
  {
   "cell_type": "code",
   "execution_count": 24,
   "metadata": {},
   "outputs": [
    {
     "data": {
      "text/plain": [
       "{'DTree': {'F1-deviation': 0.015600790235479004,\n",
       "  'F1-average': 0.29598740017244235,\n",
       "  'Accuracy-average': 0.36308002134242584},\n",
       " 'RForest': {'F1-deviation': 0.010331811535774595,\n",
       "  'F1-average': 0.2943165652971477,\n",
       "  'Accuracy-average': 0.3667985776676172},\n",
       " 'Bayes': {'F1-deviation': 0.006349545175961395,\n",
       "  'F1-average': 0.3443524680515251,\n",
       "  'Accuracy-average': 0.34951902483820463},\n",
       " 'KNN': {'F1-deviation': 0.006349545175961395,\n",
       "  'F1-average': 0.3443524680515251,\n",
       "  'Accuracy-average': 0.34951902483820463},\n",
       " 'LogRegression': {'F1-deviation': 0.012902845297494626,\n",
       "  'F1-average': 0.254329972858435,\n",
       "  'Accuracy-average': 0.3165655434612781}}"
      ]
     },
     "execution_count": 24,
     "metadata": {},
     "output_type": "execute_result"
    }
   ],
   "source": [
    "foldScores"
   ]
  },
  {
   "cell_type": "markdown",
   "metadata": {},
   "source": [
    "taking a look at the model performance/split we can see that the deviation on all models was < 0.03, which allows us to claim the performance is similar across all data."
   ]
  },
  {
   "cell_type": "markdown",
   "metadata": {},
   "source": [
    "## Cats - Binary Classification"
   ]
  },
  {
   "cell_type": "code",
   "execution_count": 25,
   "metadata": {},
   "outputs": [],
   "source": [
    "df = pd.read_csv('./Data/BINARY-CATS.csv', index_col='PetID') # Classifications for generic DF with isPetAdopted as the target\n",
    "smote = SMOTE(sampling_strategy=0.8, random_state=42)\n",
    "\n",
    "kf = KFold(n_splits=5, shuffle=True, random_state=42)\n",
    "X, y = df.drop(columns='isPetAdopted'), df['isPetAdopted']\n",
    "\n",
    "\n",
    "foldScores = {}"
   ]
  },
  {
   "cell_type": "markdown",
   "metadata": {},
   "source": [
    "### Decision Tree"
   ]
  },
  {
   "cell_type": "code",
   "execution_count": 26,
   "metadata": {},
   "outputs": [
    {
     "name": "stdout",
     "output_type": "stream",
     "text": [
      "Starting Decision Tree # 1.\n",
      "Starting Decision Tree # 2.\n",
      "Starting Decision Tree # 3.\n",
      "Starting Decision Tree # 4.\n",
      "Starting Decision Tree # 5.\n",
      "              precision    recall  f1-score   support\n",
      "\n",
      "       False       0.38      0.44      0.41       301\n",
      "        True       0.81      0.78      0.79       947\n",
      "\n",
      "    accuracy                           0.69      1248\n",
      "   macro avg       0.60      0.61      0.60      1248\n",
      "weighted avg       0.71      0.69      0.70      1248\n",
      "\n",
      "[[131 170]\n",
      " [213 734]]\n",
      "{'F1-deviation': 0.010835592324335579, 'F1-average': 0.694524153723722, 'Accuracy-average': 0.6892628205128205}\n"
     ]
    }
   ],
   "source": [
    "dtree = tree.DecisionTreeClassifier(random_state=42)\n",
    "\n",
    "dtree_param_grid = {\n",
    "    'max_depth': [3,5,10,15],\n",
    "    'min_samples_split': [2, 5, 10],\n",
    "    'min_samples_leaf': [1, 2, 4],\n",
    "    'criterion': ['gini', 'entropy'],\n",
    "    'max_features': [None, 'sqrt', 'log2']\n",
    "}\n",
    "\n",
    "f1_scores = []\n",
    "accuracy_scores = []\n",
    "\n",
    "for fold, (train_index, val_index) in enumerate(kf.split(X)):\n",
    "    X_train, X_val = X.iloc[train_index], X.iloc[val_index]\n",
    "    y_train, y_val = y.iloc[train_index], y.iloc[val_index]\n",
    "    X_train, y_train = smote.fit_resample(X_train, y_train)\n",
    "    \n",
    "    print(f\"Starting Decision Tree # {fold + 1}.\")\n",
    "    grid_search = GridSearchCV(estimator=dtree, param_grid=dtree_param_grid, cv=3, scoring='f1', n_jobs=-1)\n",
    "    grid_search.fit(X_train, y_train)\n",
    "\n",
    "    best_dtree = grid_search.best_estimator_\n",
    "    y_pred_val = best_dtree.predict(X_val)\n",
    "\n",
    "    f1 = f1_score(y_val, y_pred_val, average='weighted')  # Use 'weighted' or adjust based on your data\n",
    "    accuracy = accuracy_score(y_val, y_pred_val)\n",
    "\n",
    "    f1_scores.append(f1)\n",
    "    accuracy_scores.append(accuracy)\n",
    "\n",
    "foldScores['DTree'] = {\n",
    "    'F1-deviation': np.std(f1_scores),\n",
    "    'F1-average': np.mean(f1_scores),\n",
    "    'Accuracy-average': np.mean(accuracy_scores)\n",
    "}\n",
    "# Get Classification Report and Confusion Matrix only of last Fold\n",
    "print(classification_report(y_val, y_pred_val))\n",
    "print(confusion_matrix(y_val, y_pred_val))\n",
    "print(foldScores['DTree'])"
   ]
  },
  {
   "cell_type": "markdown",
   "metadata": {},
   "source": [
    "- Results Decision Tree - Cats Only\n",
    "\n",
    "Comparing to the results of Decision Tree on both cats and dogs, the model performance is slightly worse. This immediately suggests the performance should improve checking the Dogs Data.\n",
    "\n",
    "The model performance isn't as good as we hoped it would be as when it comes to predicting the cats that will not be adopted, it doesn't reach the 50%."
   ]
  },
  {
   "cell_type": "markdown",
   "metadata": {},
   "source": [
    "### Random Forest"
   ]
  },
  {
   "cell_type": "code",
   "execution_count": 27,
   "metadata": {},
   "outputs": [
    {
     "name": "stdout",
     "output_type": "stream",
     "text": [
      "Starting Decision Tree # 1.\n",
      "Starting Decision Tree # 2.\n",
      "Starting Decision Tree # 3.\n",
      "Starting Decision Tree # 4.\n",
      "Starting Decision Tree # 5.\n",
      "              precision    recall  f1-score   support\n",
      "\n",
      "       False       0.49      0.46      0.48       301\n",
      "        True       0.83      0.85      0.84       947\n",
      "\n",
      "    accuracy                           0.76      1248\n",
      "   macro avg       0.66      0.66      0.66      1248\n",
      "weighted avg       0.75      0.76      0.75      1248\n",
      "\n",
      "[[139 162]\n",
      " [143 804]]\n",
      "{'F1-deviation': 0.013045664328002329, 'F1-average': 0.7299762758640389, 'Accuracy-average': 0.7334935897435898}\n"
     ]
    }
   ],
   "source": [
    "rforest = RandomForestClassifier(random_state=42)\n",
    "\n",
    "param_grid = {\n",
    "    'max_depth': [3,5,10,15],\n",
    "    'min_samples_split': [2, 5, 10],\n",
    "    'min_samples_leaf': [1, 2, 4],\n",
    "    'criterion': ['gini', 'entropy'],\n",
    "    'max_features': [None, 'sqrt', 'log2']\n",
    "}\n",
    "\n",
    "f1_scores = []\n",
    "accuracy_scores = []\n",
    "\n",
    "for fold, (train_index, val_index) in enumerate(kf.split(X)):\n",
    "    X_train, X_val = X.iloc[train_index], X.iloc[val_index]\n",
    "    y_train, y_val = y.iloc[train_index], y.iloc[val_index]\n",
    "    X_train, y_train = smote.fit_resample(X_train, y_train)\n",
    "    \n",
    "    print(f\"Starting Decision Tree # {fold + 1}.\")\n",
    "    grid_search = GridSearchCV(estimator=rforest, param_grid=param_grid, cv=3, scoring='f1', n_jobs=-1)\n",
    "    grid_search.fit(X_train, y_train)\n",
    "\n",
    "    best_rforest = grid_search.best_estimator_\n",
    "    y_pred_val = best_rforest.predict(X_val)\n",
    "\n",
    "    f1 = f1_score(y_val, y_pred_val, average='weighted')  # Use 'weighted' or adjust based on your data\n",
    "    accuracy = accuracy_score(y_val, y_pred_val)\n",
    "\n",
    "    f1_scores.append(f1)\n",
    "    accuracy_scores.append(accuracy)\n",
    "\n",
    "foldScores['RForest'] = {\n",
    "    'F1-deviation': np.std(f1_scores),\n",
    "    'F1-average': np.mean(f1_scores),\n",
    "    'Accuracy-average': np.mean(accuracy_scores)\n",
    "}\n",
    "# Get Classification Report and Confusion Matrix only of last Fold\n",
    "print(classification_report(y_val, y_pred_val))\n",
    "print(confusion_matrix(y_val, y_pred_val))\n",
    "print(foldScores['RForest'])"
   ]
  },
  {
   "cell_type": "markdown",
   "metadata": {},
   "source": [
    "- Results Random Forest - Cats Only\n",
    "\n",
    "Presenting the same issues as the Decision Tree model, we can take the same conclusions in Random Forest. This time, however we would rather take on the more complex model as the increase from 41% to 48% in the f1-score for the minority class is much appreciated and surely adds more vlaue to the model, especially because it was precisely here that the Decision Tree failed the most.\n",
    "\n",
    "Also the fact that that this metric increased also resulted on a overall better model, with considerably higher values on all metrics."
   ]
  },
  {
   "cell_type": "markdown",
   "metadata": {},
   "source": [
    "### Bayes"
   ]
  },
  {
   "cell_type": "code",
   "execution_count": 28,
   "metadata": {},
   "outputs": [
    {
     "name": "stdout",
     "output_type": "stream",
     "text": [
      "Starting Bayes # 1.\n",
      "Starting Bayes # 2.\n",
      "Starting Bayes # 3.\n",
      "Starting Bayes # 4.\n",
      "Starting Bayes # 5.\n",
      "              precision    recall  f1-score   support\n",
      "\n",
      "       False       0.30      0.64      0.41       301\n",
      "        True       0.82      0.53      0.65       947\n",
      "\n",
      "    accuracy                           0.56      1248\n",
      "   macro avg       0.56      0.59      0.53      1248\n",
      "weighted avg       0.70      0.56      0.59      1248\n",
      "\n",
      "[[193 108]\n",
      " [443 504]]\n",
      "{'F1-deviation': 0.03360313681441668, 'F1-average': 0.5827289064830644, 'Accuracy-average': 0.5580128205128205}\n"
     ]
    }
   ],
   "source": [
    "bayes = GaussianNB()\n",
    "param_grid = {}\n",
    "\n",
    "f1_scores = []\n",
    "accuracy_scores = []\n",
    "\n",
    "for fold, (train_index, val_index) in enumerate(kf.split(X)):\n",
    "    X_train, X_val = X.iloc[train_index], X.iloc[val_index]\n",
    "    y_train, y_val = y.iloc[train_index], y.iloc[val_index]\n",
    "    X_train, y_train = smote.fit_resample(X_train, y_train)\n",
    "    \n",
    "    print(f\"Starting Bayes # {fold + 1}.\")\n",
    "    grid_search = GridSearchCV(estimator=bayes, param_grid=param_grid, cv=3, scoring='f1', n_jobs=-1)\n",
    "    grid_search.fit(X_train, y_train)\n",
    "\n",
    "    best_bayes = grid_search.best_estimator_\n",
    "    y_pred_val = best_bayes.predict(X_val)\n",
    "\n",
    "    f1 = f1_score(y_val, y_pred_val, average='weighted')  # Use 'weighted' or adjust based on your data\n",
    "    accuracy = accuracy_score(y_val, y_pred_val)\n",
    "\n",
    "    f1_scores.append(f1)\n",
    "    accuracy_scores.append(accuracy)\n",
    "\n",
    "foldScores['Bayes'] = {\n",
    "    'F1-deviation': np.std(f1_scores),\n",
    "    'F1-average': np.mean(f1_scores),\n",
    "    'Accuracy-average': np.mean(accuracy_scores)\n",
    "}\n",
    "# Get Classification Report and Confusion Matrix only of last Fold\n",
    "print(classification_report(y_val, y_pred_val))\n",
    "print(confusion_matrix(y_val, y_pred_val))\n",
    "print(foldScores['Bayes'])"
   ]
  },
  {
   "cell_type": "markdown",
   "metadata": {},
   "source": [
    "- Results Naive Bayes - Cats Only\n",
    "\n",
    "The results presented by naive bayes came to a good surprise, as the recall of 64% on the minority class is surely something we can use in a subsequent step to try and validade our predictions.\n",
    "\n",
    "Although this isn't the best model for accuracy or even f1 score, we believe it to be the most usefull model to try and predict cats that aren't going to be adopted."
   ]
  },
  {
   "cell_type": "markdown",
   "metadata": {},
   "source": [
    "### KNN"
   ]
  },
  {
   "cell_type": "markdown",
   "metadata": {},
   "source": [
    "For k in Cats Data we opted to pick k = 7 as the decrease in the MSE starts to be less and less from that point onwards"
   ]
  },
  {
   "cell_type": "code",
   "execution_count": 7,
   "metadata": {},
   "outputs": [
    {
     "data": {
      "image/png": "[encoded data removed]",
      "text/plain": [
       "<Figure size 800x600 with 1 Axes>"
      ]
     },
     "metadata": {},
     "output_type": "display_data"
    }
   ],
   "source": [
    "# Range of k values to test\n",
    "k_values = range(1, 21)\n",
    "\n",
    "# List to store cross-validated MSE scores\n",
    "mse_scores = []\n",
    "\n",
    "# Loop through each k value\n",
    "for k in k_values:\n",
    "    knn = KNeighborsRegressor(n_neighbors=k)\n",
    "    # Perform 5-fold cross-validation with negative MSE (to minimize)\n",
    "    neg_mse_scores = cross_val_score(knn, X, y, cv=5, scoring='neg_mean_squared_error')\n",
    "    # Store the mean MSE for the current k\n",
    "    mse_scores.append(-neg_mse_scores.mean())  # Convert to positive MSE\n",
    "\n",
    "# Plot the results\n",
    "plt.figure(figsize=(8, 6))\n",
    "plt.plot(k_values, mse_scores, marker='o', linestyle='--', color='r')\n",
    "plt.xlabel('Number of Neighbors (k)')\n",
    "plt.ylabel('Mean Squared Error (MSE)')\n",
    "plt.title('Elbow Method for Optimal k in KNN Regression')\n",
    "plt.xticks(k_values)\n",
    "plt.grid(True)\n",
    "plt.show()"
   ]
  },
  {
   "cell_type": "code",
   "execution_count": 30,
   "metadata": {},
   "outputs": [
    {
     "name": "stdout",
     "output_type": "stream",
     "text": [
      "Starting KNN # 1.\n",
      "Starting KNN # 2.\n",
      "Starting KNN # 3.\n",
      "Starting KNN # 4.\n",
      "Starting KNN # 5.\n",
      "              precision    recall  f1-score   support\n",
      "\n",
      "       False       0.43      0.22      0.29       301\n",
      "        True       0.78      0.91      0.84       947\n",
      "\n",
      "    accuracy                           0.74      1248\n",
      "   macro avg       0.61      0.56      0.57      1248\n",
      "weighted avg       0.70      0.74      0.71      1248\n",
      "\n",
      "[[ 65 236]\n",
      " [ 86 861]]\n",
      "{'F1-deviation': 0.01023539618979156, 'F1-average': 0.7001434795144684, 'Accuracy-average': 0.7365384615384615}\n"
     ]
    }
   ],
   "source": [
    "# Define hyperparameters to tune\n",
    "param_grid = {\n",
    "    'n_neighbors': [7],  # Number of neighbors\n",
    "    'weights': ['uniform', 'distance'],  # Uniform or distance-based weighting\n",
    "    'metric': ['euclidean', 'manhattan'],  # Distance metric\n",
    "}\n",
    "\n",
    "f1_scores = []\n",
    "accuracy_scores = []\n",
    "\n",
    "for fold, (train_index, val_index) in enumerate(kf.split(X)):\n",
    "    X_train, X_val = X.iloc[train_index], X.iloc[val_index]\n",
    "    y_train, y_val = y.iloc[train_index], y.iloc[val_index]\n",
    "    #X_train, y_train = smote.fit_resample(X_train, y_train)\n",
    "    \n",
    "    print(f\"Starting KNN # {fold + 1}.\")\n",
    "    grid_search = GridSearchCV(estimator=knn, param_grid=param_grid, cv=3, scoring='f1', n_jobs=-1)\n",
    "    grid_search.fit(X_train, y_train)\n",
    "\n",
    "    best_knn = grid_search.best_estimator_\n",
    "    y_pred_val = best_knn.predict(X_val)  # Ensure this gives class labels\n",
    "    y_pred_val = (y_pred_val > 0.5).astype(int)\n",
    "    \n",
    "    f1 = f1_score(y_val, y_pred_val, average='weighted')  # Use 'weighted' or adjust based on your data\n",
    "    accuracy = accuracy_score(y_val, y_pred_val)\n",
    "\n",
    "    f1_scores.append(f1)\n",
    "    accuracy_scores.append(accuracy)\n",
    "\n",
    "foldScores['KNN'] = {\n",
    "    'F1-deviation': np.std(f1_scores),\n",
    "    'F1-average': np.mean(f1_scores),\n",
    "    'Accuracy-average': np.mean(accuracy_scores)\n",
    "}\n",
    "# Get Classification Report and Confusion Matrix only of last Fold\n",
    "print(classification_report(y_val, y_pred_val))\n",
    "print(confusion_matrix(y_val, y_pred_val))\n",
    "print(foldScores['KNN'])"
   ]
  },
  {
   "cell_type": "markdown",
   "metadata": {},
   "source": [
    "- Results KNN - Cats Only\n",
    "\n",
    "On contrast with Naive Bayes, KNN results were sligltly dissapoining because although the accuracy and True class f1 are good, it all goes for nothing when we look at how bad the metrics for the minority class predict. \n",
    "\n",
    "The difference between the results in KNN and Naive Bayes suggests once again that it would be interesting to ensemble using Stacking over these multiple models."
   ]
  },
  {
   "cell_type": "markdown",
   "metadata": {},
   "source": [
    "### Logistic Regression"
   ]
  },
  {
   "cell_type": "code",
   "execution_count": 31,
   "metadata": {},
   "outputs": [
    {
     "name": "stdout",
     "output_type": "stream",
     "text": [
      "Starting Log Regression # 1.\n",
      "Starting Log Regression # 2.\n",
      "Starting Log Regression # 3.\n",
      "Starting Log Regression # 4.\n",
      "Starting Log Regression # 5.\n",
      "              precision    recall  f1-score   support\n",
      "\n",
      "       False       0.38      0.40      0.39       301\n",
      "        True       0.81      0.79      0.80       947\n",
      "\n",
      "    accuracy                           0.70      1248\n",
      "   macro avg       0.59      0.60      0.60      1248\n",
      "weighted avg       0.70      0.70      0.70      1248\n",
      "\n",
      "[[121 180]\n",
      " [196 751]]\n",
      "{'F1-deviation': 0.014644743770871046, 'F1-average': 0.678435955614898, 'Accuracy-average': 0.6746794871794872}\n"
     ]
    }
   ],
   "source": [
    "log_regression = LogisticRegression(random_state=42)\n",
    "param_grid = [\n",
    "    # 'lbfgs' solver supports only 'l2'\n",
    "    {'solver': ['lbfgs'], \n",
    "     'penalty': ['l2'], \n",
    "     'C': [0.1, 1, 10, 100], \n",
    "     'class_weight': [None, 'balanced']},\n",
    "\n",
    "    # 'liblinear' solver supports 'l1' and 'l2'\n",
    "    {'solver': ['liblinear'], \n",
    "     'penalty': ['l1', 'l2'], \n",
    "     'C': [0.1, 1, 10, 100], \n",
    "     'class_weight': [None, 'balanced']},\n",
    "\n",
    "    # 'saga' solver supports 'l1', 'l2', and 'elasticnet'\n",
    "    {'solver': ['saga'], \n",
    "     'penalty': ['l1', 'l2'], \n",
    "     'C': [0.1, 1, 10, 100], \n",
    "     'class_weight': [None, 'balanced']},\n",
    "    \n",
    "    # 'saga' solver with 'elasticnet'\n",
    "    {'solver': ['saga'], \n",
    "     'penalty': ['elasticnet'], \n",
    "     'C': [0.1, 1, 10, 100], \n",
    "     'class_weight': [None, 'balanced'], \n",
    "     'l1_ratio': [0.5, 0.7, 0.9]}  # Elastic net-specific parameter\n",
    "]\n",
    "\n",
    "f1_scores = []\n",
    "accuracy_scores = []\n",
    "\n",
    "for fold, (train_index, val_index) in enumerate(kf.split(X)):\n",
    "    X_train, X_val = X.iloc[train_index], X.iloc[val_index]\n",
    "    y_train, y_val = y.iloc[train_index], y.iloc[val_index]\n",
    "    X_train, y_train = smote.fit_resample(X_train, y_train)\n",
    "    \n",
    "    print(f\"Starting Log Regression # {fold + 1}.\")\n",
    "    grid_search = GridSearchCV(estimator=log_regression, param_grid=param_grid, cv=3, scoring='f1', n_jobs=-1)\n",
    "    grid_search.fit(X_train, y_train)\n",
    "\n",
    "    best_log_regression = grid_search.best_estimator_\n",
    "    y_pred_val = best_log_regression.predict(X_val)\n",
    "\n",
    "    f1 = f1_score(y_val, y_pred_val, average='weighted')  # Use 'weighted' or adjust based on your data\n",
    "    accuracy = accuracy_score(y_val, y_pred_val)\n",
    "\n",
    "    f1_scores.append(f1)\n",
    "    accuracy_scores.append(accuracy)\n",
    "\n",
    "foldScores['LogRegression'] = {\n",
    "    'F1-deviation': np.std(f1_scores),\n",
    "    'F1-average': np.mean(f1_scores),\n",
    "    'Accuracy-average': np.mean(accuracy_scores)\n",
    "}\n",
    "# Get Classification Report and Confusion Matrix only of last Fold\n",
    "print(classification_report(y_val, y_pred_val))\n",
    "print(confusion_matrix(y_val, y_pred_val))\n",
    "print(foldScores['LogRegression'])"
   ]
  },
  {
   "cell_type": "markdown",
   "metadata": {},
   "source": [
    "- Resutls Logistic Regression - Cats only \n",
    "\n",
    "when comparing the results of log regression on cats vs both cats&dogs, the log regression drasticly improves its majority class overfitting, becoming a model with the same problems as the others. Taking in consideration it was the worst of all, the fact that it caugth up with the other is alrady a significant improvement."
   ]
  },
  {
   "cell_type": "code",
   "execution_count": 32,
   "metadata": {},
   "outputs": [
    {
     "data": {
      "text/plain": [
       "{'DTree': {'F1-deviation': 0.010835592324335579,\n",
       "  'F1-average': 0.694524153723722,\n",
       "  'Accuracy-average': 0.6892628205128205},\n",
       " 'RForest': {'F1-deviation': 0.013045664328002329,\n",
       "  'F1-average': 0.7299762758640389,\n",
       "  'Accuracy-average': 0.7334935897435898},\n",
       " 'Bayes': {'F1-deviation': 0.03360313681441668,\n",
       "  'F1-average': 0.5827289064830644,\n",
       "  'Accuracy-average': 0.5580128205128205},\n",
       " 'KNN': {'F1-deviation': 0.01023539618979156,\n",
       "  'F1-average': 0.7001434795144684,\n",
       "  'Accuracy-average': 0.7365384615384615},\n",
       " 'LogRegression': {'F1-deviation': 0.014644743770871046,\n",
       "  'F1-average': 0.678435955614898,\n",
       "  'Accuracy-average': 0.6746794871794872}}"
      ]
     },
     "execution_count": 32,
     "metadata": {},
     "output_type": "execute_result"
    }
   ],
   "source": [
    "foldScores"
   ]
  },
  {
   "cell_type": "markdown",
   "metadata": {},
   "source": [
    "with the average deviation over all models so low we can claim the data fits equaly across the different folds."
   ]
  },
  {
   "cell_type": "markdown",
   "metadata": {},
   "source": [
    "## Dogs - Binary Classification"
   ]
  },
  {
   "cell_type": "code",
   "execution_count": 33,
   "metadata": {},
   "outputs": [],
   "source": [
    "df = pd.read_csv('./Data/BINARY-DOGS.csv', index_col='PetID') # Classifications for generic DF with isPetAdopted as the target\n",
    "smote = SMOTE(sampling_strategy=0.8, random_state=42)\n",
    "\n",
    "kf = KFold(n_splits=5, shuffle=True, random_state=42)\n",
    "X, y = df.drop(columns='isPetAdopted'), df['isPetAdopted']\n",
    "\n",
    "\n",
    "foldScores = {}"
   ]
  },
  {
   "cell_type": "markdown",
   "metadata": {},
   "source": [
    "### Decision Tree"
   ]
  },
  {
   "cell_type": "code",
   "execution_count": 34,
   "metadata": {},
   "outputs": [
    {
     "name": "stdout",
     "output_type": "stream",
     "text": [
      "Starting Decision Tree # 1.\n"
     ]
    },
    {
     "name": "stderr",
     "output_type": "stream",
     "text": [
      "c:\\Users\\duart\\miniconda3\\envs\\churn\\Lib\\site-packages\\numpy\\ma\\core.py:2820: RuntimeWarning: invalid value encountered in cast\n",
      "  _data = np.array(data, dtype=dtype, copy=copy,\n"
     ]
    },
    {
     "name": "stdout",
     "output_type": "stream",
     "text": [
      "Starting Decision Tree # 2.\n"
     ]
    },
    {
     "name": "stderr",
     "output_type": "stream",
     "text": [
      "c:\\Users\\duart\\miniconda3\\envs\\churn\\Lib\\site-packages\\numpy\\ma\\core.py:2820: RuntimeWarning: invalid value encountered in cast\n",
      "  _data = np.array(data, dtype=dtype, copy=copy,\n"
     ]
    },
    {
     "name": "stdout",
     "output_type": "stream",
     "text": [
      "Starting Decision Tree # 3.\n",
      "Starting Decision Tree # 4.\n"
     ]
    },
    {
     "name": "stderr",
     "output_type": "stream",
     "text": [
      "c:\\Users\\duart\\miniconda3\\envs\\churn\\Lib\\site-packages\\numpy\\ma\\core.py:2820: RuntimeWarning: invalid value encountered in cast\n",
      "  _data = np.array(data, dtype=dtype, copy=copy,\n"
     ]
    },
    {
     "name": "stdout",
     "output_type": "stream",
     "text": [
      "Starting Decision Tree # 5.\n",
      "              precision    recall  f1-score   support\n",
      "\n",
      "       False       0.56      0.50      0.53       438\n",
      "        True       0.80      0.84      0.82      1057\n",
      "\n",
      "    accuracy                           0.74      1495\n",
      "   macro avg       0.68      0.67      0.67      1495\n",
      "weighted avg       0.73      0.74      0.73      1495\n",
      "\n",
      "[[217 221]\n",
      " [168 889]]\n",
      "{'F1-deviation': 0.011203405566660085, 'F1-average': 0.7223658927342644, 'Accuracy-average': 0.7212421976999981}\n"
     ]
    }
   ],
   "source": [
    "dtree = tree.DecisionTreeClassifier(random_state=42)\n",
    "\n",
    "dtree_param_grid = {\n",
    "    'max_depth': [3,5,10,15],\n",
    "    'min_samples_split': [2, 5, 10],\n",
    "    'min_samples_leaf': [1, 2, 4],\n",
    "    'criterion': ['gini', 'entropy'],\n",
    "    'max_features': [None, 'sqrt', 'log2']\n",
    "}\n",
    "\n",
    "f1_scores = []\n",
    "accuracy_scores = []\n",
    "\n",
    "for fold, (train_index, val_index) in enumerate(kf.split(X)):\n",
    "    X_train, X_val = X.iloc[train_index], X.iloc[val_index]\n",
    "    y_train, y_val = y.iloc[train_index], y.iloc[val_index]\n",
    "    X_train, y_train = smote.fit_resample(X_train, y_train)\n",
    "    \n",
    "    print(f\"Starting Decision Tree # {fold + 1}.\")\n",
    "    grid_search = GridSearchCV(estimator=dtree, param_grid=dtree_param_grid, cv=3, scoring='f1', n_jobs=-1)\n",
    "    grid_search.fit(X_train, y_train)\n",
    "\n",
    "    best_dtree = grid_search.best_estimator_\n",
    "    y_pred_val = best_dtree.predict(X_val)\n",
    "\n",
    "    f1 = f1_score(y_val, y_pred_val, average='weighted')  # Use 'weighted' or adjust based on your data\n",
    "    accuracy = accuracy_score(y_val, y_pred_val)\n",
    "\n",
    "    f1_scores.append(f1)\n",
    "    accuracy_scores.append(accuracy)\n",
    "\n",
    "foldScores['DTree'] = {\n",
    "    'F1-deviation': np.std(f1_scores),\n",
    "    'F1-average': np.mean(f1_scores),\n",
    "    'Accuracy-average': np.mean(accuracy_scores)\n",
    "}\n",
    "# Get Classification Report and Confusion Matrix only of last Fold\n",
    "print(classification_report(y_val, y_pred_val))\n",
    "print(confusion_matrix(y_val, y_pred_val))\n",
    "print(foldScores['DTree'])"
   ]
  },
  {
   "cell_type": "markdown",
   "metadata": {},
   "source": [
    "### Random Forest"
   ]
  },
  {
   "cell_type": "code",
   "execution_count": null,
   "metadata": {},
   "outputs": [],
   "source": [
    "rforest = RandomForestClassifier(random_state=42)\n",
    "\n",
    "param_grid = {\n",
    "    'max_depth': [3,5,10,15],\n",
    "    'min_samples_split': [2, 5, 10],\n",
    "    'min_samples_leaf': [1, 2, 4],\n",
    "    'criterion': ['gini', 'entropy'],\n",
    "    'max_features': [None, 'sqrt', 'log2']\n",
    "}\n",
    "\n",
    "f1_scores = []\n",
    "accuracy_scores = []\n",
    "\n",
    "for fold, (train_index, val_index) in enumerate(kf.split(X)):\n",
    "    X_train, X_val = X.iloc[train_index], X.iloc[val_index]\n",
    "    y_train, y_val = y.iloc[train_index], y.iloc[val_index]\n",
    "    X_train, y_train = smote.fit_resample(X_train, y_train)\n",
    "    \n",
    "    print(f\"Starting Decision Tree # {fold + 1}.\")\n",
    "    grid_search = GridSearchCV(estimator=rforest, param_grid=param_grid, cv=3, scoring='f1', n_jobs=-1)\n",
    "    grid_search.fit(X_train, y_train)\n",
    "\n",
    "    best_rforest = grid_search.best_estimator_\n",
    "    y_pred_val = best_rforest.predict(X_val)\n",
    "\n",
    "    f1 = f1_score(y_val, y_pred_val, average='weighted')  # Use 'weighted' or adjust based on your data\n",
    "    accuracy = accuracy_score(y_val, y_pred_val)\n",
    "\n",
    "    f1_scores.append(f1)\n",
    "    accuracy_scores.append(accuracy)\n",
    "\n",
    "foldScores['RForest'] = {\n",
    "    'F1-deviation': np.std(f1_scores),\n",
    "    'F1-average': np.mean(f1_scores),\n",
    "    'Accuracy-average': np.mean(accuracy_scores)\n",
    "}\n",
    "# Get Classification Report and Confusion Matrix only of last Fold\n",
    "print(classification_report(y_val, y_pred_val))\n",
    "print(confusion_matrix(y_val, y_pred_val))"
   ]
  },
  {
   "cell_type": "markdown",
   "metadata": {},
   "source": [
    "### Bayes"
   ]
  },
  {
   "cell_type": "code",
   "execution_count": null,
   "metadata": {},
   "outputs": [],
   "source": [
    "bayes = GaussianNB()\n",
    "param_grid = {}\n",
    "\n",
    "f1_scores = []\n",
    "accuracy_scores = []\n",
    "\n",
    "for fold, (train_index, val_index) in enumerate(kf.split(X)):\n",
    "    X_train, X_val = X.iloc[train_index], X.iloc[val_index]\n",
    "    y_train, y_val = y.iloc[train_index], y.iloc[val_index]\n",
    "    X_train, y_train = smote.fit_resample(X_train, y_train)\n",
    "    \n",
    "    print(f\"Starting Bayes # {fold + 1}.\")\n",
    "    grid_search = GridSearchCV(estimator=bayes, param_grid=param_grid, cv=3, scoring='f1', n_jobs=-1)\n",
    "    grid_search.fit(X_train, y_train)\n",
    "\n",
    "    best_bayes = grid_search.best_estimator_\n",
    "    y_pred_val = best_bayes.predict(X_val)\n",
    "\n",
    "    f1 = f1_score(y_val, y_pred_val, average='weighted')  # Use 'weighted' or adjust based on your data\n",
    "    accuracy = accuracy_score(y_val, y_pred_val)\n",
    "\n",
    "    f1_scores.append(f1)\n",
    "    accuracy_scores.append(accuracy)\n",
    "\n",
    "foldScores['Bayes'] = {\n",
    "    'F1-deviation': np.std(f1_scores),\n",
    "    'F1-average': np.mean(f1_scores),\n",
    "    'Accuracy-average': np.mean(accuracy_scores)\n",
    "}\n",
    "# Get Classification Report and Confusion Matrix only of last Fold\n",
    "print(classification_report(y_val, y_pred_val))\n",
    "print(confusion_matrix(y_val, y_pred_val))"
   ]
  },
  {
   "cell_type": "markdown",
   "metadata": {},
   "source": [
    "### KNN"
   ]
  },
  {
   "cell_type": "code",
   "execution_count": 4,
   "metadata": {},
   "outputs": [
    {
     "data": {
      "image/png": "[encoded data removed]",
      "text/plain": [
       "<Figure size 800x600 with 1 Axes>"
      ]
     },
     "metadata": {},
     "output_type": "display_data"
    }
   ],
   "source": [
    "# Range of k values to test\n",
    "k_values = range(1, 21)\n",
    "\n",
    "# List to store cross-validated MSE scores\n",
    "mse_scores = []\n",
    "\n",
    "# Loop through each k value\n",
    "for k in k_values:\n",
    "    knn = KNeighborsRegressor(n_neighbors=k)\n",
    "    # Perform 5-fold cross-validation with negative MSE (to minimize)\n",
    "    neg_mse_scores = cross_val_score(knn, X, y, cv=5, scoring='neg_mean_squared_error')\n",
    "    # Store the mean MSE for the current k\n",
    "    mse_scores.append(-neg_mse_scores.mean())  # Convert to positive MSE\n",
    "\n",
    "# Plot the results\n",
    "plt.figure(figsize=(8, 6))\n",
    "plt.plot(k_values, mse_scores, marker='o', linestyle='--', color='r')\n",
    "plt.xlabel('Number of Neighbors (k)')\n",
    "plt.ylabel('Mean Squared Error (MSE)')\n",
    "plt.title('Elbow Method for Optimal k in KNN Regression')\n",
    "plt.xticks(k_values)\n",
    "plt.grid(True)\n",
    "plt.show()"
   ]
  },
  {
   "cell_type": "code",
   "execution_count": 21,
   "metadata": {},
   "outputs": [
    {
     "name": "stdout",
     "output_type": "stream",
     "text": [
      "Starting KNN # 1.\n",
      "Starting KNN # 2.\n",
      "Starting KNN # 3.\n",
      "Starting KNN # 4.\n",
      "Starting KNN # 5.\n",
      "              precision    recall  f1-score   support\n",
      "\n",
      "       False       0.43      0.50      0.47       301\n",
      "        True       0.83      0.79      0.81       947\n",
      "\n",
      "    accuracy                           0.72      1248\n",
      "   macro avg       0.63      0.65      0.64      1248\n",
      "weighted avg       0.74      0.72      0.73      1248\n",
      "\n",
      "[[152 149]\n",
      " [199 748]]\n"
     ]
    }
   ],
   "source": [
    "knn = KNeighborsClassifier()\n",
    "# Define hyperparameters to tune\n",
    "param_grid = {\n",
    "    'n_neighbors': [11],  # Number of neighbors\n",
    "    'weights': ['uniform', 'distance'],  # Uniform or distance-based weighting\n",
    "    'metric': ['euclidean', 'manhattan'],  # Distance metric\n",
    "}\n",
    "\n",
    "f1_scores = []\n",
    "accuracy_scores = []\n",
    "\n",
    "for fold, (train_index, val_index) in enumerate(kf.split(X)):\n",
    "    X_train, X_val = X.iloc[train_index], X.iloc[val_index]\n",
    "    y_train, y_val = y.iloc[train_index], y.iloc[val_index]\n",
    "    X_train, y_train = smote.fit_resample(X_train, y_train)\n",
    "    \n",
    "    print(f\"Starting KNN # {fold + 1}.\")\n",
    "    grid_search = GridSearchCV(estimator=knn, param_grid=param_grid, cv=3, scoring='f1', n_jobs=-1)\n",
    "    grid_search.fit(X_train, y_train)\n",
    "\n",
    "    best_knn = grid_search.best_estimator_\n",
    "    y_pred_val = best_knn.predict(X_val)\n",
    "\n",
    "    f1 = f1_score(y_val, y_pred_val, average='weighted')  # Use 'weighted' or adjust based on your data\n",
    "    accuracy = accuracy_score(y_val, y_pred_val)\n",
    "\n",
    "    f1_scores.append(f1)\n",
    "    accuracy_scores.append(accuracy)\n",
    "\n",
    "foldScores['KNN'] = {\n",
    "    'F1-deviation': np.std(f1_scores),\n",
    "    'F1-average': np.mean(f1_scores),\n",
    "    'Accuracy-average': np.mean(accuracy_scores)\n",
    "}\n",
    "# Get Classification Report and Confusion Matrix only of last Fold\n",
    "print(classification_report(y_val, y_pred_val))\n",
    "print(confusion_matrix(y_val, y_pred_val))"
   ]
  },
  {
   "cell_type": "markdown",
   "metadata": {},
   "source": [
    "Sliughtly worse results then with all animals."
   ]
  },
  {
   "cell_type": "markdown",
   "metadata": {},
   "source": [
    "### Logistic Regression"
   ]
  },
  {
   "cell_type": "code",
   "execution_count": 35,
   "metadata": {},
   "outputs": [
    {
     "name": "stdout",
     "output_type": "stream",
     "text": [
      "Starting Log Regression # 1.\n"
     ]
    },
    {
     "name": "stderr",
     "output_type": "stream",
     "text": [
      "c:\\Users\\duart\\miniconda3\\envs\\churn\\Lib\\site-packages\\sklearn\\linear_model\\_logistic.py:469: ConvergenceWarning: lbfgs failed to converge (status=1):\n",
      "STOP: TOTAL NO. of ITERATIONS REACHED LIMIT.\n",
      "\n",
      "Increase the number of iterations (max_iter) or scale the data as shown in:\n",
      "    https://scikit-learn.org/stable/modules/preprocessing.html\n",
      "Please also refer to the documentation for alternative solver options:\n",
      "    https://scikit-learn.org/stable/modules/linear_model.html#logistic-regression\n",
      "  n_iter_i = _check_optimize_result(\n"
     ]
    },
    {
     "name": "stdout",
     "output_type": "stream",
     "text": [
      "Starting Log Regression # 2.\n",
      "Starting Log Regression # 3.\n",
      "Starting Log Regression # 4.\n",
      "Starting Log Regression # 5.\n",
      "              precision    recall  f1-score   support\n",
      "\n",
      "       False       0.46      0.47      0.47       438\n",
      "        True       0.78      0.78      0.78      1057\n",
      "\n",
      "    accuracy                           0.69      1495\n",
      "   macro avg       0.62      0.62      0.62      1495\n",
      "weighted avg       0.69      0.69      0.69      1495\n",
      "\n",
      "[[205 233]\n",
      " [237 820]]\n"
     ]
    }
   ],
   "source": [
    "log_regression = LogisticRegression(random_state=42)\n",
    "param_grid = [\n",
    "    # 'lbfgs' solver supports only 'l2'\n",
    "    {'solver': ['lbfgs'], \n",
    "     'penalty': ['l2'], \n",
    "     'C': [0.1, 1, 10, 100], \n",
    "     'class_weight': [None, 'balanced']},\n",
    "\n",
    "    # 'liblinear' solver supports 'l1' and 'l2'\n",
    "    {'solver': ['liblinear'], \n",
    "     'penalty': ['l1', 'l2'], \n",
    "     'C': [0.1, 1, 10, 100], \n",
    "     'class_weight': [None, 'balanced']},\n",
    "\n",
    "    # 'saga' solver supports 'l1', 'l2', and 'elasticnet'\n",
    "    {'solver': ['saga'], \n",
    "     'penalty': ['l1', 'l2'], \n",
    "     'C': [0.1, 1, 10, 100], \n",
    "     'class_weight': [None, 'balanced']},\n",
    "    \n",
    "    # 'saga' solver with 'elasticnet'\n",
    "    {'solver': ['saga'], \n",
    "     'penalty': ['elasticnet'], \n",
    "     'C': [0.1, 1, 10, 100], \n",
    "     'class_weight': [None, 'balanced'], \n",
    "     'l1_ratio': [0.5, 0.7, 0.9]}  # Elastic net-specific parameter\n",
    "]\n",
    "\n",
    "f1_scores = []\n",
    "accuracy_scores = []\n",
    "\n",
    "for fold, (train_index, val_index) in enumerate(kf.split(X)):\n",
    "    X_train, X_val = X.iloc[train_index], X.iloc[val_index]\n",
    "    y_train, y_val = y.iloc[train_index], y.iloc[val_index]\n",
    "    X_train, y_train = smote.fit_resample(X_train, y_train)\n",
    "    \n",
    "    print(f\"Starting Log Regression # {fold + 1}.\")\n",
    "    grid_search = GridSearchCV(estimator=log_regression, param_grid=param_grid, cv=3, scoring='f1', n_jobs=-1)\n",
    "    grid_search.fit(X_train, y_train)\n",
    "\n",
    "    best_log_regression = grid_search.best_estimator_\n",
    "    y_pred_val = best_log_regression.predict(X_val)\n",
    "\n",
    "    f1 = f1_score(y_val, y_pred_val, average='weighted')  # Use 'weighted' or adjust based on your data\n",
    "    accuracy = accuracy_score(y_val, y_pred_val)\n",
    "\n",
    "    f1_scores.append(f1)\n",
    "    accuracy_scores.append(accuracy)\n",
    "\n",
    "foldScores['LogRegression'] = {\n",
    "    'F1-deviation': np.std(f1_scores),\n",
    "    'F1-average': np.mean(f1_scores),\n",
    "    'Accuracy-average': np.mean(accuracy_scores)\n",
    "}\n",
    "# Get Classification Report and Confusion Matrix only of last Fold\n",
    "print(classification_report(y_val, y_pred_val))\n",
    "print(confusion_matrix(y_val, y_pred_val))\n",
    "print(foldScores['LogRegression'])"
   ]
  },
  {
   "cell_type": "markdown",
   "metadata": {},
   "source": [
    "fair results, the consistency on the precision and recall are ok. Even with not so good scores for the minority class log regression isn't showing the worst results ever."
   ]
  },
  {
   "cell_type": "code",
   "execution_count": 36,
   "metadata": {},
   "outputs": [
    {
     "data": {
      "text/plain": [
       "{'DTree': {'F1-deviation': 0.011203405566660085,\n",
       "  'F1-average': 0.7223658927342644,\n",
       "  'Accuracy-average': 0.7212421976999981},\n",
       " 'LogRegression': {'F1-deviation': 0.007194568184802757,\n",
       "  'F1-average': 0.6805826577354176,\n",
       "  'Accuracy-average': 0.6789710800708242}}"
      ]
     },
     "execution_count": 36,
     "metadata": {},
     "output_type": "execute_result"
    }
   ],
   "source": [
    "foldScores"
   ]
  }
 ],
 "metadata": {
  "kernelspec": {
   "display_name": "churn",
   "language": "python",
   "name": "python3"
  },
  "language_info": {
   "codemirror_mode": {
    "name": "ipython",
    "version": 3
   },
   "file_extension": ".py",
   "mimetype": "text/x-python",
   "name": "python",
   "nbconvert_exporter": "python",
   "pygments_lexer": "ipython3",
   "version": "3.12.4"
  }
 },
 "nbformat": 4,
 "nbformat_minor": 2
}
