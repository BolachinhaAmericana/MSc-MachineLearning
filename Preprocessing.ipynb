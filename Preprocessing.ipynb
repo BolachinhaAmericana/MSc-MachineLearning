{
 "cells": [
  {
   "cell_type": "markdown",
   "metadata": {},
   "source": [
    "# Feature Selection"
   ]
  },
  {
   "cell_type": "code",
   "execution_count": null,
   "metadata": {},
   "outputs": [],
   "source": []
  },
  {
   "cell_type": "markdown",
   "metadata": {},
   "source": [
    "# Preprocessing"
   ]
  },
  {
   "cell_type": "code",
   "execution_count": 1,
   "metadata": {},
   "outputs": [],
   "source": [
    "# 1. split the data in 2 dataframes, one for cats and one for dogs.\n",
    "def feature_filter(row, value):\n",
    "    \"\"\"  \n",
    "    feature_filter: Checks a row in a df and returns it target_feature = value\n",
    "    \"\"\"\n",
    "    if row == value:\n",
    "        return value\n",
    "    else:\n",
    "        return None\n",
    "\n",
    "def Breed2_Cleaner(row): # if both breeds are the same, it doesn't have a second breed.\n",
    "    if row['Breed1'] == row['Breed2']:\n",
    "        row['Breed2'] = 0\n",
    "    return row\n",
    "\n",
    "def set_isPureBreed(row): # if breed is mixed brees, is not pure\n",
    "    if row['Breed2'] != 0:\n",
    "        return False\n",
    "    elif row['Breed1'] == 307: # code for mixed breed\n",
    "        return False\n",
    "    else: return True\n",
    "\n",
    "def set_isPetAdopted(row):\n",
    "    return not row['AdoptionSpeed'] == 4"
   ]
  },
  {
   "cell_type": "code",
   "execution_count": 2,
   "metadata": {},
   "outputs": [],
   "source": [
    "import pandas as pd\n",
    "\n",
    "raw_df = pd.read_csv(\"./Data/PetFinder_dataset.csv\", index_col='PetID')\n",
    "df_dogs = raw_df.copy()\n",
    "df_cats = raw_df.copy()\n",
    "\n",
    "df_dogs['Type'] = df_dogs['Type'].apply(lambda row: feature_filter(row, 1))\n",
    "df_cats['Type'] = df_cats['Type'].apply(lambda row: feature_filter(row, 2))\n",
    "\n",
    "df_dogs = df_dogs.dropna()\n",
    "df_cats = df_cats.dropna()\n",
    "\n",
    "df_cats = df_cats.apply(Breed2_Cleaner, axis=1)\n",
    "df_cats['isPureBreed'] = df_cats.apply(set_isPureBreed, axis=1)\n",
    "\n",
    "df_dogs = df_dogs.apply(Breed2_Cleaner, axis=1)\n",
    "df_dogs['isPureBreed'] = df_dogs.apply(set_isPureBreed, axis=1)\n",
    "\n",
    "df_cats['isPetAdopted'] = df_cats.apply(set_isPetAdopted, axis=1)\n",
    "df_dogs['isPetAdopted'] = df_dogs.apply(set_isPetAdopted, axis=1)\n",
    "\n",
    "df = pd.concat([df_cats, df_dogs])\n",
    "\n",
    "df = df.drop(columns=['Name', 'RescuerID', 'Description'])\n",
    "df_cats = df_cats.drop(columns=['Name', 'RescuerID', 'Description'])\n",
    "df_dogs = df_dogs.drop(columns=['Name', 'RescuerID', 'Description'])"
   ]
  },
  {
   "cell_type": "code",
   "execution_count": 3,
   "metadata": {},
   "outputs": [],
   "source": [
    "df_isy = df.drop(columns='AdoptionSpeed')\n",
    "df_dogs_isy = df_dogs.drop(columns='AdoptionSpeed')\n",
    "df_cats_isy = df_cats.drop(columns='AdoptionSpeed')\n",
    "\n",
    "df_y = df.drop(columns='isPetAdopted')\n",
    "df_dogs_y = df_dogs.drop(columns='isPetAdopted')\n",
    "df_cats_y = df_cats.drop(columns='isPetAdopted')\n",
    "\n",
    "df_isy.to_csv('./Data/BINARY-DF.csv')\n",
    "df_dogs_isy.to_csv('./Data/BINARY-DOGS.csv')\n",
    "df_cats_isy.to_csv('./Data/BINARY-CATS.csv')\n",
    "\n",
    "df_y.to_csv('./Data/DF.csv')\n",
    "df_dogs_y.to_csv('./Data/DOGS.csv')\n",
    "df_cats_y.to_csv('./Data/CATS.csv')"
   ]
  },
  {
   "cell_type": "code",
   "execution_count": 4,
   "metadata": {},
   "outputs": [
    {
     "data": {
      "text/plain": [
       "Index(['Type', 'Age', 'Breed1', 'Breed2', 'Gender', 'Color1', 'Color2',\n",
       "       'Color3', 'MaturitySize', 'FurLength', 'Vaccinated', 'Dewormed',\n",
       "       'Sterilized', 'Health', 'Quantity', 'Fee', 'State', 'VideoAmt',\n",
       "       'PhotoAmt', 'AdoptionSpeed', 'isPureBreed'],\n",
       "      dtype='object')"
      ]
     },
     "execution_count": 4,
     "metadata": {},
     "output_type": "execute_result"
    }
   ],
   "source": [
    "df_y.columns"
   ]
  }
 ],
 "metadata": {
  "kernelspec": {
   "display_name": "churn",
   "language": "python",
   "name": "python3"
  },
  "language_info": {
   "codemirror_mode": {
    "name": "ipython",
    "version": 3
   },
   "file_extension": ".py",
   "mimetype": "text/x-python",
   "name": "python",
   "nbconvert_exporter": "python",
   "pygments_lexer": "ipython3",
   "version": "3.12.4"
  }
 },
 "nbformat": 4,
 "nbformat_minor": 2
}
