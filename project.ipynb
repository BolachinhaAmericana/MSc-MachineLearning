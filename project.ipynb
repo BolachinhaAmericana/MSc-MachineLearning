{
 "cells": [
  {
   "cell_type": "code",
   "execution_count": 1,
   "metadata": {},
   "outputs": [],
   "source": [
    "import pandas as pd\n",
    "import numpy as np\n",
    "import matplotlib.pyplot as plt\n",
    "import seaborn as sns"
   ]
  },
  {
   "cell_type": "code",
   "execution_count": 2,
   "metadata": {},
   "outputs": [
    {
     "name": "stdout",
     "output_type": "stream",
     "text": [
      "True\n"
     ]
    }
   ],
   "source": [
    "raw_df = pd.read_csv(\"./Data/PetFinder_dataset.csv\")\n",
    "print(raw_df.PetID.is_unique)\n",
    "raw_df = pd.read_csv(\"./Data/PetFinder_dataset.csv\", index_col='PetID')"
   ]
  },
  {
   "cell_type": "markdown",
   "metadata": {},
   "source": [
    "## Working with Data"
   ]
  },
  {
   "cell_type": "markdown",
   "metadata": {},
   "source": [
    "#### Data visualization"
   ]
  },
  {
   "cell_type": "code",
   "execution_count": 3,
   "metadata": {},
   "outputs": [
    {
     "data": {
      "text/plain": [
       "Index(['Type', 'Name', 'Age', 'Breed1', 'Breed2', 'Gender', 'Color1', 'Color2',\n",
       "       'Color3', 'MaturitySize', 'FurLength', 'Vaccinated', 'Dewormed',\n",
       "       'Sterilized', 'Health', 'Quantity', 'Fee', 'State', 'RescuerID',\n",
       "       'VideoAmt', 'Description', 'PhotoAmt', 'AdoptionSpeed'],\n",
       "      dtype='object')"
      ]
     },
     "execution_count": 3,
     "metadata": {},
     "output_type": "execute_result"
    }
   ],
   "source": [
    "raw_df.columns"
   ]
  },
  {
   "cell_type": "code",
   "execution_count": 4,
   "metadata": {},
   "outputs": [
    {
     "data": {
      "text/html": [
       "<div>\n",
       "<style scoped>\n",
       "    .dataframe tbody tr th:only-of-type {\n",
       "        vertical-align: middle;\n",
       "    }\n",
       "\n",
       "    .dataframe tbody tr th {\n",
       "        vertical-align: top;\n",
       "    }\n",
       "\n",
       "    .dataframe thead th {\n",
       "        text-align: right;\n",
       "    }\n",
       "</style>\n",
       "<table border=\"1\" class=\"dataframe\">\n",
       "  <thead>\n",
       "    <tr style=\"text-align: right;\">\n",
       "      <th></th>\n",
       "      <th>Type</th>\n",
       "      <th>Name</th>\n",
       "      <th>Age</th>\n",
       "      <th>Breed1</th>\n",
       "      <th>Breed2</th>\n",
       "      <th>Gender</th>\n",
       "      <th>Color1</th>\n",
       "      <th>Color2</th>\n",
       "      <th>Color3</th>\n",
       "      <th>MaturitySize</th>\n",
       "      <th>...</th>\n",
       "      <th>Dewormed</th>\n",
       "      <th>Sterilized</th>\n",
       "      <th>Health</th>\n",
       "      <th>Quantity</th>\n",
       "      <th>Fee</th>\n",
       "      <th>State</th>\n",
       "      <th>RescuerID</th>\n",
       "      <th>VideoAmt</th>\n",
       "      <th>PhotoAmt</th>\n",
       "      <th>AdoptionSpeed</th>\n",
       "    </tr>\n",
       "    <tr>\n",
       "      <th>PetID</th>\n",
       "      <th></th>\n",
       "      <th></th>\n",
       "      <th></th>\n",
       "      <th></th>\n",
       "      <th></th>\n",
       "      <th></th>\n",
       "      <th></th>\n",
       "      <th></th>\n",
       "      <th></th>\n",
       "      <th></th>\n",
       "      <th></th>\n",
       "      <th></th>\n",
       "      <th></th>\n",
       "      <th></th>\n",
       "      <th></th>\n",
       "      <th></th>\n",
       "      <th></th>\n",
       "      <th></th>\n",
       "      <th></th>\n",
       "      <th></th>\n",
       "      <th></th>\n",
       "    </tr>\n",
       "  </thead>\n",
       "  <tbody>\n",
       "    <tr>\n",
       "      <th>86e1089a3</th>\n",
       "      <td>2</td>\n",
       "      <td>Nibble</td>\n",
       "      <td>3</td>\n",
       "      <td>299</td>\n",
       "      <td>0</td>\n",
       "      <td>1</td>\n",
       "      <td>1</td>\n",
       "      <td>7</td>\n",
       "      <td>0</td>\n",
       "      <td>1</td>\n",
       "      <td>...</td>\n",
       "      <td>2</td>\n",
       "      <td>2</td>\n",
       "      <td>1</td>\n",
       "      <td>1</td>\n",
       "      <td>100</td>\n",
       "      <td>41326</td>\n",
       "      <td>8480853f516546f6cf33aa88cd76c379</td>\n",
       "      <td>0</td>\n",
       "      <td>1.0</td>\n",
       "      <td>2</td>\n",
       "    </tr>\n",
       "    <tr>\n",
       "      <th>6296e909a</th>\n",
       "      <td>2</td>\n",
       "      <td>No Name Yet</td>\n",
       "      <td>1</td>\n",
       "      <td>265</td>\n",
       "      <td>0</td>\n",
       "      <td>1</td>\n",
       "      <td>1</td>\n",
       "      <td>2</td>\n",
       "      <td>0</td>\n",
       "      <td>2</td>\n",
       "      <td>...</td>\n",
       "      <td>3</td>\n",
       "      <td>3</td>\n",
       "      <td>1</td>\n",
       "      <td>1</td>\n",
       "      <td>0</td>\n",
       "      <td>41401</td>\n",
       "      <td>3082c7125d8fb66f7dd4bff4192c8b14</td>\n",
       "      <td>0</td>\n",
       "      <td>2.0</td>\n",
       "      <td>0</td>\n",
       "    </tr>\n",
       "    <tr>\n",
       "      <th>3422e4906</th>\n",
       "      <td>1</td>\n",
       "      <td>Brisco</td>\n",
       "      <td>1</td>\n",
       "      <td>307</td>\n",
       "      <td>0</td>\n",
       "      <td>1</td>\n",
       "      <td>2</td>\n",
       "      <td>7</td>\n",
       "      <td>0</td>\n",
       "      <td>2</td>\n",
       "      <td>...</td>\n",
       "      <td>1</td>\n",
       "      <td>2</td>\n",
       "      <td>1</td>\n",
       "      <td>1</td>\n",
       "      <td>0</td>\n",
       "      <td>41326</td>\n",
       "      <td>fa90fa5b1ee11c86938398b60abc32cb</td>\n",
       "      <td>0</td>\n",
       "      <td>7.0</td>\n",
       "      <td>3</td>\n",
       "    </tr>\n",
       "    <tr>\n",
       "      <th>5842f1ff5</th>\n",
       "      <td>1</td>\n",
       "      <td>Miko</td>\n",
       "      <td>4</td>\n",
       "      <td>307</td>\n",
       "      <td>0</td>\n",
       "      <td>2</td>\n",
       "      <td>1</td>\n",
       "      <td>2</td>\n",
       "      <td>0</td>\n",
       "      <td>2</td>\n",
       "      <td>...</td>\n",
       "      <td>1</td>\n",
       "      <td>2</td>\n",
       "      <td>1</td>\n",
       "      <td>1</td>\n",
       "      <td>150</td>\n",
       "      <td>41401</td>\n",
       "      <td>9238e4f44c71a75282e62f7136c6b240</td>\n",
       "      <td>0</td>\n",
       "      <td>8.0</td>\n",
       "      <td>2</td>\n",
       "    </tr>\n",
       "    <tr>\n",
       "      <th>850a43f90</th>\n",
       "      <td>1</td>\n",
       "      <td>Hunter</td>\n",
       "      <td>1</td>\n",
       "      <td>307</td>\n",
       "      <td>0</td>\n",
       "      <td>1</td>\n",
       "      <td>1</td>\n",
       "      <td>0</td>\n",
       "      <td>0</td>\n",
       "      <td>2</td>\n",
       "      <td>...</td>\n",
       "      <td>2</td>\n",
       "      <td>2</td>\n",
       "      <td>1</td>\n",
       "      <td>1</td>\n",
       "      <td>0</td>\n",
       "      <td>41326</td>\n",
       "      <td>95481e953f8aed9ec3d16fc4509537e8</td>\n",
       "      <td>0</td>\n",
       "      <td>3.0</td>\n",
       "      <td>2</td>\n",
       "    </tr>\n",
       "  </tbody>\n",
       "</table>\n",
       "<p>5 rows × 22 columns</p>\n",
       "</div>"
      ],
      "text/plain": [
       "           Type         Name  Age  Breed1  Breed2  Gender  Color1  Color2  \\\n",
       "PetID                                                                       \n",
       "86e1089a3     2       Nibble    3     299       0       1       1       7   \n",
       "6296e909a     2  No Name Yet    1     265       0       1       1       2   \n",
       "3422e4906     1       Brisco    1     307       0       1       2       7   \n",
       "5842f1ff5     1         Miko    4     307       0       2       1       2   \n",
       "850a43f90     1       Hunter    1     307       0       1       1       0   \n",
       "\n",
       "           Color3  MaturitySize  ...  Dewormed  Sterilized  Health  Quantity  \\\n",
       "PetID                            ...                                           \n",
       "86e1089a3       0             1  ...         2           2       1         1   \n",
       "6296e909a       0             2  ...         3           3       1         1   \n",
       "3422e4906       0             2  ...         1           2       1         1   \n",
       "5842f1ff5       0             2  ...         1           2       1         1   \n",
       "850a43f90       0             2  ...         2           2       1         1   \n",
       "\n",
       "           Fee  State                         RescuerID  VideoAmt PhotoAmt  \\\n",
       "PetID                                                                        \n",
       "86e1089a3  100  41326  8480853f516546f6cf33aa88cd76c379         0      1.0   \n",
       "6296e909a    0  41401  3082c7125d8fb66f7dd4bff4192c8b14         0      2.0   \n",
       "3422e4906    0  41326  fa90fa5b1ee11c86938398b60abc32cb         0      7.0   \n",
       "5842f1ff5  150  41401  9238e4f44c71a75282e62f7136c6b240         0      8.0   \n",
       "850a43f90    0  41326  95481e953f8aed9ec3d16fc4509537e8         0      3.0   \n",
       "\n",
       "           AdoptionSpeed  \n",
       "PetID                     \n",
       "86e1089a3              2  \n",
       "6296e909a              0  \n",
       "3422e4906              3  \n",
       "5842f1ff5              2  \n",
       "850a43f90              2  \n",
       "\n",
       "[5 rows x 22 columns]"
      ]
     },
     "execution_count": 4,
     "metadata": {},
     "output_type": "execute_result"
    }
   ],
   "source": [
    "raw_df.drop(columns='Description').head() # hiding Description column for convenience"
   ]
  },
  {
   "cell_type": "code",
   "execution_count": 5,
   "metadata": {},
   "outputs": [
    {
     "name": "stdout",
     "output_type": "stream",
     "text": [
      "<86e1089a3> Nibble is a 3+ month old ball of cuteness. He is energetic and playful. I rescued a couple of cats a few months ago but could not get them neutered in time as the clinic was fully scheduled. The result was this little kitty. I do not have enough space and funds to care for more cats in my household. Looking for responsible people to take over Nibble's care.\n",
      "<6296e909a> I just found it alone yesterday near my apartment. It was shaking so I had to bring it home to provide temporary care.\n",
      "<3422e4906> Their pregnant mother was dumped by her irresponsible owner at the roadside near some shops in Subang Jaya. Gave birth to them at the roadside. They are all healthy and adorable puppies. Already dewormed, vaccinated and ready to go to a home. No tying or caging for long hours as guard dogs. However, it is acceptable to cage or tie for precautionary purposes. Interested to adopt pls call me.\n",
      "<5842f1ff5> Good guard dog, very alert, active, obedience waiting for her good master, plz call or sms for more details if you really get interested, thanks!!\n",
      "<850a43f90> This handsome yet cute boy is up for adoption. He is the most playful pal we've seen in our puppies. He loves to nibble on shoelaces , Chase you at such a young age. Imagine what a cute brat he will be when he grows. We are looking for a loving home for Hunter , one that will take care of him and give him the love that he needs. Please call urgently if you would like to adopt this cutie.\n"
     ]
    }
   ],
   "source": [
    "# Checking Description alone.\n",
    "for PetID, Description in raw_df[['Description']].head().iterrows(): # using iterrows instead of iloc because we need access to the pair PetID: Description  \n",
    "    print(f\"<{PetID}> {Description.values[0]}\")                  # iloc doesn't pair the Index with the data, instead only check the position."
   ]
  },
  {
   "cell_type": "markdown",
   "metadata": {},
   "source": [
    "##### Checking Data Distribution"
   ]
  },
  {
   "cell_type": "code",
   "execution_count": 6,
   "metadata": {},
   "outputs": [
    {
     "data": {
      "text/html": [
       "<div>\n",
       "<style scoped>\n",
       "    .dataframe tbody tr th:only-of-type {\n",
       "        vertical-align: middle;\n",
       "    }\n",
       "\n",
       "    .dataframe tbody tr th {\n",
       "        vertical-align: top;\n",
       "    }\n",
       "\n",
       "    .dataframe thead th {\n",
       "        text-align: right;\n",
       "    }\n",
       "</style>\n",
       "<table border=\"1\" class=\"dataframe\">\n",
       "  <thead>\n",
       "    <tr style=\"text-align: right;\">\n",
       "      <th></th>\n",
       "      <th>Type</th>\n",
       "      <th>Age</th>\n",
       "      <th>Breed1</th>\n",
       "      <th>Breed2</th>\n",
       "      <th>Gender</th>\n",
       "      <th>Color1</th>\n",
       "      <th>Color2</th>\n",
       "      <th>Color3</th>\n",
       "      <th>MaturitySize</th>\n",
       "      <th>FurLength</th>\n",
       "      <th>Vaccinated</th>\n",
       "      <th>Dewormed</th>\n",
       "      <th>Sterilized</th>\n",
       "      <th>Health</th>\n",
       "      <th>Quantity</th>\n",
       "      <th>Fee</th>\n",
       "      <th>State</th>\n",
       "      <th>VideoAmt</th>\n",
       "      <th>PhotoAmt</th>\n",
       "      <th>AdoptionSpeed</th>\n",
       "    </tr>\n",
       "    <tr>\n",
       "      <th>PetID</th>\n",
       "      <th></th>\n",
       "      <th></th>\n",
       "      <th></th>\n",
       "      <th></th>\n",
       "      <th></th>\n",
       "      <th></th>\n",
       "      <th></th>\n",
       "      <th></th>\n",
       "      <th></th>\n",
       "      <th></th>\n",
       "      <th></th>\n",
       "      <th></th>\n",
       "      <th></th>\n",
       "      <th></th>\n",
       "      <th></th>\n",
       "      <th></th>\n",
       "      <th></th>\n",
       "      <th></th>\n",
       "      <th></th>\n",
       "      <th></th>\n",
       "    </tr>\n",
       "  </thead>\n",
       "  <tbody>\n",
       "    <tr>\n",
       "      <th>86e1089a3</th>\n",
       "      <td>2</td>\n",
       "      <td>3</td>\n",
       "      <td>299</td>\n",
       "      <td>0</td>\n",
       "      <td>1</td>\n",
       "      <td>1</td>\n",
       "      <td>7</td>\n",
       "      <td>0</td>\n",
       "      <td>1</td>\n",
       "      <td>1</td>\n",
       "      <td>2</td>\n",
       "      <td>2</td>\n",
       "      <td>2</td>\n",
       "      <td>1</td>\n",
       "      <td>1</td>\n",
       "      <td>100</td>\n",
       "      <td>41326</td>\n",
       "      <td>0</td>\n",
       "      <td>1.0</td>\n",
       "      <td>2</td>\n",
       "    </tr>\n",
       "    <tr>\n",
       "      <th>6296e909a</th>\n",
       "      <td>2</td>\n",
       "      <td>1</td>\n",
       "      <td>265</td>\n",
       "      <td>0</td>\n",
       "      <td>1</td>\n",
       "      <td>1</td>\n",
       "      <td>2</td>\n",
       "      <td>0</td>\n",
       "      <td>2</td>\n",
       "      <td>2</td>\n",
       "      <td>3</td>\n",
       "      <td>3</td>\n",
       "      <td>3</td>\n",
       "      <td>1</td>\n",
       "      <td>1</td>\n",
       "      <td>0</td>\n",
       "      <td>41401</td>\n",
       "      <td>0</td>\n",
       "      <td>2.0</td>\n",
       "      <td>0</td>\n",
       "    </tr>\n",
       "    <tr>\n",
       "      <th>3422e4906</th>\n",
       "      <td>1</td>\n",
       "      <td>1</td>\n",
       "      <td>307</td>\n",
       "      <td>0</td>\n",
       "      <td>1</td>\n",
       "      <td>2</td>\n",
       "      <td>7</td>\n",
       "      <td>0</td>\n",
       "      <td>2</td>\n",
       "      <td>2</td>\n",
       "      <td>1</td>\n",
       "      <td>1</td>\n",
       "      <td>2</td>\n",
       "      <td>1</td>\n",
       "      <td>1</td>\n",
       "      <td>0</td>\n",
       "      <td>41326</td>\n",
       "      <td>0</td>\n",
       "      <td>7.0</td>\n",
       "      <td>3</td>\n",
       "    </tr>\n",
       "    <tr>\n",
       "      <th>5842f1ff5</th>\n",
       "      <td>1</td>\n",
       "      <td>4</td>\n",
       "      <td>307</td>\n",
       "      <td>0</td>\n",
       "      <td>2</td>\n",
       "      <td>1</td>\n",
       "      <td>2</td>\n",
       "      <td>0</td>\n",
       "      <td>2</td>\n",
       "      <td>1</td>\n",
       "      <td>1</td>\n",
       "      <td>1</td>\n",
       "      <td>2</td>\n",
       "      <td>1</td>\n",
       "      <td>1</td>\n",
       "      <td>150</td>\n",
       "      <td>41401</td>\n",
       "      <td>0</td>\n",
       "      <td>8.0</td>\n",
       "      <td>2</td>\n",
       "    </tr>\n",
       "    <tr>\n",
       "      <th>850a43f90</th>\n",
       "      <td>1</td>\n",
       "      <td>1</td>\n",
       "      <td>307</td>\n",
       "      <td>0</td>\n",
       "      <td>1</td>\n",
       "      <td>1</td>\n",
       "      <td>0</td>\n",
       "      <td>0</td>\n",
       "      <td>2</td>\n",
       "      <td>1</td>\n",
       "      <td>2</td>\n",
       "      <td>2</td>\n",
       "      <td>2</td>\n",
       "      <td>1</td>\n",
       "      <td>1</td>\n",
       "      <td>0</td>\n",
       "      <td>41326</td>\n",
       "      <td>0</td>\n",
       "      <td>3.0</td>\n",
       "      <td>2</td>\n",
       "    </tr>\n",
       "  </tbody>\n",
       "</table>\n",
       "</div>"
      ],
      "text/plain": [
       "           Type  Age  Breed1  Breed2  Gender  Color1  Color2  Color3  \\\n",
       "PetID                                                                  \n",
       "86e1089a3     2    3     299       0       1       1       7       0   \n",
       "6296e909a     2    1     265       0       1       1       2       0   \n",
       "3422e4906     1    1     307       0       1       2       7       0   \n",
       "5842f1ff5     1    4     307       0       2       1       2       0   \n",
       "850a43f90     1    1     307       0       1       1       0       0   \n",
       "\n",
       "           MaturitySize  FurLength  Vaccinated  Dewormed  Sterilized  Health  \\\n",
       "PetID                                                                          \n",
       "86e1089a3             1          1           2         2           2       1   \n",
       "6296e909a             2          2           3         3           3       1   \n",
       "3422e4906             2          2           1         1           2       1   \n",
       "5842f1ff5             2          1           1         1           2       1   \n",
       "850a43f90             2          1           2         2           2       1   \n",
       "\n",
       "           Quantity  Fee  State  VideoAmt  PhotoAmt  AdoptionSpeed  \n",
       "PetID                                                               \n",
       "86e1089a3         1  100  41326         0       1.0              2  \n",
       "6296e909a         1    0  41401         0       2.0              0  \n",
       "3422e4906         1    0  41326         0       7.0              3  \n",
       "5842f1ff5         1  150  41401         0       8.0              2  \n",
       "850a43f90         1    0  41326         0       3.0              2  "
      ]
     },
     "execution_count": 6,
     "metadata": {},
     "output_type": "execute_result"
    }
   ],
   "source": [
    "# lets start by dropping columns that are't relevant for this analysis.\n",
    "\n",
    "visual_df = raw_df.drop(columns=['Name', 'RescuerID', 'Description'])\n",
    "visual_df.head()"
   ]
  },
  {
   "cell_type": "code",
   "execution_count": 7,
   "metadata": {},
   "outputs": [
    {
     "name": "stdout",
     "output_type": "stream",
     "text": [
      "Type\n",
      "1    8132\n",
      "2    6861\n",
      "Name: count, dtype: int64\n",
      "Age\n",
      "2      3503\n",
      "1      2304\n",
      "3      1966\n",
      "4      1109\n",
      "12      967\n",
      "       ... \n",
      "69        1\n",
      "74        1\n",
      "81        1\n",
      "44        1\n",
      "100       1\n",
      "Name: count, Length: 106, dtype: int64\n",
      "Breed1\n",
      "307    5927\n",
      "266    3634\n",
      "265    1258\n",
      "299     342\n",
      "264     296\n",
      "       ... \n",
      "176       1\n",
      "214       1\n",
      "125       1\n",
      "123       1\n",
      "81        1\n",
      "Name: count, Length: 176, dtype: int64\n",
      "Breed2\n",
      "0      10762\n",
      "307     1727\n",
      "266      599\n",
      "265      321\n",
      "299      138\n",
      "       ...  \n",
      "104        1\n",
      "36         1\n",
      "17         1\n",
      "257        1\n",
      "279        1\n",
      "Name: count, Length: 135, dtype: int64\n",
      "Gender\n",
      "2    7277\n",
      "1    5536\n",
      "3    2180\n",
      "Name: count, dtype: int64\n",
      "Color1\n",
      "1    7427\n",
      "2    3750\n",
      "3     947\n",
      "5     884\n",
      "6     684\n",
      "7     667\n",
      "4     634\n",
      "Name: count, dtype: int64\n",
      "Color2\n",
      "0    4471\n",
      "7    3438\n",
      "2    3313\n",
      "5    1128\n",
      "6    1063\n",
      "4     870\n",
      "3     710\n",
      "Name: count, dtype: int64\n",
      "Color3\n",
      "0    10604\n",
      "7     3221\n",
      "5      417\n",
      "6      378\n",
      "4      198\n",
      "3      175\n",
      "Name: count, dtype: int64\n",
      "MaturitySize\n",
      "2    10305\n",
      "1     3395\n",
      "3     1260\n",
      "4       33\n",
      "Name: count, dtype: int64\n",
      "FurLength\n",
      "1    8808\n",
      "2    5361\n",
      "3     824\n",
      "Name: count, dtype: int64\n",
      "Vaccinated\n",
      "2    7227\n",
      "1    5898\n",
      "3    1868\n",
      "Name: count, dtype: int64\n",
      "Dewormed\n",
      "1    8397\n",
      "2    4815\n",
      "3    1781\n",
      "Name: count, dtype: int64\n",
      "Sterilized\n",
      "2    10077\n",
      "1     3101\n",
      "3     1815\n",
      "Name: count, dtype: int64\n",
      "Health\n",
      "1    14478\n",
      "2      481\n",
      "3       34\n",
      "Name: count, dtype: int64\n",
      "Quantity\n",
      "1     11565\n",
      "2      1422\n",
      "3       726\n",
      "4       531\n",
      "5       333\n",
      "6       185\n",
      "7        84\n",
      "8        52\n",
      "9        33\n",
      "10       19\n",
      "20       12\n",
      "11       10\n",
      "12        6\n",
      "15        4\n",
      "17        3\n",
      "16        3\n",
      "14        2\n",
      "13        2\n",
      "18        1\n",
      "Name: count, dtype: int64\n",
      "Fee\n",
      "0      12663\n",
      "50       468\n",
      "100      408\n",
      "200      219\n",
      "150      162\n",
      "       ...  \n",
      "170        1\n",
      "135        1\n",
      "14         1\n",
      "89         1\n",
      "190        1\n",
      "Name: count, Length: 74, dtype: int64\n",
      "State\n",
      "41326    8714\n",
      "41401    3845\n",
      "41327     843\n",
      "41336     507\n",
      "41330     420\n",
      "41332     253\n",
      "41324     137\n",
      "41325     110\n",
      "41335      85\n",
      "41361      26\n",
      "41345      22\n",
      "41367      15\n",
      "41342      13\n",
      "41415       3\n",
      "Name: count, dtype: int64\n",
      "VideoAmt\n",
      "0    14419\n",
      "1      417\n",
      "2       92\n",
      "3       36\n",
      "4       15\n",
      "5        7\n",
      "6        4\n",
      "8        2\n",
      "7        1\n",
      "Name: count, dtype: int64\n",
      "PhotoAmt\n",
      "1.0     3075\n",
      "2.0     2518\n",
      "3.0     2511\n",
      "5.0     2147\n",
      "4.0     1881\n",
      "6.0      621\n",
      "7.0      432\n",
      "0.0      341\n",
      "8.0      314\n",
      "9.0      231\n",
      "10.0     190\n",
      "11.0     184\n",
      "12.0      97\n",
      "13.0      86\n",
      "14.0      78\n",
      "15.0      50\n",
      "16.0      39\n",
      "17.0      27\n",
      "20.0      25\n",
      "19.0      20\n",
      "30.0      19\n",
      "18.0      18\n",
      "21.0      16\n",
      "24.0      15\n",
      "23.0      12\n",
      "26.0      10\n",
      "22.0       9\n",
      "25.0       8\n",
      "28.0       7\n",
      "27.0       6\n",
      "29.0       6\n",
      "Name: count, dtype: int64\n",
      "AdoptionSpeed\n",
      "4    4197\n",
      "2    4037\n",
      "3    3259\n",
      "1    3090\n",
      "0     410\n",
      "Name: count, dtype: int64\n"
     ]
    }
   ],
   "source": [
    "# Now lets take a look at the data distribution in our df\n",
    "\n",
    "for column in visual_df.columns:\n",
    "    print(visual_df[column].value_counts())"
   ]
  },
  {
   "cell_type": "code",
   "execution_count": 8,
   "metadata": {},
   "outputs": [
    {
     "data": {
      "text/plain": [
       "array([[<Axes: title={'center': 'Type'}>,\n",
       "        <Axes: title={'center': 'Age'}>,\n",
       "        <Axes: title={'center': 'Breed1'}>,\n",
       "        <Axes: title={'center': 'Breed2'}>],\n",
       "       [<Axes: title={'center': 'Gender'}>,\n",
       "        <Axes: title={'center': 'Color1'}>,\n",
       "        <Axes: title={'center': 'Color2'}>,\n",
       "        <Axes: title={'center': 'Color3'}>],\n",
       "       [<Axes: title={'center': 'MaturitySize'}>,\n",
       "        <Axes: title={'center': 'FurLength'}>,\n",
       "        <Axes: title={'center': 'Vaccinated'}>,\n",
       "        <Axes: title={'center': 'Dewormed'}>],\n",
       "       [<Axes: title={'center': 'Sterilized'}>,\n",
       "        <Axes: title={'center': 'Health'}>,\n",
       "        <Axes: title={'center': 'Quantity'}>,\n",
       "        <Axes: title={'center': 'Fee'}>],\n",
       "       [<Axes: title={'center': 'State'}>,\n",
       "        <Axes: title={'center': 'VideoAmt'}>,\n",
       "        <Axes: title={'center': 'PhotoAmt'}>,\n",
       "        <Axes: title={'center': 'AdoptionSpeed'}>]], dtype=object)"
      ]
     },
     "execution_count": 8,
     "metadata": {},
     "output_type": "execute_result"
    },
    {
     "data": {
      "image/png": "[encoded data removed]",
      "text/plain": [
       "<Figure size 1000x1500 with 20 Axes>"
      ]
     },
     "metadata": {},
     "output_type": "display_data"
    }
   ],
   "source": [
    "visual_df.hist(figsize=[10,15],bins=15, color='orange', histtype='bar', ec='black', grid=False)"
   ]
  },
  {
   "cell_type": "code",
   "execution_count": 9,
   "metadata": {},
   "outputs": [
    {
     "data": {
      "text/plain": [
       "Type             0\n",
       "Age              0\n",
       "Breed1           0\n",
       "Breed2           0\n",
       "Gender           0\n",
       "Color1           0\n",
       "Color2           0\n",
       "Color3           0\n",
       "MaturitySize     0\n",
       "FurLength        0\n",
       "Vaccinated       0\n",
       "Dewormed         0\n",
       "Sterilized       0\n",
       "Health           0\n",
       "Quantity         0\n",
       "Fee              0\n",
       "State            0\n",
       "VideoAmt         0\n",
       "PhotoAmt         0\n",
       "AdoptionSpeed    0\n",
       "dtype: int64"
      ]
     },
     "execution_count": 9,
     "metadata": {},
     "output_type": "execute_result"
    }
   ],
   "source": [
    "visual_df.isnull().sum()"
   ]
  },
  {
   "cell_type": "markdown",
   "metadata": {},
   "source": [
    "#### Feature Engineering"
   ]
  },
  {
   "cell_type": "markdown",
   "metadata": {},
   "source": [
    "##### Splitting the animal type into 2 dfs"
   ]
  },
  {
   "cell_type": "code",
   "execution_count": 10,
   "metadata": {},
   "outputs": [
    {
     "name": "stdout",
     "output_type": "stream",
     "text": [
      "Type\n",
      "1    8132\n",
      "2    6861\n",
      "Name: count, dtype: int64\n",
      "Removed 6861 rows for dogs_df\n",
      "Removed 8132 rows for cats_df\n"
     ]
    }
   ],
   "source": [
    "# 1. split the data in 2 dataframes, one for cats and one for dogs.\n",
    "def feature_filter(row, value):\n",
    "    \"\"\"  \n",
    "    feature_filter: Checks a row in a df and returns it target_feature = value\n",
    "    \"\"\"\n",
    "    if row == value:\n",
    "        return value\n",
    "    else:\n",
    "        return None\n",
    "\n",
    "df_dogs = raw_df.copy()\n",
    "df_dogs['Type'] = df_dogs['Type'].apply(lambda row: feature_filter(row, 1))\n",
    "df_cats = raw_df.copy()\n",
    "df_cats['Type'] = df_cats['Type'].apply(lambda row: feature_filter(row, 2))\n",
    "\n",
    "print(raw_df['Type'].value_counts())\n",
    "print(f\"Removed {df_dogs['Type'].isnull().sum()} rows for dogs_df\")\n",
    "print(f\"Removed {df_cats['Type'].isnull().sum()} rows for cats_df\")\n",
    "\n",
    "df_dogs = df_dogs.dropna()\n",
    "df_cats = df_cats.dropna()"
   ]
  },
  {
   "cell_type": "markdown",
   "metadata": {},
   "source": [
    "##### Adding new feature: isPureBreed\n",
    "- checks whether the animal has a single breed or not"
   ]
  },
  {
   "cell_type": "code",
   "execution_count": 11,
   "metadata": {},
   "outputs": [],
   "source": [
    "def Breed2_Cleaner(row): # if both breeds are the same, it doesn't have a second breed.\n",
    "    if row['Breed1'] == row['Breed2']:\n",
    "        row['Breed2'] = 0\n",
    "    return row\n",
    "\n",
    "def set_isPureBreed(row):\n",
    "    if row['Breed2'] != 0:\n",
    "        return False\n",
    "    elif row['Breed1'] == 307: # code for mixed breed\n",
    "        return False\n",
    "    else: return True"
   ]
  },
  {
   "cell_type": "markdown",
   "metadata": {},
   "source": [
    "###### isPureBreed: Cat Data"
   ]
  },
  {
   "cell_type": "code",
   "execution_count": 12,
   "metadata": {},
   "outputs": [
    {
     "data": {
      "text/plain": [
       "Breed2\n",
       "0      4641\n",
       "266     555\n",
       "265     306\n",
       "299     126\n",
       "264     116\n",
       "Name: count, dtype: int64"
      ]
     },
     "execution_count": 12,
     "metadata": {},
     "output_type": "execute_result"
    }
   ],
   "source": [
    "df_cats['Breed2'].value_counts().head()"
   ]
  },
  {
   "cell_type": "code",
   "execution_count": 13,
   "metadata": {},
   "outputs": [],
   "source": [
    "df_cats = df_cats.apply(Breed2_Cleaner, axis=1)"
   ]
  },
  {
   "cell_type": "code",
   "execution_count": 14,
   "metadata": {},
   "outputs": [
    {
     "data": {
      "text/plain": [
       "Breed2\n",
       "0      5035\n",
       "266     313\n",
       "265     226\n",
       "299     120\n",
       "264      99\n",
       "Name: count, dtype: int64"
      ]
     },
     "execution_count": 14,
     "metadata": {},
     "output_type": "execute_result"
    }
   ],
   "source": [
    "df_cats['Breed2'].value_counts().head() # we can see that there are now more \"0\" values, which means the function is working."
   ]
  },
  {
   "cell_type": "code",
   "execution_count": 15,
   "metadata": {},
   "outputs": [],
   "source": [
    "df_cats['isPureBreed'] = df_cats.apply(set_isPureBreed, axis=1)"
   ]
  },
  {
   "cell_type": "markdown",
   "metadata": {},
   "source": [
    "###### isPureBreed: Dog Data"
   ]
  },
  {
   "cell_type": "code",
   "execution_count": 16,
   "metadata": {},
   "outputs": [],
   "source": [
    "df_dogs = df_dogs.apply(Breed2_Cleaner, axis=1)\n",
    "df_dogs['isPureBreed'] = df_dogs.apply(set_isPureBreed, axis=1)\n"
   ]
  },
  {
   "cell_type": "markdown",
   "metadata": {},
   "source": [
    "###### isPureBreed: Results"
   ]
  },
  {
   "cell_type": "code",
   "execution_count": 17,
   "metadata": {},
   "outputs": [
    {
     "name": "stdout",
     "output_type": "stream",
     "text": [
      "Pure Bred Cats count:\n",
      "isPureBreed\n",
      "True     5031\n",
      "False    1209\n",
      "Name: count, dtype: int64 \n",
      "\n",
      "Pure Bred Dogs count:\n",
      "isPureBreed\n",
      "False    6388\n",
      "True     1088\n",
      "Name: count, dtype: int64\n"
     ]
    }
   ],
   "source": [
    "print('Pure Bred Cats count:')\n",
    "print(df_cats['isPureBreed'].value_counts(), '\\n')\n",
    "print('Pure Bred Dogs count:')\n",
    "print(df_dogs['isPureBreed'].value_counts())"
   ]
  },
  {
   "cell_type": "code",
   "execution_count": 18,
   "metadata": {},
   "outputs": [],
   "source": [
    "# Interesting to note that the majority of the cats are pure-bred and the contraty happens in dogs."
   ]
  },
  {
   "cell_type": "markdown",
   "metadata": {},
   "source": [
    "##### Adding new feature: isPetAdopted"
   ]
  },
  {
   "cell_type": "code",
   "execution_count": 19,
   "metadata": {},
   "outputs": [],
   "source": [
    "def set_isPetAdopted(row):\n",
    "    return not row['AdoptionSpeed'] == 4"
   ]
  },
  {
   "cell_type": "code",
   "execution_count": 20,
   "metadata": {},
   "outputs": [
    {
     "data": {
      "text/plain": [
       "isPetAdopted\n",
       "True     4636\n",
       "False    1604\n",
       "Name: count, dtype: int64"
      ]
     },
     "execution_count": 20,
     "metadata": {},
     "output_type": "execute_result"
    }
   ],
   "source": [
    "df_cats['isPetAdopted'] = df_cats.apply(set_isPetAdopted, axis=1)\n",
    "df_cats['isPetAdopted'].value_counts()"
   ]
  },
  {
   "cell_type": "code",
   "execution_count": 21,
   "metadata": {},
   "outputs": [
    {
     "data": {
      "text/plain": [
       "AdoptionSpeed\n",
       "2    1709\n",
       "4    1604\n",
       "1    1506\n",
       "3    1192\n",
       "0     229\n",
       "Name: count, dtype: int64"
      ]
     },
     "execution_count": 21,
     "metadata": {},
     "output_type": "execute_result"
    }
   ],
   "source": [
    "df_cats['AdoptionSpeed'].value_counts() # by checking that in the False values are equal to the ammount of 4 values in AdoptionSpeed, we confirm that this is working"
   ]
  },
  {
   "cell_type": "code",
   "execution_count": 22,
   "metadata": {},
   "outputs": [
    {
     "data": {
      "text/plain": [
       "isPetAdopted\n",
       "True     5322\n",
       "False    2154\n",
       "Name: count, dtype: int64"
      ]
     },
     "execution_count": 22,
     "metadata": {},
     "output_type": "execute_result"
    }
   ],
   "source": [
    "df_dogs['isPetAdopted'] = df_dogs.apply(set_isPetAdopted, axis=1)\n",
    "df_dogs['isPetAdopted'].value_counts()"
   ]
  },
  {
   "cell_type": "code",
   "execution_count": 23,
   "metadata": {},
   "outputs": [],
   "source": [
    "# is we want to merge both cats and dogs once again just uncomment this line\n",
    "\n",
    "#complete_df = pd.concat([df_cats, df_dogs])"
   ]
  },
  {
   "cell_type": "code",
   "execution_count": null,
   "metadata": {},
   "outputs": [],
   "source": []
  }
 ],
 "metadata": {
  "kernelspec": {
   "display_name": "churn",
   "language": "python",
   "name": "python3"
  },
  "language_info": {
   "codemirror_mode": {
    "name": "ipython",
    "version": 3
   },
   "file_extension": ".py",
   "mimetype": "text/x-python",
   "name": "python",
   "nbconvert_exporter": "python",
   "pygments_lexer": "ipython3",
   "version": "3.12.4"
  }
 },
 "nbformat": 4,
 "nbformat_minor": 2
}
