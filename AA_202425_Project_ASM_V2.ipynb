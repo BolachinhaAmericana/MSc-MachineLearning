{
 "cells": [
  {
   "cell_type": "markdown",
   "metadata": {},
   "source": [
    "# Machine Learning / Aprendizagem Automática\n",
    "\n",
    "## Sara C. Madeira, 2024/25\n",
    "\n",
    "# AA Project  - Learning about Pet Adoption using PetFinder.my Dataset"
   ]
  },
  {
   "cell_type": "markdown",
   "metadata": {},
   "source": [
    "## Logistics\n",
    "\n",
    "**_Read Carefully_**\n",
    "\n",
    "**Students are encouraged to work in teams of 3 people**. \n",
    "\n",
    "Projects with smaller teams are allowed, in exceptional cases, but will not have better grades for this reason. \n",
    "\n",
    "The quality of the project will dictate its grade, not the number of people working.\n",
    "\n",
    "**The project's solution should be uploaded in Moodle before the end of December, 22nd 2024 (last day before Christmas holidays).**  \n",
    "\n",
    "Teams should **upload a `.zip` file** containing all the files necessary for project evaluation. Teams should be registered in [Moodle](https://moodle.ciencias.ulisboa.pt/mod/groupselect/view.php?id=267782) and the zip file, upload by one of the group members, should be identified as `AA202425nn.zip` where `nn` is the group number.\n",
    "\n",
    "**It is mandatory to produce a Jupyter notebook containing code and text/images/tables/etc describing the solution and the results. Projects not delivered in this format will not be graded. You can use `AA_202425_Project.ipynb`as template. In your `.zip` folder you should also include an HTML version of your notebook with all the outputs.**\n",
    "\n",
    "**Decisions should be justified and results should be critically discussed.** \n",
    "\n",
    "Remember that **your notebook should be as clear and organized as possible**, that is, only the relevant code and experiments should be presented, not everything you tried and did not work (that can be discussed in the text, if relevant)! \n",
    "\n",
    "_Project solutions containing **only code and outputs without discussions** will achieve a **maximum grade of 10 out of 20**._"
   ]
  },
  {
   "cell_type": "markdown",
   "metadata": {},
   "source": [
    "## Tools\n",
    "\n",
    "The team should use [Python 3](https://www.python.org) and [Jupyter Notebook](http://jupyter.org), together with **[Scikit-learn](http://scikit-learn.org/stable/)**, **[Orange3](https://orange.biolab.si)**, or **both**.\n",
    "\n",
    "**[Orange3](https://orange.biolab.si)** can be used through its **[programmatic version](https://docs.orange.biolab.si/3/data-mining-library/)**, by importing and using its packages as done with Scikit-leatn, or through its **workflow version**. \n",
    "\n",
    "**It is up to the team to decide when to use Scikit-learn, Orange, or both.**\n",
    "\n",
    "In this context, your Jupyter notebook might have a mix of code, results, text explanations, workflow figures, etc. \n",
    "\n",
    "In case you use Orange/workflows for some tasks you should also deliver the workflow files. Your notebook should figures for the workflow used together with an overall explaination and specific descriptions for the options taken in each of their widgets.\n",
    "\n",
    "**You can use this notebook and the sections below as example.**"
   ]
  },
  {
   "cell_type": "markdown",
   "metadata": {},
   "source": [
    "## Dataset\n",
    "\n",
    "The dataset to be analysed is **`PetFinder_dataset.csv`**, made avaliable together with this project description. This dataset, downloaded from [Kaggle](https://www.kaggle.com), contains selected and modified data from the following competition: [PetFinder.my Adoption Prediction](https://www.kaggle.com/c/petfinder-adoption-prediction/). \n",
    "\n",
    "PetFinder.my has been Malaysia’s leading animal welfare platform since 2008, with a database of more than 150,000 animals. PetFinder collaborates closely with animal lovers, media, corporations, and global organizations to improve animal welfare. Animal adoption rates are strongly correlated to the metadata associated with their online profiles, such as descriptive text and photo characteristics. As one example, PetFinder is currently experimenting with a simple AI tool called the Cuteness Meter, which ranks how cute a pet is based on qualities present in their photos. In this competition data scientists are supposed to develop machine learning approaches to predict the adoptability of pets - specifically, how quickly is a pet adopted? If successful, they will be adapted into AI tools that will guide shelters and rescuers around the world on improving their pet profiles' appeal, reducing animal suffering and euthanization.\n",
    "**In this project, your team is supposed to use only tabular data (not Images or Image Metadata) and see how far you can go in predicting and understanding PetFinder.my adoptions. You should use both supervised and unsupervised learning to tackle 2 tasks:**\n",
    "\n",
    "1. **Task 1 (Supervised Learning) - Predicting Adoption and Adoption Speed**\n",
    "2. **Task 2 (Unsupervised Learning) - Charactering Pets and their Adoption Speed**\n",
    "\n",
    "The **`PetFinder_dataset.csv`** your machine learning algorithms should learn from has **14.993 instances** described by **24 data fields** that you might use as **categorical/numerical features** and corresponds to a modified version of the `train.csv` file made available for the competition (https://www.kaggle.com/c/petfinder-adoption-prediction/data). **The target in the original Kaggle challenge is `Adoption Speed`.**\n",
    "\n",
    "### File Descriptions\n",
    "\n",
    "* **PetFinder_dataset.csv** - Tabular/text data for machine learning.\n",
    "* **breed_labels.csv** - Contains Type and BreedName for each BreedID. Type 1 is dog, 2 is cat.\n",
    "* **color_labels.csv** - Contains ColorName for each ColorID.\n",
    "* **state_labels.csv** - Contains StateName for each StateID.\n",
    "\n",
    "### Data Fields\n",
    "\n",
    "* **PetID** - Unique hash ID of pet profile\n",
    "* **Type** - Type of animal (1 = Dog, 2 = Cat)\n",
    "* **AdoptionSpeed - Categorical speed of adoption. Lower is faster.** This is the value to predict in the competition. See section below for more info.\n",
    "* **Name** - Name of pet (Empty if not named)\n",
    "* **Age** - Age of pet when listed, in months\n",
    "* **Breed1** - Primary breed of pet (see `BreedLabels.csv` for details)\n",
    "* **Breed2** - Secondary breed of pet, if pet is of mixed breed (Refer to BreedLabels dictionary)\n",
    "* **Gender** - Gender of pet (1 = Male, 2 = Female, 3 = Mixed, if profile represents group of pets)\n",
    "* **Color1** - Color 1 of pet (see `ColorLabel.csv` for details)\n",
    "* **Color2** - Color 2 of pet (see `ColorLabel.csv` for details)\n",
    "* **Color3** - Color 3 of pet (see `ColorLabel.csv` for details)\n",
    "* **MaturitySize** - Size at maturity (1 = Small, 2 = Medium, 3 = Large, 4 = Extra Large, 0 = Not Specified)\n",
    "* **FurLength** - Fur length (1 = Short, 2 = Medium, 3 = Long, 0 = Not Specified)\n",
    "* **Vaccinated** - Pet has been vaccinated (1 = Yes, 2 = No, 3 = Not Sure)\n",
    "* **Dewormed** - Pet has been dewormed (1 = Yes, 2 = No, 3 = Not Sure)\n",
    "* **Sterilized** - Pet has been spayed / neutered (1 = Yes, 2 = No, 3 = Not Sure)\n",
    "* **Health** - Health Condition (1 = Healthy, 2 = Minor Injury, 3 = Serious Injury, 0 = Not Specified)\n",
    "* **Quantity** - Number of pets represented in profile\n",
    "* **Fee** - Adoption fee (0 = Free)\n",
    "* **State** - State location in Malaysia (Refer to StateLabels dictionary)\n",
    "* **RescuerID** - Unique hash ID of rescuer\n",
    "* **VideoAmt** - Total uploaded videos for this pet\n",
    "* **PhotoAmt** - Total uploaded photos for this pet\n",
    "* **Description** - Profile write-up for this pet. The primary language used is English, with some in Malay or Chinese.\n",
    "\n",
    "### AdoptionSpeed\n",
    "\n",
    "The value of `AdoptionSpeed` describes how quickly, if at all, a pet is adopted:\n",
    "* 0 - Pet was adopted on the same day as it was listed. \n",
    "* 1 - Pet was adopted between 1 and 7 days (1st week) after being listed. \n",
    "* 2 - Pet was adopted between 8 and 30 days (1st month) after being listed. \n",
    "* 3 - Pet was adopted between 31 and 90 days (2nd & 3rd month) after being listed.\n",
    "* 4 - No adoption after 100 days of being listed. (There are no pets in this dataset that waited between 90 and 100 days).\n",
    "\n",
    "### **Important Notes on Data Cleaning and Preprocessing**\n",
    "\n",
    "   1. Data can contain **errors/typos**, whose correction might improve the analysis.\n",
    "   2. Some features can contain **many values**, whose grouping in categories (aggregation into bins) might improve the analysis.\n",
    "   3. Data can contain **missing values**, that you might decide to fill. You might also decide to eliminate instances/features with high percentages of missing values.\n",
    "   4. **Not all features are necessarily important** for the analysis.\n",
    "   5. Depending on the analysis, **some features might have to be excluded**.\n",
    "   6. Class distribution is an important characteristic of the dataset that should be carefully taken into consideration. **Class imbalance** might impair machine learning.  \n",
    "  \n",
    "Some potentially useful links:\n",
    "\n",
    "* Data Cleaning and Preprocessing in Scikit-learn: https://scikit-learn.org/stable/modules/preprocessing.html#\n",
    "* Data Cleaning and Preprocessing in Orange: https://docs.biolab.si//3/visual-programming/widgets/data/preprocess.html\n",
    "* Dealing with imbalance datasets: https://pypi.org/project/imbalanced-learn/ and https://www.kaggle.com/rafjaa/resampling-strategies-for-imbalanced-datasets#t7"
   ]
  },
  {
   "cell_type": "markdown",
   "metadata": {},
   "source": [
    "## Task 0 (Know your Data) - Exploratory Data Analysis"
   ]
  },
  {
   "cell_type": "markdown",
   "metadata": {},
   "source": [
    "## 0.1. Loading Data"
   ]
  },
  {
   "cell_type": "code",
   "execution_count": 1,
   "metadata": {},
   "outputs": [],
   "source": [
    "import pandas as pd\n",
    "import numpy as np\n",
    "import matplotlib.pyplot as plt\n",
    "import seaborn as sns\n",
    "from scipy.stats import gaussian_kde, spearmanr, chi2_contingency\n",
    "from statsmodels.stats.proportion import proportions_ztest\n",
    "from sklearn.model_selection import train_test_split\n",
    "from sklearn.naive_bayes import GaussianNB\n",
    "from sklearn import tree\n",
    "pd.set_option(\"display.max_columns\", None)"
   ]
  },
  {
   "cell_type": "code",
   "execution_count": 2,
   "metadata": {},
   "outputs": [],
   "source": [
    "breed_labels = pd.read_csv(\"breed_labels.csv\")\n",
    "color_labels = pd.read_csv(\"color_labels.csv\")\n",
    "state_labels = pd.read_csv(\"state_labels.csv\")\n",
    "data = pd.read_csv(\"PetFinder_dataset.csv\")\n",
    "df = data.copy()"
   ]
  },
  {
   "cell_type": "code",
   "execution_count": 3,
   "metadata": {},
   "outputs": [
    {
     "data": {
      "text/html": [
       "<div>\n",
       "<style scoped>\n",
       "    .dataframe tbody tr th:only-of-type {\n",
       "        vertical-align: middle;\n",
       "    }\n",
       "\n",
       "    .dataframe tbody tr th {\n",
       "        vertical-align: top;\n",
       "    }\n",
       "\n",
       "    .dataframe thead th {\n",
       "        text-align: right;\n",
       "    }\n",
       "</style>\n",
       "<table border=\"1\" class=\"dataframe\">\n",
       "  <thead>\n",
       "    <tr style=\"text-align: right;\">\n",
       "      <th></th>\n",
       "      <th>Type</th>\n",
       "      <th>Name</th>\n",
       "      <th>Age</th>\n",
       "      <th>Breed1</th>\n",
       "      <th>Breed2</th>\n",
       "      <th>Gender</th>\n",
       "      <th>Color1</th>\n",
       "      <th>Color2</th>\n",
       "      <th>Color3</th>\n",
       "      <th>MaturitySize</th>\n",
       "      <th>FurLength</th>\n",
       "      <th>Vaccinated</th>\n",
       "      <th>Dewormed</th>\n",
       "      <th>Sterilized</th>\n",
       "      <th>Health</th>\n",
       "      <th>Quantity</th>\n",
       "      <th>Fee</th>\n",
       "      <th>State</th>\n",
       "      <th>RescuerID</th>\n",
       "      <th>VideoAmt</th>\n",
       "      <th>Description</th>\n",
       "      <th>PetID</th>\n",
       "      <th>PhotoAmt</th>\n",
       "      <th>AdoptionSpeed</th>\n",
       "    </tr>\n",
       "  </thead>\n",
       "  <tbody>\n",
       "    <tr>\n",
       "      <th>0</th>\n",
       "      <td>2</td>\n",
       "      <td>Nibble</td>\n",
       "      <td>3</td>\n",
       "      <td>299</td>\n",
       "      <td>0</td>\n",
       "      <td>1</td>\n",
       "      <td>1</td>\n",
       "      <td>7</td>\n",
       "      <td>0</td>\n",
       "      <td>1</td>\n",
       "      <td>1</td>\n",
       "      <td>2</td>\n",
       "      <td>2</td>\n",
       "      <td>2</td>\n",
       "      <td>1</td>\n",
       "      <td>1</td>\n",
       "      <td>100</td>\n",
       "      <td>41326</td>\n",
       "      <td>8480853f516546f6cf33aa88cd76c379</td>\n",
       "      <td>0</td>\n",
       "      <td>Nibble is a 3+ month old ball of cuteness. He ...</td>\n",
       "      <td>86e1089a3</td>\n",
       "      <td>1.0</td>\n",
       "      <td>2</td>\n",
       "    </tr>\n",
       "    <tr>\n",
       "      <th>1</th>\n",
       "      <td>2</td>\n",
       "      <td>No Name Yet</td>\n",
       "      <td>1</td>\n",
       "      <td>265</td>\n",
       "      <td>0</td>\n",
       "      <td>1</td>\n",
       "      <td>1</td>\n",
       "      <td>2</td>\n",
       "      <td>0</td>\n",
       "      <td>2</td>\n",
       "      <td>2</td>\n",
       "      <td>3</td>\n",
       "      <td>3</td>\n",
       "      <td>3</td>\n",
       "      <td>1</td>\n",
       "      <td>1</td>\n",
       "      <td>0</td>\n",
       "      <td>41401</td>\n",
       "      <td>3082c7125d8fb66f7dd4bff4192c8b14</td>\n",
       "      <td>0</td>\n",
       "      <td>I just found it alone yesterday near my apartm...</td>\n",
       "      <td>6296e909a</td>\n",
       "      <td>2.0</td>\n",
       "      <td>0</td>\n",
       "    </tr>\n",
       "    <tr>\n",
       "      <th>14991</th>\n",
       "      <td>2</td>\n",
       "      <td>Ms Daym</td>\n",
       "      <td>9</td>\n",
       "      <td>266</td>\n",
       "      <td>0</td>\n",
       "      <td>2</td>\n",
       "      <td>4</td>\n",
       "      <td>7</td>\n",
       "      <td>0</td>\n",
       "      <td>1</td>\n",
       "      <td>1</td>\n",
       "      <td>1</td>\n",
       "      <td>1</td>\n",
       "      <td>1</td>\n",
       "      <td>1</td>\n",
       "      <td>1</td>\n",
       "      <td>0</td>\n",
       "      <td>41336</td>\n",
       "      <td>c311c0c569245baa147d91fa4e351ae4</td>\n",
       "      <td>0</td>\n",
       "      <td>she is very shy..adventures and independent..s...</td>\n",
       "      <td>e4da1c9e4</td>\n",
       "      <td>3.0</td>\n",
       "      <td>4</td>\n",
       "    </tr>\n",
       "    <tr>\n",
       "      <th>14992</th>\n",
       "      <td>1</td>\n",
       "      <td>Fili</td>\n",
       "      <td>1</td>\n",
       "      <td>307</td>\n",
       "      <td>307</td>\n",
       "      <td>1</td>\n",
       "      <td>2</td>\n",
       "      <td>0</td>\n",
       "      <td>0</td>\n",
       "      <td>2</td>\n",
       "      <td>1</td>\n",
       "      <td>2</td>\n",
       "      <td>2</td>\n",
       "      <td>2</td>\n",
       "      <td>1</td>\n",
       "      <td>1</td>\n",
       "      <td>0</td>\n",
       "      <td>41332</td>\n",
       "      <td>9ed1d5493d223eaa5024c1a031dbc9c2</td>\n",
       "      <td>0</td>\n",
       "      <td>Fili just loves laying around and also loves b...</td>\n",
       "      <td>a83d95ead</td>\n",
       "      <td>1.0</td>\n",
       "      <td>3</td>\n",
       "    </tr>\n",
       "  </tbody>\n",
       "</table>\n",
       "</div>"
      ],
      "text/plain": [
       "       Type         Name  Age  Breed1  Breed2  Gender  Color1  Color2  Color3  \\\n",
       "0         2       Nibble    3     299       0       1       1       7       0   \n",
       "1         2  No Name Yet    1     265       0       1       1       2       0   \n",
       "14991     2      Ms Daym    9     266       0       2       4       7       0   \n",
       "14992     1         Fili    1     307     307       1       2       0       0   \n",
       "\n",
       "       MaturitySize  FurLength  Vaccinated  Dewormed  Sterilized  Health  \\\n",
       "0                 1          1           2         2           2       1   \n",
       "1                 2          2           3         3           3       1   \n",
       "14991             1          1           1         1           1       1   \n",
       "14992             2          1           2         2           2       1   \n",
       "\n",
       "       Quantity  Fee  State                         RescuerID  VideoAmt  \\\n",
       "0             1  100  41326  8480853f516546f6cf33aa88cd76c379         0   \n",
       "1             1    0  41401  3082c7125d8fb66f7dd4bff4192c8b14         0   \n",
       "14991         1    0  41336  c311c0c569245baa147d91fa4e351ae4         0   \n",
       "14992         1    0  41332  9ed1d5493d223eaa5024c1a031dbc9c2         0   \n",
       "\n",
       "                                             Description      PetID  PhotoAmt  \\\n",
       "0      Nibble is a 3+ month old ball of cuteness. He ...  86e1089a3       1.0   \n",
       "1      I just found it alone yesterday near my apartm...  6296e909a       2.0   \n",
       "14991  she is very shy..adventures and independent..s...  e4da1c9e4       3.0   \n",
       "14992  Fili just loves laying around and also loves b...  a83d95ead       1.0   \n",
       "\n",
       "       AdoptionSpeed  \n",
       "0                  2  \n",
       "1                  0  \n",
       "14991              4  \n",
       "14992              3  "
      ]
     },
     "execution_count": 3,
     "metadata": {},
     "output_type": "execute_result"
    }
   ],
   "source": [
    "# Pet Finder dataset\n",
    "pd.concat([df.head(2), df.tail(2)])"
   ]
  },
  {
   "cell_type": "code",
   "execution_count": 4,
   "metadata": {},
   "outputs": [
    {
     "data": {
      "text/html": [
       "<div>\n",
       "<style scoped>\n",
       "    .dataframe tbody tr th:only-of-type {\n",
       "        vertical-align: middle;\n",
       "    }\n",
       "\n",
       "    .dataframe tbody tr th {\n",
       "        vertical-align: top;\n",
       "    }\n",
       "\n",
       "    .dataframe thead th {\n",
       "        text-align: right;\n",
       "    }\n",
       "</style>\n",
       "<table border=\"1\" class=\"dataframe\">\n",
       "  <thead>\n",
       "    <tr style=\"text-align: right;\">\n",
       "      <th></th>\n",
       "      <th>BreedID</th>\n",
       "      <th>Type</th>\n",
       "      <th>BreedName</th>\n",
       "    </tr>\n",
       "  </thead>\n",
       "  <tbody>\n",
       "    <tr>\n",
       "      <th>0</th>\n",
       "      <td>1</td>\n",
       "      <td>1</td>\n",
       "      <td>Affenpinscher</td>\n",
       "    </tr>\n",
       "    <tr>\n",
       "      <th>1</th>\n",
       "      <td>2</td>\n",
       "      <td>1</td>\n",
       "      <td>Afghan Hound</td>\n",
       "    </tr>\n",
       "    <tr>\n",
       "      <th>305</th>\n",
       "      <td>305</td>\n",
       "      <td>2</td>\n",
       "      <td>Turkish Van</td>\n",
       "    </tr>\n",
       "    <tr>\n",
       "      <th>306</th>\n",
       "      <td>306</td>\n",
       "      <td>2</td>\n",
       "      <td>Tuxedo</td>\n",
       "    </tr>\n",
       "  </tbody>\n",
       "</table>\n",
       "</div>"
      ],
      "text/plain": [
       "     BreedID  Type      BreedName\n",
       "0          1     1  Affenpinscher\n",
       "1          2     1   Afghan Hound\n",
       "305      305     2    Turkish Van\n",
       "306      306     2         Tuxedo"
      ]
     },
     "execution_count": 4,
     "metadata": {},
     "output_type": "execute_result"
    }
   ],
   "source": [
    "#Breed Labels\n",
    "pd.concat([breed_labels.head(2), breed_labels.tail(2)])"
   ]
  },
  {
   "cell_type": "code",
   "execution_count": 5,
   "metadata": {},
   "outputs": [
    {
     "data": {
      "text/html": [
       "<div>\n",
       "<style scoped>\n",
       "    .dataframe tbody tr th:only-of-type {\n",
       "        vertical-align: middle;\n",
       "    }\n",
       "\n",
       "    .dataframe tbody tr th {\n",
       "        vertical-align: top;\n",
       "    }\n",
       "\n",
       "    .dataframe thead th {\n",
       "        text-align: right;\n",
       "    }\n",
       "</style>\n",
       "<table border=\"1\" class=\"dataframe\">\n",
       "  <thead>\n",
       "    <tr style=\"text-align: right;\">\n",
       "      <th></th>\n",
       "      <th>ColorID</th>\n",
       "      <th>ColorName</th>\n",
       "    </tr>\n",
       "  </thead>\n",
       "  <tbody>\n",
       "    <tr>\n",
       "      <th>0</th>\n",
       "      <td>1</td>\n",
       "      <td>Black</td>\n",
       "    </tr>\n",
       "    <tr>\n",
       "      <th>1</th>\n",
       "      <td>2</td>\n",
       "      <td>Brown</td>\n",
       "    </tr>\n",
       "    <tr>\n",
       "      <th>5</th>\n",
       "      <td>6</td>\n",
       "      <td>Gray</td>\n",
       "    </tr>\n",
       "    <tr>\n",
       "      <th>6</th>\n",
       "      <td>7</td>\n",
       "      <td>White</td>\n",
       "    </tr>\n",
       "  </tbody>\n",
       "</table>\n",
       "</div>"
      ],
      "text/plain": [
       "   ColorID ColorName\n",
       "0        1     Black\n",
       "1        2     Brown\n",
       "5        6      Gray\n",
       "6        7     White"
      ]
     },
     "execution_count": 5,
     "metadata": {},
     "output_type": "execute_result"
    }
   ],
   "source": [
    "# Color Labels\n",
    "pd.concat([color_labels.head(2), color_labels.tail(2)])"
   ]
  },
  {
   "cell_type": "code",
   "execution_count": 6,
   "metadata": {},
   "outputs": [
    {
     "data": {
      "text/html": [
       "<div>\n",
       "<style scoped>\n",
       "    .dataframe tbody tr th:only-of-type {\n",
       "        vertical-align: middle;\n",
       "    }\n",
       "\n",
       "    .dataframe tbody tr th {\n",
       "        vertical-align: top;\n",
       "    }\n",
       "\n",
       "    .dataframe thead th {\n",
       "        text-align: right;\n",
       "    }\n",
       "</style>\n",
       "<table border=\"1\" class=\"dataframe\">\n",
       "  <thead>\n",
       "    <tr style=\"text-align: right;\">\n",
       "      <th></th>\n",
       "      <th>StateID</th>\n",
       "      <th>StateName</th>\n",
       "    </tr>\n",
       "  </thead>\n",
       "  <tbody>\n",
       "    <tr>\n",
       "      <th>0</th>\n",
       "      <td>41336</td>\n",
       "      <td>Johor</td>\n",
       "    </tr>\n",
       "    <tr>\n",
       "      <th>1</th>\n",
       "      <td>41325</td>\n",
       "      <td>Kedah</td>\n",
       "    </tr>\n",
       "    <tr>\n",
       "      <th>13</th>\n",
       "      <td>41326</td>\n",
       "      <td>Selangor</td>\n",
       "    </tr>\n",
       "    <tr>\n",
       "      <th>14</th>\n",
       "      <td>41361</td>\n",
       "      <td>Terengganu</td>\n",
       "    </tr>\n",
       "  </tbody>\n",
       "</table>\n",
       "</div>"
      ],
      "text/plain": [
       "    StateID   StateName\n",
       "0     41336       Johor\n",
       "1     41325       Kedah\n",
       "13    41326    Selangor\n",
       "14    41361  Terengganu"
      ]
     },
     "execution_count": 6,
     "metadata": {},
     "output_type": "execute_result"
    }
   ],
   "source": [
    "# State Labels\n",
    "pd.concat([state_labels.head(2), state_labels.tail(2)])"
   ]
  },
  {
   "cell_type": "markdown",
   "metadata": {},
   "source": [
    "## 0.2. Understanding Data"
   ]
  },
  {
   "cell_type": "markdown",
   "metadata": {},
   "source": [
    "In this task you should **understand better the features**, their distribution of values, potential errors, etc and plan/describe what data preprocessing steps should be performed next. Very important also is the distribution of values in the target (class distribution). \n",
    "\n",
    "Here you can find a notebook with some examples of what you can do in **Exploratory Data Analysis**: https://www.kaggle.com/artgor/exploration-of-data-step-by-step/notebook. You can also use Orange widgets for this."
   ]
  },
  {
   "cell_type": "markdown",
   "metadata": {},
   "source": [
    "# Adoption Speed"
   ]
  },
  {
   "cell_type": "code",
   "execution_count": 7,
   "metadata": {},
   "outputs": [
    {
     "data": {
      "image/png": "[encoded data removed]",
      "text/plain": [
       "<Figure size 800x500 with 1 Axes>"
      ]
     },
     "metadata": {},
     "output_type": "display_data"
    }
   ],
   "source": [
    "adoption_counts = df['AdoptionSpeed'].value_counts().sort_index()\n",
    "adoption_percentages = (adoption_counts / len(df)) * 100\n",
    "\n",
    "plt.figure(figsize=(8, 5))\n",
    "bars = sns.barplot(x=adoption_counts.index, y=adoption_counts.values, color=\"skyblue\", edgecolor=\"black\")\n",
    "\n",
    "for bar, percentage in zip(bars.patches, adoption_percentages):\n",
    "    plt.text(\n",
    "        bar.get_x() + bar.get_width() / 2,  # X-coordinate\n",
    "        bar.get_height() + 50,             # Y-coordinate (slightly above the bar)\n",
    "        f'{percentage:.1f}%',              # Format percentage\n",
    "        ha='center',                       # Center-align text\n",
    "        va='bottom',                       # Align text to bottom\n",
    "        fontsize=10,                       # Font size\n",
    "        color='black'                      # Text color\n",
    "    )\n",
    "\n",
    "plt.title(\"Adoption Speed\")\n",
    "plt.xlabel(\"Class\")\n",
    "plt.ylabel(\"Count\")\n",
    "plt.xticks(rotation=0)\n",
    "plt.show()"
   ]
  },
  {
   "cell_type": "markdown",
   "metadata": {},
   "source": [
    "2.7% dos perfis resultaram em adoção imediata, 20.6% em adoção na primeira semana em que o perfil foi publicado, 26.9% em adoção no primeiro mês, 21.7% em adoção no segundo ou terceiro mês e 28.0% continuaram por adoptar. Não existem missing values."
   ]
  },
  {
   "cell_type": "markdown",
   "metadata": {},
   "source": [
    "Existe um desequilíbrio na distribuição de classes desta variável uma vez que a classe 0 representa apenas 2.7% dos perfis. Adicionalmente, apenas 28% dos perfis não foram adotados enquanto que 72% foram."
   ]
  },
  {
   "cell_type": "markdown",
   "metadata": {},
   "source": [
    "# Fee"
   ]
  },
  {
   "cell_type": "code",
   "execution_count": 8,
   "metadata": {},
   "outputs": [
    {
     "data": {
      "text/plain": [
       "count    14993.000000\n",
       "mean        21.259988\n",
       "std         78.414548\n",
       "min          0.000000\n",
       "25%          0.000000\n",
       "50%          0.000000\n",
       "75%          0.000000\n",
       "max       3000.000000\n",
       "Name: Fee, dtype: float64"
      ]
     },
     "execution_count": 8,
     "metadata": {},
     "output_type": "execute_result"
    }
   ],
   "source": [
    "df[\"Fee\"].describe()"
   ]
  },
  {
   "cell_type": "markdown",
   "metadata": {},
   "source": [
    "A variável Fee apresenta uma assimetria positiva. Pelo menos 75% dos valores são zero, a média é 21.3 e o desvio padrão é 78.4. De realçar a aparente existência de outliers uma vez que a Fee máxima é de 3000."
   ]
  },
  {
   "cell_type": "code",
   "execution_count": 9,
   "metadata": {},
   "outputs": [
    {
     "name": "stdout",
     "output_type": "stream",
     "text": [
      "84.5% dos perfis tem um valor nulo de Fee associado, correspondendo a adoções gratuitas.\n"
     ]
    }
   ],
   "source": [
    "print(format(df[df[\"Fee\"] == 0].shape[0]/df.shape[0], \".1%\"), \"dos perfis tem um valor nulo de Fee associado, correspondendo a adoções gratuitas.\")"
   ]
  },
  {
   "cell_type": "code",
   "execution_count": 10,
   "metadata": {},
   "outputs": [
    {
     "data": {
      "text/html": [
       "<div>\n",
       "<style scoped>\n",
       "    .dataframe tbody tr th:only-of-type {\n",
       "        vertical-align: middle;\n",
       "    }\n",
       "\n",
       "    .dataframe tbody tr th {\n",
       "        vertical-align: top;\n",
       "    }\n",
       "\n",
       "    .dataframe thead th {\n",
       "        text-align: right;\n",
       "    }\n",
       "</style>\n",
       "<table border=\"1\" class=\"dataframe\">\n",
       "  <thead>\n",
       "    <tr style=\"text-align: right;\">\n",
       "      <th></th>\n",
       "      <th>count</th>\n",
       "      <th>mean</th>\n",
       "      <th>std</th>\n",
       "      <th>min</th>\n",
       "      <th>25%</th>\n",
       "      <th>50%</th>\n",
       "      <th>75%</th>\n",
       "      <th>max</th>\n",
       "    </tr>\n",
       "    <tr>\n",
       "      <th>AdoptionSpeed</th>\n",
       "      <th></th>\n",
       "      <th></th>\n",
       "      <th></th>\n",
       "      <th></th>\n",
       "      <th></th>\n",
       "      <th></th>\n",
       "      <th></th>\n",
       "      <th></th>\n",
       "    </tr>\n",
       "  </thead>\n",
       "  <tbody>\n",
       "    <tr>\n",
       "      <th>0</th>\n",
       "      <td>53.0</td>\n",
       "      <td>170.849057</td>\n",
       "      <td>184.041320</td>\n",
       "      <td>1.0</td>\n",
       "      <td>50.0</td>\n",
       "      <td>100.0</td>\n",
       "      <td>200.0</td>\n",
       "      <td>1000.0</td>\n",
       "    </tr>\n",
       "    <tr>\n",
       "      <th>1</th>\n",
       "      <td>479.0</td>\n",
       "      <td>140.774530</td>\n",
       "      <td>163.265164</td>\n",
       "      <td>1.0</td>\n",
       "      <td>50.0</td>\n",
       "      <td>100.0</td>\n",
       "      <td>200.0</td>\n",
       "      <td>2000.0</td>\n",
       "    </tr>\n",
       "    <tr>\n",
       "      <th>2</th>\n",
       "      <td>607.0</td>\n",
       "      <td>143.540362</td>\n",
       "      <td>156.574884</td>\n",
       "      <td>1.0</td>\n",
       "      <td>50.0</td>\n",
       "      <td>100.0</td>\n",
       "      <td>200.0</td>\n",
       "      <td>1000.0</td>\n",
       "    </tr>\n",
       "    <tr>\n",
       "      <th>3</th>\n",
       "      <td>470.0</td>\n",
       "      <td>139.731915</td>\n",
       "      <td>185.491189</td>\n",
       "      <td>1.0</td>\n",
       "      <td>50.0</td>\n",
       "      <td>100.0</td>\n",
       "      <td>200.0</td>\n",
       "      <td>3000.0</td>\n",
       "    </tr>\n",
       "    <tr>\n",
       "      <th>4</th>\n",
       "      <td>721.0</td>\n",
       "      <td>124.080444</td>\n",
       "      <td>115.714419</td>\n",
       "      <td>1.0</td>\n",
       "      <td>50.0</td>\n",
       "      <td>100.0</td>\n",
       "      <td>160.0</td>\n",
       "      <td>750.0</td>\n",
       "    </tr>\n",
       "  </tbody>\n",
       "</table>\n",
       "</div>"
      ],
      "text/plain": [
       "               count        mean         std  min   25%    50%    75%     max\n",
       "AdoptionSpeed                                                                \n",
       "0               53.0  170.849057  184.041320  1.0  50.0  100.0  200.0  1000.0\n",
       "1              479.0  140.774530  163.265164  1.0  50.0  100.0  200.0  2000.0\n",
       "2              607.0  143.540362  156.574884  1.0  50.0  100.0  200.0  1000.0\n",
       "3              470.0  139.731915  185.491189  1.0  50.0  100.0  200.0  3000.0\n",
       "4              721.0  124.080444  115.714419  1.0  50.0  100.0  160.0   750.0"
      ]
     },
     "execution_count": 10,
     "metadata": {},
     "output_type": "execute_result"
    }
   ],
   "source": [
    "df[df[\"Fee\"] !=0].groupby('AdoptionSpeed')['Fee'].describe()"
   ]
  },
  {
   "cell_type": "code",
   "execution_count": 11,
   "metadata": {},
   "outputs": [
    {
     "data": {
      "image/png": "[encoded data removed]",
      "text/plain": [
       "<Figure size 640x480 with 1 Axes>"
      ]
     },
     "metadata": {},
     "output_type": "display_data"
    }
   ],
   "source": [
    "sns.boxplot(x='AdoptionSpeed', y='Fee', data=df[df[\"Fee\"] !=0])\n",
    "plt.xlabel(\"AdoptionSpeed\")\n",
    "plt.ylabel(\"Fee\")\n",
    "plt.title('Fee by Adoption Speed')\n",
    "plt.show()"
   ]
  },
  {
   "cell_type": "markdown",
   "metadata": {},
   "source": [
    "Considerando apenas os perfis em que a Fee é diferente de zero, não parece existir uma diferença significativa na distribuição da Fee para as diferentes classes de AdoptionSpeed. De realçar que a maioria das fees são inferiores, ou iguais, a 100. Apenas existem 6 perfis com uma fee igual, ou superior, a 1000."
   ]
  },
  {
   "cell_type": "code",
   "execution_count": 12,
   "metadata": {},
   "outputs": [
    {
     "name": "stdout",
     "output_type": "stream",
     "text": [
      "Coeficiente de Spearman: 0.0185, valor-p: 0.0237\n"
     ]
    }
   ],
   "source": [
    "corr, p_corr = spearmanr(df[\"Fee\"], df[\"AdoptionSpeed\"])\n",
    "print(f\"Coeficiente de Spearman: {corr:.4f}, valor-p: {p_corr:.4f}\")"
   ]
  },
  {
   "cell_type": "markdown",
   "metadata": {},
   "source": [
    "O valor do coeficiente de spearman é positivo, e atendendo ao valor-p, é estatisticamente significativo para níveis de significância superiores a 2.37%, pelo que existe uma correlação positiva entre as variáveis. De notar que dado a proximidade do coeficiente de Spearman ao valor zero, a correlação é muito fraca."
   ]
  },
  {
   "cell_type": "code",
   "execution_count": 13,
   "metadata": {},
   "outputs": [],
   "source": [
    "df[\"PayFee\"] = (df[\"Fee\"] != 0).astype(int)"
   ]
  },
  {
   "cell_type": "markdown",
   "metadata": {},
   "source": [
    "Criação de uma nova variável que assume o valor 1 caso a Fee seja diferente de zero, e o valor zero caso a Fee seja nula."
   ]
  },
  {
   "cell_type": "code",
   "execution_count": 14,
   "metadata": {},
   "outputs": [
    {
     "data": {
      "image/png": "[encoded data removed]",
      "text/plain": [
       "<Figure size 800x500 with 1 Axes>"
      ]
     },
     "metadata": {},
     "output_type": "display_data"
    }
   ],
   "source": [
    "mean_payfee = df.groupby(\"AdoptionSpeed\")[\"PayFee\"].agg(\"mean\")*100\n",
    "plt.figure(figsize=(8, 5))\n",
    "mean_payfee.plot(kind=\"bar\", color=\"skyblue\", edgecolor=\"black\")\n",
    "plt.title(\"Pay Fee percentage by Adoption Speed\")\n",
    "plt.xlabel(\"Adoption Speed\")\n",
    "plt.ylabel(\"Pay Fee [%]\")\n",
    "plt.xticks(rotation=0)\n",
    "plt.show()"
   ]
  },
  {
   "cell_type": "markdown",
   "metadata": {},
   "source": [
    "Aproximadamente 12.9% dos perfis que foram adotados no mesmo dia do anúncio tinham uma fee associada. Adicionalmente, 17.2% dos perfis que não foram adotados tinham uma fee associada. Ou seja, parece que a existência de uma Fee diminui a probabilidade dos animais serem adotados. No entanto, para as classes 1, 2 e 3 de AdoptionSpeed não é tão evidente a influência da Fee."
   ]
  },
  {
   "cell_type": "code",
   "execution_count": 15,
   "metadata": {},
   "outputs": [
    {
     "name": "stdout",
     "output_type": "stream",
     "text": [
      "\n",
      "Teste de Independência do Qui-Quadrado:\n",
      "Hipótese Nula: As duas variáveis são independentes\n",
      "Hipótese Alternativa: As duas variáveis não são independentes\n",
      "Estatística de Teste: 14.6129\n",
      "valor-p: 0.0056\n",
      "Graus de Liberdade: 4\n"
     ]
    }
   ],
   "source": [
    "chi2, p, dof, expected = chi2_contingency(pd.crosstab(df[\"AdoptionSpeed\"], df[\"PayFee\"]))\n",
    "print(\"\\nTeste de Independência do Qui-Quadrado:\")\n",
    "print(\"Hipótese Nula: As duas variáveis são independentes\")\n",
    "print(\"Hipótese Alternativa: As duas variáveis não são independentes\")\n",
    "print(f\"Estatística de Teste: {chi2:.4f}\")\n",
    "print(f\"valor-p: {p:.4f}\")\n",
    "print(f\"Graus de Liberdade: {dof}\")"
   ]
  },
  {
   "cell_type": "markdown",
   "metadata": {},
   "source": [
    "Para um nível de significância superior ao valor-p (5%, por exemplo), rejeita-se a hipótese nula de que as duas variáveis são independentes. Existe evidência estatística que as duas variáves estão associadas."
   ]
  },
  {
   "cell_type": "markdown",
   "metadata": {},
   "source": [
    "# Maturity Size"
   ]
  },
  {
   "cell_type": "code",
   "execution_count": 16,
   "metadata": {},
   "outputs": [
    {
     "data": {
      "image/png": "[encoded data removed]",
      "text/plain": [
       "<Figure size 800x500 with 1 Axes>"
      ]
     },
     "metadata": {},
     "output_type": "display_data"
    }
   ],
   "source": [
    "maturity_counts = df['MaturitySize'].value_counts().sort_index()\n",
    "maturity_percentages = (maturity_counts / len(df)) * 100\n",
    "\n",
    "plt.figure(figsize=(8, 5))\n",
    "bars = sns.barplot(x=maturity_counts.index, y=maturity_counts.values, color=\"skyblue\", edgecolor=\"black\")\n",
    "\n",
    "for bar, percentage in zip(bars.patches, maturity_percentages):\n",
    "    plt.text(\n",
    "        bar.get_x() + bar.get_width() / 2,  # X-coordinate\n",
    "        bar.get_height() + 50,             # Y-coordinate (slightly above the bar)\n",
    "        f'{percentage:.1f}%',              # Format percentage\n",
    "        ha='center',                       # Center-align text\n",
    "        va='bottom',                       # Align text to bottom\n",
    "        fontsize=10,                       # Font size\n",
    "        color='black'                      # Text color\n",
    "    )\n",
    "\n",
    "plt.title(\"Maturity Size\")\n",
    "plt.xlabel(\"Class\")\n",
    "plt.ylabel(\"Count\")\n",
    "plt.xticks(rotation=0)\n",
    "plt.show()"
   ]
  },
  {
   "cell_type": "markdown",
   "metadata": {},
   "source": [
    "Não existem valores em falta. Aproximadamente 68.7% dos perfis correspondem a animais de porte médio, 22.6% a animais de porte pequeno, 8.4% a animais de porte grande e apenas 0.2% a animais de porte muito grande. De realçar que a maioria dos perfis correspondem a animais com uma idade inferior ou igual a 12 meses, o que significa que ainda não atingiram o tamanho adulto, pelo que, é possível que este atributo não seja muito preciso."
   ]
  },
  {
   "cell_type": "code",
   "execution_count": 17,
   "metadata": {},
   "outputs": [
    {
     "data": {
      "image/png": "[encoded data removed]",
      "text/plain": [
       "<Figure size 800x600 with 1 Axes>"
      ]
     },
     "metadata": {},
     "output_type": "display_data"
    }
   ],
   "source": [
    "maturity_adoption_ct_percentage = pd.crosstab(df['MaturitySize'], df['AdoptionSpeed'], normalize='index') * 100\n",
    "maturity_adoption_ct_percentage.plot(kind='bar', stacked=True, figsize=(8, 6))\n",
    "plt.title('Adoption Speed Proportions by Maturity Size')\n",
    "plt.xlabel('Maturity Size')\n",
    "plt.ylabel('Percentage (%)')\n",
    "plt.legend(title='Adoption Speed', bbox_to_anchor=(1.05, 1), loc='upper left')\n",
    "plt.show()"
   ]
  },
  {
   "cell_type": "code",
   "execution_count": 18,
   "metadata": {},
   "outputs": [
    {
     "name": "stdout",
     "output_type": "stream",
     "text": [
      "AdoptionSpeed         0          1          2          3          4\n",
      "MaturitySize                                                       \n",
      "1              4.094256  25.625920  26.038292  18.880707  25.360825\n",
      "2              2.193110  18.524988  27.530325  22.901504  28.850073\n",
      "3              3.412698  24.126984  24.206349  19.682540  28.571429\n",
      "4              6.060606  21.212121  33.333333  30.303030   9.090909\n"
     ]
    }
   ],
   "source": [
    "print(maturity_adoption_ct_percentage)"
   ]
  },
  {
   "cell_type": "markdown",
   "metadata": {},
   "source": [
    "Os animais de porte muito grande tendem a ser adotados mais rapidamente e apenas 9% não foram adotados. No entanto apenas 0.2% dos perfis correspondem a esta categoria pelo que não é representativa. Os perfis de animais de porte pequeno tendem a ter uma maior probabilidade de ser adotados, assim como de ser adotados mais rapidamente, face aos perfis de porte médio e grande."
   ]
  },
  {
   "cell_type": "code",
   "execution_count": 19,
   "metadata": {},
   "outputs": [
    {
     "name": "stdout",
     "output_type": "stream",
     "text": [
      "Coeficiente de Spearman: 0.0500, valor-p: 0.0000\n"
     ]
    }
   ],
   "source": [
    "corr, p_corr = spearmanr(df[\"MaturitySize\"], df[\"AdoptionSpeed\"])\n",
    "print(f\"Coeficiente de Spearman: {corr:.4f}, valor-p: {p_corr:.4f}\")"
   ]
  },
  {
   "cell_type": "markdown",
   "metadata": {},
   "source": [
    "O valor do coeficiente de spearman é positivo, e atendendo ao valor-p, é estatisticamente significativo para qualquer nível de significância, pelo que existe uma correlação positiva entre as variáveis. De notar que dado a proximidade do coeficiente de Spearman ao valor zero, a correlação é muito fraca."
   ]
  },
  {
   "cell_type": "markdown",
   "metadata": {},
   "source": [
    "# Fur Length"
   ]
  },
  {
   "cell_type": "code",
   "execution_count": 20,
   "metadata": {},
   "outputs": [
    {
     "data": {
      "image/png": "[encoded data removed]",
      "text/plain": [
       "<Figure size 800x500 with 1 Axes>"
      ]
     },
     "metadata": {},
     "output_type": "display_data"
    }
   ],
   "source": [
    "fur_counts = df['FurLength'].value_counts().sort_index()\n",
    "fur_percentages = (fur_counts / len(df)) * 100\n",
    "\n",
    "plt.figure(figsize=(8, 5))\n",
    "bars = sns.barplot(x=fur_counts.index, y=fur_counts.values, color=\"skyblue\", edgecolor=\"black\")\n",
    "\n",
    "for bar, percentage in zip(bars.patches, fur_percentages):\n",
    "    plt.text(\n",
    "        bar.get_x() + bar.get_width() / 2,  # X-coordinate\n",
    "        bar.get_height() + 50,             # Y-coordinate (slightly above the bar)\n",
    "        f'{percentage:.1f}%',              # Format percentage\n",
    "        ha='center',                       # Center-align text\n",
    "        va='bottom',                       # Align text to bottom\n",
    "        fontsize=10,                       # Font size\n",
    "        color='black'                      # Text color\n",
    "    )\n",
    "\n",
    "plt.title(\"Fur Length\")\n",
    "plt.xlabel(\"Class\")\n",
    "plt.ylabel(\"Count\")\n",
    "plt.xticks(rotation=0)\n",
    "plt.show()"
   ]
  },
  {
   "cell_type": "markdown",
   "metadata": {},
   "source": [
    "Não existem valores em falta. Aproximadamente 58.7% dos perfis correspondem a animais de pelo pequeno, 35.8% a animais de pelo médio, e 5.5% a animais de pelo comprido."
   ]
  },
  {
   "cell_type": "code",
   "execution_count": 21,
   "metadata": {},
   "outputs": [
    {
     "data": {
      "image/png": "[encoded data removed]",
      "text/plain": [
       "<Figure size 800x600 with 1 Axes>"
      ]
     },
     "metadata": {},
     "output_type": "display_data"
    }
   ],
   "source": [
    "fur_adoption_ct_percentage = pd.crosstab(df['FurLength'], df['AdoptionSpeed'], normalize='index') * 100\n",
    "fur_adoption_ct_percentage.plot(kind='bar', stacked=True, figsize=(8, 6))\n",
    "plt.title('Adoption Speed Proportions by Fur Length')\n",
    "plt.xlabel('Fur Length')\n",
    "plt.ylabel('Percentage (%)')\n",
    "plt.legend(title='Adoption Speed', bbox_to_anchor=(1.05, 1), loc='upper left')\n",
    "plt.show()"
   ]
  },
  {
   "cell_type": "code",
   "execution_count": 22,
   "metadata": {},
   "outputs": [
    {
     "name": "stdout",
     "output_type": "stream",
     "text": [
      "AdoptionSpeed         0          1          2          3          4\n",
      "FurLength                                                          \n",
      "1              2.202543  18.721617  26.930064  22.638510  29.507266\n",
      "2              2.984518  22.141392  26.935273  20.723746  27.215072\n",
      "3              6.796117  30.825243  26.820388  18.689320  16.868932\n"
     ]
    }
   ],
   "source": [
    "print(fur_adoption_ct_percentage)"
   ]
  },
  {
   "cell_type": "markdown",
   "metadata": {},
   "source": [
    "Os animais de pelo comprido aparentam ter uma maior probabilidade de serem adotados, assim como de serem adotados mais rapidamente. Parece existir uma preferência por animais de pelo médio face a animais de pelo pequeno."
   ]
  },
  {
   "cell_type": "code",
   "execution_count": 23,
   "metadata": {},
   "outputs": [
    {
     "name": "stdout",
     "output_type": "stream",
     "text": [
      "Coeficiente de Spearman: -0.0798, valor-p: 0.0000\n"
     ]
    }
   ],
   "source": [
    "corr, p_corr = spearmanr(df[\"FurLength\"], df[\"AdoptionSpeed\"])\n",
    "print(f\"Coeficiente de Spearman: {corr:.4f}, valor-p: {p_corr:.4f}\")"
   ]
  },
  {
   "cell_type": "markdown",
   "metadata": {},
   "source": [
    "O valor do coeficiente de spearman é negativo, e atendendo ao valor-p, é estatisticamente significativo para qualquer nível de significância, pelo que existe uma correlação negativa entre as variáveis. De notar que dado a proximidade do coeficiente de Spearman ao valor zero, a correlação é muito fraca."
   ]
  },
  {
   "cell_type": "markdown",
   "metadata": {},
   "source": [
    "# Health"
   ]
  },
  {
   "cell_type": "code",
   "execution_count": 24,
   "metadata": {},
   "outputs": [
    {
     "data": {
      "image/png": "[encoded data removed]",
      "text/plain": [
       "<Figure size 800x500 with 1 Axes>"
      ]
     },
     "metadata": {},
     "output_type": "display_data"
    }
   ],
   "source": [
    "health_counts = df['Health'].value_counts().sort_index()\n",
    "health_percentages = (health_counts / len(df)) * 100\n",
    "\n",
    "plt.figure(figsize=(8, 5))\n",
    "bars = sns.barplot(x=health_counts.index, y=health_counts.values, color=\"skyblue\", edgecolor=\"black\")\n",
    "\n",
    "for bar, percentage in zip(bars.patches, health_percentages):\n",
    "    plt.text(\n",
    "        bar.get_x() + bar.get_width() / 2,  # X-coordinate\n",
    "        bar.get_height() + 50,             # Y-coordinate (slightly above the bar)\n",
    "        f'{percentage:.1f}%',              # Format percentage\n",
    "        ha='center',                       # Center-align text\n",
    "        va='bottom',                       # Align text to bottom\n",
    "        fontsize=10,                       # Font size\n",
    "        color='black'                      # Text color\n",
    "    )\n",
    "\n",
    "plt.title(\"Health\")\n",
    "plt.xlabel(\"Class\")\n",
    "plt.ylabel(\"Count\")\n",
    "plt.xticks(rotation=0)\n",
    "plt.show()"
   ]
  },
  {
   "cell_type": "markdown",
   "metadata": {},
   "source": [
    "96.6% dos perfis correspondem a animais saudáveis. 3.2% dos perfis correspondem a animais com ferimentos ligeiros e apenas 0.2% correspondem a animais com ferimentos graves. De realçar que é conhecido o estado de saúde de todos os perfis."
   ]
  },
  {
   "cell_type": "code",
   "execution_count": 25,
   "metadata": {},
   "outputs": [
    {
     "data": {
      "image/png": "[encoded data removed]",
      "text/plain": [
       "<Figure size 800x600 with 1 Axes>"
      ]
     },
     "metadata": {},
     "output_type": "display_data"
    }
   ],
   "source": [
    "health_adoption_ct_percentage = pd.crosstab(df['Health'], df['AdoptionSpeed'], normalize='index') * 100\n",
    "health_adoption_ct_percentage.plot(kind='bar', stacked=True, figsize=(8, 6))\n",
    "plt.title('Adoption Speed Proportions by Health')\n",
    "plt.xlabel('Health')\n",
    "plt.ylabel('Percentage (%)')\n",
    "plt.legend(title='Adoption Speed', bbox_to_anchor=(1.05, 1), loc='upper left')\n",
    "plt.show()"
   ]
  },
  {
   "cell_type": "code",
   "execution_count": 26,
   "metadata": {},
   "outputs": [
    {
     "name": "stdout",
     "output_type": "stream",
     "text": [
      "AdoptionSpeed         0          1          2          3          4\n",
      "Health                                                             \n",
      "1              2.707556  20.714187  27.110098  21.757149  27.711010\n",
      "2              3.534304  18.503119  22.037422  20.374220  35.550936\n",
      "3              2.941176   5.882353  17.647059  32.352941  41.176471\n"
     ]
    }
   ],
   "source": [
    "print(health_adoption_ct_percentage)"
   ]
  },
  {
   "cell_type": "markdown",
   "metadata": {},
   "source": [
    "Os animais com ferimentos graves tendem a ter uma menor probabilidade de serem adotados, assim como demorarem mais tempo a serem adotados. Apesar de não serem representativos, é interessante ver que aproximadamente 59% foram adotados. Curiosamente, os animais com ferimentos ligeiros têm uma maior probabilidade de serem adotados assim o que o anúncio é publicado."
   ]
  },
  {
   "cell_type": "code",
   "execution_count": 27,
   "metadata": {},
   "outputs": [
    {
     "name": "stdout",
     "output_type": "stream",
     "text": [
      "Coeficiente de Spearman: 0.0284, valor-p: 0.0005\n"
     ]
    }
   ],
   "source": [
    "corr, p_corr = spearmanr(df[\"Health\"], df[\"AdoptionSpeed\"])\n",
    "print(f\"Coeficiente de Spearman: {corr:.4f}, valor-p: {p_corr:.4f}\")"
   ]
  },
  {
   "cell_type": "markdown",
   "metadata": {},
   "source": []
  },
  {
   "cell_type": "markdown",
   "metadata": {},
   "source": [
    "## 0.3. Preprocessing Data"
   ]
  },
  {
   "cell_type": "markdown",
   "metadata": {},
   "source": [
    "Here you might perform data preprocessing that will be used for both supervised and unsupervised learning tasks."
   ]
  },
  {
   "cell_type": "markdown",
   "metadata": {},
   "source": [
    "..."
   ]
  },
  {
   "cell_type": "markdown",
   "metadata": {},
   "source": [
    "## Task 1 (Supervised Learning) - Predicting Adoption and Adoption Speed\n",
    "\n",
    "In this task you should target 3 classification tasks:\n",
    "1. **Predicting  Adoption (binary classification)**: create a new target from AdoptionSpeed that is 1 if AdoptionSpeed <> 4 and 0 otherwise.\n",
    "2. **Predicting AdoptionSpeed (multiclass classification)**: in this task you should use the original target `AdoptionSpeed`, whose values are in the set {0, 1, 2, 3 , 4} (5 classes). This is a very difficult problem. You might also want to consider 3 classes (for instance {0-1, 2-3, 4}, or other sets that make sense). \n",
    "3. **Train specialized models for cats and dogs**: train with cat/dog instances and check whether the classification performance changes/improves when Predicting Adoption and Predicting AdoptionSpeed. "
   ]
  },
  {
   "cell_type": "markdown",
   "metadata": {},
   "source": [
    "**You should:**\n",
    "\n",
    "* Choose **5 classifiers** from **at least 3 of the following categories**: Tree models, Probabilistic models, Distance-based models and Linear models. You can also try one Ensemble Classifier (https://scikit-learn.org/1.5/modules/ensemble.html). \n",
    "* Use **cross-validation** to evaluate the results. \n",
    "* Present and discuss the results for different evaluation measures, present confusion matrices. Remember that not only overall results are important. Check what happens when learning to predict each class. Remember also that some metrics might be more adequate than others according to the problem at hand.\n",
    "* Describe the parameters used for each classifier and how their choice impacted or not the results.\n",
    "* Choose the best classifier and fundament you choice.\n",
    "* **Discuss critically your choices and the results!**"
   ]
  },
  {
   "cell_type": "markdown",
   "metadata": {},
   "source": [
    "## 1.1. Specific Data Preprocessing for Classification"
   ]
  },
  {
   "cell_type": "raw",
   "metadata": {},
   "source": [
    "..."
   ]
  },
  {
   "cell_type": "markdown",
   "metadata": {},
   "source": [
    "## 1.2. Learning and Evaluating Classifiers"
   ]
  },
  {
   "cell_type": "markdown",
   "metadata": {},
   "source": [
    "..."
   ]
  },
  {
   "cell_type": "markdown",
   "metadata": {},
   "source": [
    "## 1.3. Classification - Final Discussion and Conclusions "
   ]
  },
  {
   "cell_type": "markdown",
   "metadata": {},
   "source": [
    "..."
   ]
  },
  {
   "cell_type": "markdown",
   "metadata": {},
   "source": [
    "## Task 2 (Unsupervised Learning) - Charactering Pets and their Adoption Speed"
   ]
  },
  {
   "cell_type": "markdown",
   "metadata": {},
   "source": [
    "In this task you should **use unsupervised learning to characterize pets and their adoption speed**. You have 2 clustering:\n",
    "1. **Use Clustering algorithms to find similar groups of adopted pets.** When animals are adopted, is it possible to find groups of pets with the same/similar adoption speed? Evaluate clustering results using **internal and external metrics**.\n",
    "2. **Be creative and define and explore your own unsupervised learning task!** What else would it be interesting to find out?"
   ]
  },
  {
   "cell_type": "markdown",
   "metadata": {},
   "source": [
    "## 2.1. Preprocessing Data for Clustering"
   ]
  },
  {
   "cell_type": "markdown",
   "metadata": {},
   "source": [
    "..."
   ]
  },
  {
   "cell_type": "markdown",
   "metadata": {
    "collapsed": true,
    "jupyter": {
     "outputs_hidden": true
    }
   },
   "source": [
    "## 2.2. Learning and Evaluating Clusterings"
   ]
  },
  {
   "cell_type": "markdown",
   "metadata": {},
   "source": [
    "..."
   ]
  },
  {
   "cell_type": "markdown",
   "metadata": {},
   "source": [
    "## 2.3. Clustering - Final Discussion and Conclusions"
   ]
  },
  {
   "cell_type": "markdown",
   "metadata": {},
   "source": [
    "..."
   ]
  },
  {
   "cell_type": "markdown",
   "metadata": {},
   "source": [
    "## 3. Final Comments and Conclusions"
   ]
  },
  {
   "cell_type": "markdown",
   "metadata": {},
   "source": [
    "..."
   ]
  }
 ],
 "metadata": {
  "kernelspec": {
   "display_name": "Python 3 (ipykernel)",
   "language": "python",
   "name": "python3"
  },
  "language_info": {
   "codemirror_mode": {
    "name": "ipython",
    "version": 3
   },
   "file_extension": ".py",
   "mimetype": "text/x-python",
   "name": "python",
   "nbconvert_exporter": "python",
   "pygments_lexer": "ipython3",
   "version": "3.11.7"
  }
 },
 "nbformat": 4,
 "nbformat_minor": 4
}
